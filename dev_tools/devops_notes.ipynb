{
 "cells": [
  {
   "cell_type": "markdown",
   "id": "bbd6fc4f-88bc-49f1-a362-f0595faf75a2",
   "metadata": {},
   "source": [
    "# App DevOps Notes\n",
    "___"
   ]
  },
  {
   "cell_type": "code",
   "execution_count": 1,
   "id": "e52cfbef-81fc-4a4a-b17f-2fd93cdcae90",
   "metadata": {},
   "outputs": [
    {
     "name": "stdout",
     "output_type": "stream",
     "text": [
      "['C:\\\\Users\\\\admin\\\\Desktop\\\\2024_projects\\\\showcase\\\\dev_tools',\n",
      " 'C:\\\\Users\\\\admin\\\\anaconda3\\\\envs\\\\blockchain\\\\python310.zip',\n",
      " 'C:\\\\Users\\\\admin\\\\anaconda3\\\\envs\\\\blockchain\\\\DLLs',\n",
      " 'C:\\\\Users\\\\admin\\\\anaconda3\\\\envs\\\\blockchain\\\\lib',\n",
      " 'C:\\\\Users\\\\admin\\\\anaconda3\\\\envs\\\\blockchain',\n",
      " '',\n",
      " 'C:\\\\Users\\\\admin\\\\anaconda3\\\\envs\\\\blockchain\\\\lib\\\\site-packages',\n",
      " 'C:\\\\Users\\\\admin\\\\anaconda3\\\\envs\\\\blockchain\\\\lib\\\\site-packages\\\\win32',\n",
      " 'C:\\\\Users\\\\admin\\\\anaconda3\\\\envs\\\\blockchain\\\\lib\\\\site-packages\\\\win32\\\\lib',\n",
      " 'C:\\\\Users\\\\admin\\\\anaconda3\\\\envs\\\\blockchain\\\\lib\\\\site-packages\\\\Pythonwin']\n"
     ]
    }
   ],
   "source": [
    "import sys\n",
    "from pprint import PrettyPrinter\n",
    "pp = PrettyPrinter()\n",
    "\n",
    "# Python will look and search the following paths listed below every time it is ask to import packages\n",
    "pp.pprint(sys.path)"
   ]
  },
  {
   "cell_type": "code",
   "execution_count": 2,
   "id": "aa0a02b3-96a2-402a-b601-887f674c7d5d",
   "metadata": {},
   "outputs": [],
   "source": [
    "from pathlib import Path\n",
    "from importlib import reload\n",
    "import matplotlib_inline"
   ]
  },
  {
   "cell_type": "code",
   "execution_count": 3,
   "id": "7590c948-16d3-46b4-8d24-23c951cd333b",
   "metadata": {},
   "outputs": [
    {
     "name": "stdout",
     "output_type": "stream",
     "text": [
      "# conda environments:\n",
      "#\n",
      "api                      C:\\Users\\admin\\.conda\\envs\\api\n",
      "dev                      C:\\Users\\admin\\.conda\\envs\\dev\n",
      "base                     C:\\Users\\admin\\anaconda3\n",
      "FinBlockchain         *  C:\\Users\\admin\\anaconda3\\envs\\FinBlockchain\n",
      "blockchain               C:\\Users\\admin\\anaconda3\\envs\\blockchain\n",
      "defi                     C:\\Users\\admin\\anaconda3\\envs\\defi\n",
      "fintrader                C:\\Users\\admin\\anaconda3\\envs\\fintrader\n",
      "machineLearning          C:\\Users\\admin\\anaconda3\\envs\\machineLearning\n",
      "machlearn                C:\\Users\\admin\\anaconda3\\envs\\machlearn\n",
      "pdf_docs                 C:\\Users\\admin\\anaconda3\\envs\\pdf_docs\n",
      "r                        C:\\Users\\admin\\anaconda3\\envs\\r\n",
      "stockpicker              C:\\Users\\admin\\anaconda3\\envs\\stockpicker\n",
      "time                     C:\\Users\\admin\\anaconda3\\envs\\time\n",
      "\n",
      "\n",
      "Note: you may need to restart the kernel to use updated packages.\n"
     ]
    }
   ],
   "source": [
    "conda info --envs"
   ]
  },
  {
   "cell_type": "code",
   "execution_count": 4,
   "id": "b0304618-ce21-4205-8647-6c5f7b334cd8",
   "metadata": {},
   "outputs": [
    {
     "data": {
      "text/plain": [
       "WindowsPath('C:/Users/admin/Desktop/2024_projects/showcase/dev_tools')"
      ]
     },
     "execution_count": 4,
     "metadata": {},
     "output_type": "execute_result"
    }
   ],
   "source": [
    "cwd = Path.cwd()\n",
    "cwd"
   ]
  },
  {
   "cell_type": "code",
   "execution_count": 5,
   "id": "dd59a425-bd85-4927-ba4e-59b69d150a8a",
   "metadata": {},
   "outputs": [],
   "source": [
    "join = cwd.parents[0]"
   ]
  },
  {
   "cell_type": "code",
   "execution_count": 6,
   "id": "a027d284-8bc9-4cf8-9bac-a946a9cc6faf",
   "metadata": {},
   "outputs": [
    {
     "name": "stdout",
     "output_type": "stream",
     "text": [
      "C:\\Users\\admin\\Desktop\\2024_projects\\showcase\n"
     ]
    }
   ],
   "source": [
    "cd .."
   ]
  },
  {
   "cell_type": "code",
   "execution_count": 7,
   "id": "9c1a8f6a-af1d-4687-9e11-9edccc86f6d3",
   "metadata": {},
   "outputs": [
    {
     "data": {
      "text/plain": [
       "'C:\\\\Users\\\\admin\\\\Desktop\\\\2024_projects\\\\showcase'"
      ]
     },
     "execution_count": 7,
     "metadata": {},
     "output_type": "execute_result"
    }
   ],
   "source": [
    "pwd"
   ]
  },
  {
   "cell_type": "code",
   "execution_count": 8,
   "id": "b590e40f-1be4-462c-829b-88db293e08a6",
   "metadata": {},
   "outputs": [
    {
     "name": "stdout",
     "output_type": "stream",
     "text": [
      "pct_change.py is run as import.\n"
     ]
    },
    {
     "name": "stderr",
     "output_type": "stream",
     "text": [
      "2024-03-14 21:22:27.984 \n",
      "  \u001b[33m\u001b[1mWarning:\u001b[0m to view this Streamlit app on a browser, run it with the following\n",
      "  command:\n",
      "\n",
      "    streamlit run C:\\Users\\admin\\anaconda3\\envs\\blockchain\\lib\\site-packages\\ipykernel_launcher.py [ARGUMENTS]\n"
     ]
    },
    {
     "name": "stdout",
     "output_type": "stream",
     "text": [
      "Run as import\n"
     ]
    }
   ],
   "source": [
    "import app_main"
   ]
  },
  {
   "cell_type": "code",
   "execution_count": 9,
   "id": "c3a3977c-f786-4274-bf53-017fc64be08f",
   "metadata": {},
   "outputs": [
    {
     "name": "stdout",
     "output_type": "stream",
     "text": [
      "['__builtins__', '__cached__', '__doc__', '__file__', '__loader__', '__name__', '__package__', '__spec__', 'cln', 'csv_ex', 'dfs', 'k', 'st', 'symbol_dict', 'sys', 'tab1', 'tab10', 'tab11', 'tab2', 'tab3', 'tab4', 'tab5', 'tab6', 'tab7', 'tab8', 'tab9', 'v']\n"
     ]
    }
   ],
   "source": [
    "print(dir(app_main))"
   ]
  },
  {
   "cell_type": "code",
   "execution_count": 10,
   "id": "f26399b6-a3cf-4a96-9db9-bdbca54e65b7",
   "metadata": {},
   "outputs": [],
   "source": [
    "import frontend"
   ]
  },
  {
   "cell_type": "code",
   "execution_count": 11,
   "id": "9f95683d-1403-492c-b26c-4cf6c227de64",
   "metadata": {},
   "outputs": [
    {
     "name": "stdout",
     "output_type": "stream",
     "text": [
      "['Path', '__builtins__', '__cached__', '__doc__', '__file__', '__loader__', '__name__', '__package__', '__path__', '__spec__', 'csv_ex', 'csv_example', 'pct', 'pd', 'st']\n"
     ]
    }
   ],
   "source": [
    "print(dir(frontend))"
   ]
  },
  {
   "cell_type": "code",
   "execution_count": 12,
   "id": "d204bbf7-b098-4d94-992f-efe9525f4227",
   "metadata": {},
   "outputs": [
    {
     "name": "stdout",
     "output_type": "stream",
     "text": [
      "['Path', '__builtins__', '__cached__', '__doc__', '__file__', '__loader__', '__name__', '__package__', '__spec__', 'amzn_csv', 'csv_dict', 'data', 'pct', 'sox_csv', 'st']\n"
     ]
    }
   ],
   "source": [
    "print(dir(frontend.csv_example))"
   ]
  },
  {
   "cell_type": "code",
   "execution_count": 13,
   "id": "18b020b8-ab60-4fd1-b34c-1286e29322db",
   "metadata": {},
   "outputs": [
    {
     "name": "stdout",
     "output_type": "stream",
     "text": [
      "['__builtins__', '__cached__', '__doc__', '__file__', '__loader__', '__name__', '__package__', '__spec__', 'csv_path', 'main', 'pd', 'read_csv', 'sys']\n"
     ]
    }
   ],
   "source": [
    "print(dir(frontend.pct))"
   ]
  },
  {
   "cell_type": "code",
   "execution_count": 14,
   "id": "085dc58a-3156-4039-86fe-fbfa6d387db2",
   "metadata": {},
   "outputs": [],
   "source": [
    "pd = frontend.pct.pd"
   ]
  },
  {
   "cell_type": "code",
   "execution_count": 15,
   "id": "c73c30b1-b622-46d3-9f86-565a6d629ec7",
   "metadata": {},
   "outputs": [],
   "source": [
    "stock_data = frontend.csv_example.data()"
   ]
  },
  {
   "cell_type": "code",
   "execution_count": 16,
   "id": "6a7bb1fc-3913-4c06-8e29-fae4bfe2715d",
   "metadata": {},
   "outputs": [
    {
     "data": {
      "text/plain": [
       "dict"
      ]
     },
     "execution_count": 16,
     "metadata": {},
     "output_type": "execute_result"
    }
   ],
   "source": [
    "type(stock_data)"
   ]
  },
  {
   "cell_type": "code",
   "execution_count": 17,
   "id": "b8418024-9e99-419f-847d-70d5ab7dc10d",
   "metadata": {},
   "outputs": [],
   "source": [
    "symbols = app_main.symbol_dict"
   ]
  },
  {
   "cell_type": "raw",
   "id": "d2c1d5a0-4418-4e17-a5f5-20102af9e08c",
   "metadata": {},
   "source": [
    "# TODO: automate column reading (re), lowercase, keep the ohlc.\n",
    "ohylc = [\"date\", \"open\", \"high\", \"low\", \"close\"]\n",
    "columns = []\n",
    "for k, v in app_main.symbol_dict.items():\n",
    "    df = stock_data[k]\n",
    "    for key in df.keys():\n",
    "        \n",
    "        columns.append(key.lower())\n",
    "       \n",
    "\n",
    "    # df.rename_axis=columns\n",
    "\n",
    "    \n",
    "    \n",
    "    # for col in cols:\n",
    "    #     label = col.lower()\n",
    "    #     columns.append(label)\n",
    "print(columns)"
   ]
  },
  {
   "cell_type": "code",
   "execution_count": 18,
   "id": "05bcabfc-b77d-4340-83d4-b43a45f98e47",
   "metadata": {},
   "outputs": [
    {
     "data": {
      "text/plain": [
       "{'amzn': 'AMAZON', 'sox': 'SOX'}"
      ]
     },
     "execution_count": 18,
     "metadata": {},
     "output_type": "execute_result"
    }
   ],
   "source": [
    "symbols"
   ]
  },
  {
   "cell_type": "code",
   "execution_count": 19,
   "id": "08d90a0b-fcb3-4b1d-8efe-0986bc8ecf38",
   "metadata": {},
   "outputs": [],
   "source": [
    "ohlc = [\"date\", \"open\", \"high\", \"low\", \"close\"]"
   ]
  },
  {
   "cell_type": "code",
   "execution_count": 20,
   "id": "fabfcc47-17ba-4dbc-8bfb-6bfd432d1d37",
   "metadata": {},
   "outputs": [
    {
     "name": "stdout",
     "output_type": "stream",
     "text": [
      "<class 'pandas.core.frame.DataFrame'>\n",
      "RangeIndex: 235 entries, 0 to 234\n",
      "Data columns (total 5 columns):\n",
      " #   Column  Non-Null Count  Dtype  \n",
      "---  ------  --------------  -----  \n",
      " 0   date    235 non-null    object \n",
      " 1   open    235 non-null    float64\n",
      " 2   high    235 non-null    float64\n",
      " 3   low     235 non-null    float64\n",
      " 4   close   235 non-null    float64\n",
      "dtypes: float64(4), object(1)\n",
      "memory usage: 9.3+ KB\n"
     ]
    }
   ],
   "source": [
    "amzn_df = stock_data['amzn'][['Date', 'Open', 'High', 'Low', 'Close']]\n",
    "amzn_df.columns=ohlc\n",
    "amzn_df.info()"
   ]
  },
  {
   "cell_type": "code",
   "execution_count": 21,
   "id": "d2a6d83d-f039-4865-a589-3a1b06ac5208",
   "metadata": {},
   "outputs": [
    {
     "data": {
      "text/html": [
       "<div>\n",
       "<style scoped>\n",
       "    .dataframe tbody tr th:only-of-type {\n",
       "        vertical-align: middle;\n",
       "    }\n",
       "\n",
       "    .dataframe tbody tr th {\n",
       "        vertical-align: top;\n",
       "    }\n",
       "\n",
       "    .dataframe thead th {\n",
       "        text-align: right;\n",
       "    }\n",
       "</style>\n",
       "<table border=\"1\" class=\"dataframe\">\n",
       "  <thead>\n",
       "    <tr style=\"text-align: right;\">\n",
       "      <th></th>\n",
       "      <th>date</th>\n",
       "      <th>open</th>\n",
       "      <th>high</th>\n",
       "      <th>low</th>\n",
       "      <th>close</th>\n",
       "    </tr>\n",
       "  </thead>\n",
       "  <tbody>\n",
       "    <tr>\n",
       "      <th>0</th>\n",
       "      <td>2015-05-26 09:30:00</td>\n",
       "      <td>719.51</td>\n",
       "      <td>720.32</td>\n",
       "      <td>714.11</td>\n",
       "      <td>714.70</td>\n",
       "    </tr>\n",
       "    <tr>\n",
       "      <th>1</th>\n",
       "      <td>2015-05-26 10:00:00</td>\n",
       "      <td>714.70</td>\n",
       "      <td>715.58</td>\n",
       "      <td>712.02</td>\n",
       "      <td>713.89</td>\n",
       "    </tr>\n",
       "    <tr>\n",
       "      <th>2</th>\n",
       "      <td>2015-05-26 12:00:00</td>\n",
       "      <td>713.89</td>\n",
       "      <td>714.56</td>\n",
       "      <td>711.89</td>\n",
       "      <td>711.95</td>\n",
       "    </tr>\n",
       "    <tr>\n",
       "      <th>3</th>\n",
       "      <td>2015-05-26 14:00:00</td>\n",
       "      <td>711.95</td>\n",
       "      <td>715.43</td>\n",
       "      <td>711.44</td>\n",
       "      <td>714.79</td>\n",
       "    </tr>\n",
       "    <tr>\n",
       "      <th>4</th>\n",
       "      <td>2015-05-27 09:30:00</td>\n",
       "      <td>716.49</td>\n",
       "      <td>723.03</td>\n",
       "      <td>716.21</td>\n",
       "      <td>721.83</td>\n",
       "    </tr>\n",
       "  </tbody>\n",
       "</table>\n",
       "</div>"
      ],
      "text/plain": [
       "                  date    open    high     low   close\n",
       "0  2015-05-26 09:30:00  719.51  720.32  714.11  714.70\n",
       "1  2015-05-26 10:00:00  714.70  715.58  712.02  713.89\n",
       "2  2015-05-26 12:00:00  713.89  714.56  711.89  711.95\n",
       "3  2015-05-26 14:00:00  711.95  715.43  711.44  714.79\n",
       "4  2015-05-27 09:30:00  716.49  723.03  716.21  721.83"
      ]
     },
     "execution_count": 21,
     "metadata": {},
     "output_type": "execute_result"
    }
   ],
   "source": [
    "sox_df = stock_data[\"sox\"]\n",
    "sox_df.columns = ohlc\n",
    "sox_df.head()"
   ]
  },
  {
   "cell_type": "code",
   "execution_count": 22,
   "id": "cc0662df-80a0-4b6d-9a9e-abb651a58f9f",
   "metadata": {},
   "outputs": [
    {
     "data": {
      "text/html": [
       "<div>\n",
       "<style scoped>\n",
       "    .dataframe tbody tr th:only-of-type {\n",
       "        vertical-align: middle;\n",
       "    }\n",
       "\n",
       "    .dataframe tbody tr th {\n",
       "        vertical-align: top;\n",
       "    }\n",
       "\n",
       "    .dataframe thead th {\n",
       "        text-align: right;\n",
       "    }\n",
       "</style>\n",
       "<table border=\"1\" class=\"dataframe\">\n",
       "  <thead>\n",
       "    <tr style=\"text-align: right;\">\n",
       "      <th></th>\n",
       "      <th>date</th>\n",
       "      <th>open</th>\n",
       "      <th>high</th>\n",
       "      <th>low</th>\n",
       "      <th>close</th>\n",
       "    </tr>\n",
       "  </thead>\n",
       "  <tbody>\n",
       "    <tr>\n",
       "      <th>0</th>\n",
       "      <td>2015-05-26 09:30:00</td>\n",
       "      <td>719.51</td>\n",
       "      <td>720.32</td>\n",
       "      <td>714.11</td>\n",
       "      <td>714.70</td>\n",
       "    </tr>\n",
       "    <tr>\n",
       "      <th>1</th>\n",
       "      <td>2015-05-26 10:00:00</td>\n",
       "      <td>714.70</td>\n",
       "      <td>715.58</td>\n",
       "      <td>712.02</td>\n",
       "      <td>713.89</td>\n",
       "    </tr>\n",
       "    <tr>\n",
       "      <th>2</th>\n",
       "      <td>2015-05-26 12:00:00</td>\n",
       "      <td>713.89</td>\n",
       "      <td>714.56</td>\n",
       "      <td>711.89</td>\n",
       "      <td>711.95</td>\n",
       "    </tr>\n",
       "    <tr>\n",
       "      <th>3</th>\n",
       "      <td>2015-05-26 14:00:00</td>\n",
       "      <td>711.95</td>\n",
       "      <td>715.43</td>\n",
       "      <td>711.44</td>\n",
       "      <td>714.79</td>\n",
       "    </tr>\n",
       "    <tr>\n",
       "      <th>4</th>\n",
       "      <td>2015-05-27 09:30:00</td>\n",
       "      <td>716.49</td>\n",
       "      <td>723.03</td>\n",
       "      <td>716.21</td>\n",
       "      <td>721.83</td>\n",
       "    </tr>\n",
       "    <tr>\n",
       "      <th>...</th>\n",
       "      <td>...</td>\n",
       "      <td>...</td>\n",
       "      <td>...</td>\n",
       "      <td>...</td>\n",
       "      <td>...</td>\n",
       "    </tr>\n",
       "    <tr>\n",
       "      <th>230</th>\n",
       "      <td>2015-08-14 12:00:00</td>\n",
       "      <td>629.91</td>\n",
       "      <td>631.61</td>\n",
       "      <td>627.41</td>\n",
       "      <td>630.61</td>\n",
       "    </tr>\n",
       "    <tr>\n",
       "      <th>231</th>\n",
       "      <td>2015-08-14 14:00:00</td>\n",
       "      <td>630.61</td>\n",
       "      <td>632.81</td>\n",
       "      <td>630.11</td>\n",
       "      <td>631.08</td>\n",
       "    </tr>\n",
       "    <tr>\n",
       "      <th>232</th>\n",
       "      <td>2015-08-17 09:30:00</td>\n",
       "      <td>629.15</td>\n",
       "      <td>629.15</td>\n",
       "      <td>625.39</td>\n",
       "      <td>627.66</td>\n",
       "    </tr>\n",
       "    <tr>\n",
       "      <th>233</th>\n",
       "      <td>2015-08-17 10:00:00</td>\n",
       "      <td>627.66</td>\n",
       "      <td>635.14</td>\n",
       "      <td>627.61</td>\n",
       "      <td>633.11</td>\n",
       "    </tr>\n",
       "    <tr>\n",
       "      <th>234</th>\n",
       "      <td>2015-08-17 12:00:00</td>\n",
       "      <td>633.11</td>\n",
       "      <td>636.66</td>\n",
       "      <td>633.11</td>\n",
       "      <td>634.16</td>\n",
       "    </tr>\n",
       "  </tbody>\n",
       "</table>\n",
       "<p>235 rows × 5 columns</p>\n",
       "</div>"
      ],
      "text/plain": [
       "                    date    open    high     low   close\n",
       "0    2015-05-26 09:30:00  719.51  720.32  714.11  714.70\n",
       "1    2015-05-26 10:00:00  714.70  715.58  712.02  713.89\n",
       "2    2015-05-26 12:00:00  713.89  714.56  711.89  711.95\n",
       "3    2015-05-26 14:00:00  711.95  715.43  711.44  714.79\n",
       "4    2015-05-27 09:30:00  716.49  723.03  716.21  721.83\n",
       "..                   ...     ...     ...     ...     ...\n",
       "230  2015-08-14 12:00:00  629.91  631.61  627.41  630.61\n",
       "231  2015-08-14 14:00:00  630.61  632.81  630.11  631.08\n",
       "232  2015-08-17 09:30:00  629.15  629.15  625.39  627.66\n",
       "233  2015-08-17 10:00:00  627.66  635.14  627.61  633.11\n",
       "234  2015-08-17 12:00:00  633.11  636.66  633.11  634.16\n",
       "\n",
       "[235 rows x 5 columns]"
      ]
     },
     "execution_count": 22,
     "metadata": {},
     "output_type": "execute_result"
    }
   ],
   "source": [
    "sox_235_df = sox_df.iloc[0:235].copy()\n",
    "sox_235_df"
   ]
  },
  {
   "cell_type": "markdown",
   "id": "a1472700-f600-4da7-8d76-663b666fdd90",
   "metadata": {},
   "source": [
    "# Visual: Altair, Holoviz, Plotly, Holoviews, GeoViews, Panel, Matplotlib, etc."
   ]
  },
  {
   "cell_type": "code",
   "execution_count": 23,
   "id": "905110dc-5478-41e1-9cf3-125deaf35011",
   "metadata": {},
   "outputs": [
    {
     "data": {
      "text/plain": [
       "'C:\\\\Users\\\\admin\\\\Desktop\\\\2024_projects\\\\showcase'"
      ]
     },
     "execution_count": 23,
     "metadata": {},
     "output_type": "execute_result"
    }
   ],
   "source": [
    "pwd"
   ]
  },
  {
   "cell_type": "code",
   "execution_count": 24,
   "id": "8e71204a-2378-46a4-9c2f-f2fd2b636990",
   "metadata": {},
   "outputs": [
    {
     "data": {
      "text/plain": [
       "<pandas.plotting._core.PlotAccessor object at 0x000001FCC27FFCA0>"
      ]
     },
     "execution_count": 24,
     "metadata": {},
     "output_type": "execute_result"
    }
   ],
   "source": [
    "sox_235_df.plot"
   ]
  },
  {
   "cell_type": "code",
   "execution_count": 25,
   "id": "3ced90b3-dc78-4603-85ba-b9868e9f2eca",
   "metadata": {},
   "outputs": [],
   "source": [
    "from frontend.csv_example import pct"
   ]
  },
  {
   "cell_type": "code",
   "execution_count": 26,
   "id": "f77e2993-ac3a-4fdf-8d8b-1526d519229b",
   "metadata": {},
   "outputs": [],
   "source": [
    "pd = pct.pd"
   ]
  },
  {
   "cell_type": "markdown",
   "id": "b11ac495-a73a-4e3c-a1aa-e6d413c5b47f",
   "metadata": {},
   "source": [
    "___\n",
    "# Altair\n",
    "___"
   ]
  },
  {
   "cell_type": "code",
   "execution_count": 27,
   "id": "b0917c48-962c-4e94-8741-2067fcf53413",
   "metadata": {},
   "outputs": [],
   "source": [
    "import altair as alt"
   ]
  },
  {
   "cell_type": "markdown",
   "id": "bb389f1b-9106-493c-9ada-d770d5229dfd",
   "metadata": {},
   "source": [
    "### Altair: Specifying Data\n",
    "#### Altair Basic Data-Model: **_`tabular` --> spreadsheet, and database table_**\n",
    "`Chart Objects (top-level):` **_Chart, LayerChart, VConcatChart, HConcatChart, RepeatChart, and FacetChart_**\n",
    "> **_Dataset_ -->** the first argument accepted by the chart-objects.\n",
    "> - `Individual Dataset:` contains a collection of records (rows) which in turn may contain any number of named data fields (columns)\n",
    ">\n",
    "> \n",
    "\n",
    "`Specifying Dataset:`\n",
    "- **Pandas DataFrame**\n",
    "- DataFrame supporting the **_DataFrame Interchange Protocol_** (contains a `__dataframe__ attribute`), e.g. **_polars and pyarrows_** (expiremental).\n",
    "- **Data (Data Schema Wrapper)** or **related objects (i.e. UrlData, InlineData, NamedData)**\n",
    "- **url string** pointing to a **_json or csv formatted text file_**\n",
    "- **geopandas GeoDataFrame, ShapelyGeometries, GeoJSON Objects** or other **objects supporting the `__geo_interface__`**\n",
    "- **Generated Datasets:** numerical sequences or geographic reference elements"
   ]
  },
  {
   "cell_type": "code",
   "execution_count": 28,
   "id": "4f92cf4a-0e26-4a5a-802e-733228d792d9",
   "metadata": {},
   "outputs": [
    {
     "data": {
      "text/html": [
       "<div>\n",
       "<style scoped>\n",
       "    .dataframe tbody tr th:only-of-type {\n",
       "        vertical-align: middle;\n",
       "    }\n",
       "\n",
       "    .dataframe tbody tr th {\n",
       "        vertical-align: top;\n",
       "    }\n",
       "\n",
       "    .dataframe thead th {\n",
       "        text-align: right;\n",
       "    }\n",
       "</style>\n",
       "<table border=\"1\" class=\"dataframe\">\n",
       "  <thead>\n",
       "    <tr style=\"text-align: right;\">\n",
       "      <th></th>\n",
       "      <th>x</th>\n",
       "      <th>y</th>\n",
       "    </tr>\n",
       "  </thead>\n",
       "  <tbody>\n",
       "    <tr>\n",
       "      <th>0</th>\n",
       "      <td>A</td>\n",
       "      <td>5</td>\n",
       "    </tr>\n",
       "    <tr>\n",
       "      <th>1</th>\n",
       "      <td>B</td>\n",
       "      <td>3</td>\n",
       "    </tr>\n",
       "    <tr>\n",
       "      <th>2</th>\n",
       "      <td>C</td>\n",
       "      <td>6</td>\n",
       "    </tr>\n",
       "    <tr>\n",
       "      <th>3</th>\n",
       "      <td>D</td>\n",
       "      <td>7</td>\n",
       "    </tr>\n",
       "    <tr>\n",
       "      <th>4</th>\n",
       "      <td>E</td>\n",
       "      <td>2</td>\n",
       "    </tr>\n",
       "  </tbody>\n",
       "</table>\n",
       "</div>"
      ],
      "text/plain": [
       "   x  y\n",
       "0  A  5\n",
       "1  B  3\n",
       "2  C  6\n",
       "3  D  7\n",
       "4  E  2"
      ]
     },
     "execution_count": 28,
     "metadata": {},
     "output_type": "execute_result"
    }
   ],
   "source": [
    "# Specify data as: pandas DataFrame\n",
    "# Create a dataframe.\n",
    "data = pd.DataFrame(\n",
    "    {\n",
    "        'x': ['A', 'B', 'C', 'D', 'E'],\n",
    "        'y': [5, 3, 6, 7, 2]\n",
    "    }\n",
    ")\n",
    "\n",
    "data"
   ]
  },
  {
   "cell_type": "code",
   "execution_count": 29,
   "id": "1907dfe2-0af7-4620-8faf-fc622c1a5e8c",
   "metadata": {},
   "outputs": [
    {
     "data": {
      "text/html": [
       "\n",
       "<div id=\"altair-viz-08ede529b13a4b828e139b755cb9b041\"></div>\n",
       "<script type=\"text/javascript\">\n",
       "  var VEGA_DEBUG = (typeof VEGA_DEBUG == \"undefined\") ? {} : VEGA_DEBUG;\n",
       "  (function(spec, embedOpt){\n",
       "    let outputDiv = document.currentScript.previousElementSibling;\n",
       "    if (outputDiv.id !== \"altair-viz-08ede529b13a4b828e139b755cb9b041\") {\n",
       "      outputDiv = document.getElementById(\"altair-viz-08ede529b13a4b828e139b755cb9b041\");\n",
       "    }\n",
       "    const paths = {\n",
       "      \"vega\": \"https://cdn.jsdelivr.net/npm//vega@5?noext\",\n",
       "      \"vega-lib\": \"https://cdn.jsdelivr.net/npm//vega-lib?noext\",\n",
       "      \"vega-lite\": \"https://cdn.jsdelivr.net/npm//vega-lite@4.17.0?noext\",\n",
       "      \"vega-embed\": \"https://cdn.jsdelivr.net/npm//vega-embed@6?noext\",\n",
       "    };\n",
       "\n",
       "    function maybeLoadScript(lib, version) {\n",
       "      var key = `${lib.replace(\"-\", \"\")}_version`;\n",
       "      return (VEGA_DEBUG[key] == version) ?\n",
       "        Promise.resolve(paths[lib]) :\n",
       "        new Promise(function(resolve, reject) {\n",
       "          var s = document.createElement('script');\n",
       "          document.getElementsByTagName(\"head\")[0].appendChild(s);\n",
       "          s.async = true;\n",
       "          s.onload = () => {\n",
       "            VEGA_DEBUG[key] = version;\n",
       "            return resolve(paths[lib]);\n",
       "          };\n",
       "          s.onerror = () => reject(`Error loading script: ${paths[lib]}`);\n",
       "          s.src = paths[lib];\n",
       "        });\n",
       "    }\n",
       "\n",
       "    function showError(err) {\n",
       "      outputDiv.innerHTML = `<div class=\"error\" style=\"color:red;\">${err}</div>`;\n",
       "      throw err;\n",
       "    }\n",
       "\n",
       "    function displayChart(vegaEmbed) {\n",
       "      vegaEmbed(outputDiv, spec, embedOpt)\n",
       "        .catch(err => showError(`Javascript Error: ${err.message}<br>This usually means there's a typo in your chart specification. See the javascript console for the full traceback.`));\n",
       "    }\n",
       "\n",
       "    if(typeof define === \"function\" && define.amd) {\n",
       "      requirejs.config({paths});\n",
       "      require([\"vega-embed\"], displayChart, err => showError(`Error loading script: ${err.message}`));\n",
       "    } else {\n",
       "      maybeLoadScript(\"vega\", \"5\")\n",
       "        .then(() => maybeLoadScript(\"vega-lite\", \"4.17.0\"))\n",
       "        .then(() => maybeLoadScript(\"vega-embed\", \"6\"))\n",
       "        .catch(showError)\n",
       "        .then(() => displayChart(vegaEmbed));\n",
       "    }\n",
       "  })({\"data\": {\"name\": \"data-865b0f7f64bff0a4a97037244e6476d1\"}, \"mark\": \"bar\", \"encoding\": {\"x\": {\"field\": \"x\", \"type\": \"nominal\"}, \"y\": {\"field\": \"y\", \"type\": \"quantitative\"}}, \"$schema\": \"https://vega.github.io/schema/vega-lite/v4.17.0.json\", \"datasets\": {\"data-865b0f7f64bff0a4a97037244e6476d1\": [{\"x\": \"A\", \"y\": 5}, {\"x\": \"B\", \"y\": 3}, {\"x\": \"C\", \"y\": 6}, {\"x\": \"D\", \"y\": 7}, {\"x\": \"E\", \"y\": 2}]}}, {\"mode\": \"vega-lite\"});\n",
       "</script>"
      ],
      "text/plain": [
       "alt.Chart(...)"
      ]
     },
     "execution_count": 29,
     "metadata": {},
     "output_type": "execute_result"
    }
   ],
   "source": [
    "# Create Altair chart-object: Chart\n",
    "alt.Chart(data=data).mark_bar().encode(\n",
    "    x='x',\n",
    "    y='y'\n",
    ")"
   ]
  },
  {
   "cell_type": "code",
   "execution_count": 30,
   "id": "99483089-98c3-4143-a36b-7a4a3a2f1bea",
   "metadata": {},
   "outputs": [
    {
     "data": {
      "text/html": [
       "\n",
       "<div id=\"altair-viz-d3d6a4dbed364817a17c5c8bd32dc5eb\"></div>\n",
       "<script type=\"text/javascript\">\n",
       "  var VEGA_DEBUG = (typeof VEGA_DEBUG == \"undefined\") ? {} : VEGA_DEBUG;\n",
       "  (function(spec, embedOpt){\n",
       "    let outputDiv = document.currentScript.previousElementSibling;\n",
       "    if (outputDiv.id !== \"altair-viz-d3d6a4dbed364817a17c5c8bd32dc5eb\") {\n",
       "      outputDiv = document.getElementById(\"altair-viz-d3d6a4dbed364817a17c5c8bd32dc5eb\");\n",
       "    }\n",
       "    const paths = {\n",
       "      \"vega\": \"https://cdn.jsdelivr.net/npm//vega@5?noext\",\n",
       "      \"vega-lib\": \"https://cdn.jsdelivr.net/npm//vega-lib?noext\",\n",
       "      \"vega-lite\": \"https://cdn.jsdelivr.net/npm//vega-lite@4.17.0?noext\",\n",
       "      \"vega-embed\": \"https://cdn.jsdelivr.net/npm//vega-embed@6?noext\",\n",
       "    };\n",
       "\n",
       "    function maybeLoadScript(lib, version) {\n",
       "      var key = `${lib.replace(\"-\", \"\")}_version`;\n",
       "      return (VEGA_DEBUG[key] == version) ?\n",
       "        Promise.resolve(paths[lib]) :\n",
       "        new Promise(function(resolve, reject) {\n",
       "          var s = document.createElement('script');\n",
       "          document.getElementsByTagName(\"head\")[0].appendChild(s);\n",
       "          s.async = true;\n",
       "          s.onload = () => {\n",
       "            VEGA_DEBUG[key] = version;\n",
       "            return resolve(paths[lib]);\n",
       "          };\n",
       "          s.onerror = () => reject(`Error loading script: ${paths[lib]}`);\n",
       "          s.src = paths[lib];\n",
       "        });\n",
       "    }\n",
       "\n",
       "    function showError(err) {\n",
       "      outputDiv.innerHTML = `<div class=\"error\" style=\"color:red;\">${err}</div>`;\n",
       "      throw err;\n",
       "    }\n",
       "\n",
       "    function displayChart(vegaEmbed) {\n",
       "      vegaEmbed(outputDiv, spec, embedOpt)\n",
       "        .catch(err => showError(`Javascript Error: ${err.message}<br>This usually means there's a typo in your chart specification. See the javascript console for the full traceback.`));\n",
       "    }\n",
       "\n",
       "    if(typeof define === \"function\" && define.amd) {\n",
       "      requirejs.config({paths});\n",
       "      require([\"vega-embed\"], displayChart, err => showError(`Error loading script: ${err.message}`));\n",
       "    } else {\n",
       "      maybeLoadScript(\"vega\", \"5\")\n",
       "        .then(() => maybeLoadScript(\"vega-lite\", \"4.17.0\"))\n",
       "        .then(() => maybeLoadScript(\"vega-embed\", \"6\"))\n",
       "        .catch(showError)\n",
       "        .then(() => displayChart(vegaEmbed));\n",
       "    }\n",
       "  })({\"data\": {\"values\": [{\"x\": \"A\", \"y\": 5}, {\"x\": \"B\", \"y\": 3}, {\"x\": \"C\", \"y\": 6}, {\"x\": \"D\", \"y\": 7}, {\"x\": \"E\", \"y\": 2}]}, \"mark\": \"bar\", \"encoding\": {\"x\": {\"field\": \"x\", \"type\": \"nominal\"}, \"y\": {\"field\": \"y\", \"type\": \"quantitative\"}}, \"$schema\": \"https://vega.github.io/schema/vega-lite/v4.17.0.json\"}, {\"mode\": \"vega-lite\"});\n",
       "</script>"
      ],
      "text/plain": [
       "alt.Chart(...)"
      ]
     },
     "execution_count": 30,
     "metadata": {},
     "output_type": "execute_result"
    }
   ],
   "source": [
    "# Specify data as: Data --> Data Schema Wrapper\n",
    "# Create \"Data\": JSON-style list\n",
    "data_data = alt.Data(values= [\n",
    "    {'x':'A', 'y':5},\n",
    "    {'x':'B', 'y':3},\n",
    "    {'x':'C', 'y':6},\n",
    "    {'x':'D', 'y':7},\n",
    "    {'x':'E', 'y':2}\n",
    "])\n",
    "\n",
    "# Create Altair chart-object: Chart\n",
    "alt.Chart(data_data).mark_bar().encode(\n",
    "    x='x:N', # specify 'nominal data'\n",
    "    y='y:Q'  # specify 'quantitative data'\n",
    ")"
   ]
  },
  {
   "cell_type": "markdown",
   "id": "04f7e8b5-3a5b-46de-a9a3-870069b3add9",
   "metadata": {},
   "source": [
    "#### `Encoding Channels:` **_x, y, color, shape, etc._** "
   ]
  },
  {
   "cell_type": "code",
   "execution_count": 31,
   "id": "d009870b-955c-4fe5-8c36-e21c14fc9575",
   "metadata": {},
   "outputs": [],
   "source": [
    "amzn_df_T = amzn_df.T\n",
    "date = amzn_df_T.loc['date']"
   ]
  },
  {
   "cell_type": "code",
   "execution_count": 32,
   "id": "6c20ef9e-94bd-4ebd-b51a-4e2887458674",
   "metadata": {},
   "outputs": [],
   "source": [
    "date1 = amzn_df['date']"
   ]
  },
  {
   "cell_type": "code",
   "execution_count": 33,
   "id": "a6b0477d-9bad-48f3-916c-4fd634300f1c",
   "metadata": {},
   "outputs": [
    {
     "data": {
      "text/html": [
       "<div>\n",
       "<style scoped>\n",
       "    .dataframe tbody tr th:only-of-type {\n",
       "        vertical-align: middle;\n",
       "    }\n",
       "\n",
       "    .dataframe tbody tr th {\n",
       "        vertical-align: top;\n",
       "    }\n",
       "\n",
       "    .dataframe thead th {\n",
       "        text-align: right;\n",
       "    }\n",
       "</style>\n",
       "<table border=\"1\" class=\"dataframe\">\n",
       "  <thead>\n",
       "    <tr style=\"text-align: right;\">\n",
       "      <th></th>\n",
       "      <th>0</th>\n",
       "      <th>1</th>\n",
       "      <th>2</th>\n",
       "      <th>3</th>\n",
       "      <th>4</th>\n",
       "      <th>5</th>\n",
       "      <th>6</th>\n",
       "      <th>7</th>\n",
       "      <th>8</th>\n",
       "      <th>9</th>\n",
       "      <th>...</th>\n",
       "      <th>225</th>\n",
       "      <th>226</th>\n",
       "      <th>227</th>\n",
       "      <th>228</th>\n",
       "      <th>229</th>\n",
       "      <th>230</th>\n",
       "      <th>231</th>\n",
       "      <th>232</th>\n",
       "      <th>233</th>\n",
       "      <th>234</th>\n",
       "    </tr>\n",
       "  </thead>\n",
       "  <tbody>\n",
       "    <tr>\n",
       "      <th>open</th>\n",
       "      <td>2026.50000</td>\n",
       "      <td>2038.109985</td>\n",
       "      <td>2006.510010</td>\n",
       "      <td>1938.709961</td>\n",
       "      <td>1971.000000</td>\n",
       "      <td>1928.270020</td>\n",
       "      <td>1994.000000</td>\n",
       "      <td>2000.000000</td>\n",
       "      <td>1992.930054</td>\n",
       "      <td>1954.729980</td>\n",
       "      <td>...</td>\n",
       "      <td>1930.000000</td>\n",
       "      <td>1891.119995</td>\n",
       "      <td>1898.109985</td>\n",
       "      <td>1871.719971</td>\n",
       "      <td>1845.069946</td>\n",
       "      <td>1770.219971</td>\n",
       "      <td>1792.229980</td>\n",
       "      <td>1773.989990</td>\n",
       "      <td>1806.000000</td>\n",
       "      <td>1828.949951</td>\n",
       "    </tr>\n",
       "    <tr>\n",
       "      <th>high</th>\n",
       "      <td>2050.50000</td>\n",
       "      <td>2040.380005</td>\n",
       "      <td>2007.500000</td>\n",
       "      <td>1975.199951</td>\n",
       "      <td>1973.040039</td>\n",
       "      <td>1988.880005</td>\n",
       "      <td>2000.000000</td>\n",
       "      <td>2008.760010</td>\n",
       "      <td>1993.650024</td>\n",
       "      <td>1956.819946</td>\n",
       "      <td>...</td>\n",
       "      <td>1932.229980</td>\n",
       "      <td>1909.890015</td>\n",
       "      <td>1899.550049</td>\n",
       "      <td>1897.920044</td>\n",
       "      <td>1846.359985</td>\n",
       "      <td>1788.670044</td>\n",
       "      <td>1793.770020</td>\n",
       "      <td>1798.930054</td>\n",
       "      <td>1834.260010</td>\n",
       "      <td>1831.089966</td>\n",
       "    </tr>\n",
       "    <tr>\n",
       "      <th>low</th>\n",
       "      <td>2013.00000</td>\n",
       "      <td>1989.890015</td>\n",
       "      <td>1935.209961</td>\n",
       "      <td>1937.349976</td>\n",
       "      <td>1931.520020</td>\n",
       "      <td>1917.000000</td>\n",
       "      <td>1962.439941</td>\n",
       "      <td>1982.030029</td>\n",
       "      <td>1959.219971</td>\n",
       "      <td>1887.410034</td>\n",
       "      <td>...</td>\n",
       "      <td>1890.540039</td>\n",
       "      <td>1883.479980</td>\n",
       "      <td>1849.439941</td>\n",
       "      <td>1844.010010</td>\n",
       "      <td>1808.020020</td>\n",
       "      <td>1748.780029</td>\n",
       "      <td>1753.400024</td>\n",
       "      <td>1757.000000</td>\n",
       "      <td>1798.109985</td>\n",
       "      <td>1802.219971</td>\n",
       "    </tr>\n",
       "    <tr>\n",
       "      <th>close</th>\n",
       "      <td>2039.51001</td>\n",
       "      <td>1994.819946</td>\n",
       "      <td>1958.310059</td>\n",
       "      <td>1952.069946</td>\n",
       "      <td>1939.010010</td>\n",
       "      <td>1987.150024</td>\n",
       "      <td>1990.000000</td>\n",
       "      <td>1989.869995</td>\n",
       "      <td>1970.189941</td>\n",
       "      <td>1908.030029</td>\n",
       "      <td>...</td>\n",
       "      <td>1912.449951</td>\n",
       "      <td>1898.530029</td>\n",
       "      <td>1866.780029</td>\n",
       "      <td>1855.319946</td>\n",
       "      <td>1823.239990</td>\n",
       "      <td>1765.130005</td>\n",
       "      <td>1787.829956</td>\n",
       "      <td>1793.400024</td>\n",
       "      <td>1832.890015</td>\n",
       "      <td>1807.579956</td>\n",
       "    </tr>\n",
       "  </tbody>\n",
       "</table>\n",
       "<p>4 rows × 235 columns</p>\n",
       "</div>"
      ],
      "text/plain": [
       "              0            1            2            3            4    \\\n",
       "open   2026.50000  2038.109985  2006.510010  1938.709961  1971.000000   \n",
       "high   2050.50000  2040.380005  2007.500000  1975.199951  1973.040039   \n",
       "low    2013.00000  1989.890015  1935.209961  1937.349976  1931.520020   \n",
       "close  2039.51001  1994.819946  1958.310059  1952.069946  1939.010010   \n",
       "\n",
       "               5            6            7            8            9    ...  \\\n",
       "open   1928.270020  1994.000000  2000.000000  1992.930054  1954.729980  ...   \n",
       "high   1988.880005  2000.000000  2008.760010  1993.650024  1956.819946  ...   \n",
       "low    1917.000000  1962.439941  1982.030029  1959.219971  1887.410034  ...   \n",
       "close  1987.150024  1990.000000  1989.869995  1970.189941  1908.030029  ...   \n",
       "\n",
       "               225          226          227          228          229  \\\n",
       "open   1930.000000  1891.119995  1898.109985  1871.719971  1845.069946   \n",
       "high   1932.229980  1909.890015  1899.550049  1897.920044  1846.359985   \n",
       "low    1890.540039  1883.479980  1849.439941  1844.010010  1808.020020   \n",
       "close  1912.449951  1898.530029  1866.780029  1855.319946  1823.239990   \n",
       "\n",
       "               230          231          232          233          234  \n",
       "open   1770.219971  1792.229980  1773.989990  1806.000000  1828.949951  \n",
       "high   1788.670044  1793.770020  1798.930054  1834.260010  1831.089966  \n",
       "low    1748.780029  1753.400024  1757.000000  1798.109985  1802.219971  \n",
       "close  1765.130005  1787.829956  1793.400024  1832.890015  1807.579956  \n",
       "\n",
       "[4 rows x 235 columns]"
      ]
     },
     "execution_count": 33,
     "metadata": {},
     "output_type": "execute_result"
    }
   ],
   "source": [
    "amzn_drop = amzn_df.drop('date', axis=1)\n",
    "amzn_drop_T = amzn_drop.T\n",
    "amzn_drop_T"
   ]
  },
  {
   "cell_type": "code",
   "execution_count": 34,
   "id": "18071071-c9b8-4141-a232-1ff08adb4fe3",
   "metadata": {},
   "outputs": [],
   "source": [
    "amzn_col = amzn_df.keys()"
   ]
  },
  {
   "cell_type": "code",
   "execution_count": 35,
   "id": "d0dbf35c-faab-4f20-9ee8-247e419eb594",
   "metadata": {},
   "outputs": [
    {
     "data": {
      "text/html": [
       "\n",
       "<div id=\"altair-viz-875a83abf54e4b758b6c40a4b1aa6ddb\"></div>\n",
       "<script type=\"text/javascript\">\n",
       "  var VEGA_DEBUG = (typeof VEGA_DEBUG == \"undefined\") ? {} : VEGA_DEBUG;\n",
       "  (function(spec, embedOpt){\n",
       "    let outputDiv = document.currentScript.previousElementSibling;\n",
       "    if (outputDiv.id !== \"altair-viz-875a83abf54e4b758b6c40a4b1aa6ddb\") {\n",
       "      outputDiv = document.getElementById(\"altair-viz-875a83abf54e4b758b6c40a4b1aa6ddb\");\n",
       "    }\n",
       "    const paths = {\n",
       "      \"vega\": \"https://cdn.jsdelivr.net/npm//vega@5?noext\",\n",
       "      \"vega-lib\": \"https://cdn.jsdelivr.net/npm//vega-lib?noext\",\n",
       "      \"vega-lite\": \"https://cdn.jsdelivr.net/npm//vega-lite@4.17.0?noext\",\n",
       "      \"vega-embed\": \"https://cdn.jsdelivr.net/npm//vega-embed@6?noext\",\n",
       "    };\n",
       "\n",
       "    function maybeLoadScript(lib, version) {\n",
       "      var key = `${lib.replace(\"-\", \"\")}_version`;\n",
       "      return (VEGA_DEBUG[key] == version) ?\n",
       "        Promise.resolve(paths[lib]) :\n",
       "        new Promise(function(resolve, reject) {\n",
       "          var s = document.createElement('script');\n",
       "          document.getElementsByTagName(\"head\")[0].appendChild(s);\n",
       "          s.async = true;\n",
       "          s.onload = () => {\n",
       "            VEGA_DEBUG[key] = version;\n",
       "            return resolve(paths[lib]);\n",
       "          };\n",
       "          s.onerror = () => reject(`Error loading script: ${paths[lib]}`);\n",
       "          s.src = paths[lib];\n",
       "        });\n",
       "    }\n",
       "\n",
       "    function showError(err) {\n",
       "      outputDiv.innerHTML = `<div class=\"error\" style=\"color:red;\">${err}</div>`;\n",
       "      throw err;\n",
       "    }\n",
       "\n",
       "    function displayChart(vegaEmbed) {\n",
       "      vegaEmbed(outputDiv, spec, embedOpt)\n",
       "        .catch(err => showError(`Javascript Error: ${err.message}<br>This usually means there's a typo in your chart specification. See the javascript console for the full traceback.`));\n",
       "    }\n",
       "\n",
       "    if(typeof define === \"function\" && define.amd) {\n",
       "      requirejs.config({paths});\n",
       "      require([\"vega-embed\"], displayChart, err => showError(`Error loading script: ${err.message}`));\n",
       "    } else {\n",
       "      maybeLoadScript(\"vega\", \"5\")\n",
       "        .then(() => maybeLoadScript(\"vega-lite\", \"4.17.0\"))\n",
       "        .then(() => maybeLoadScript(\"vega-embed\", \"6\"))\n",
       "        .catch(showError)\n",
       "        .then(() => displayChart(vegaEmbed));\n",
       "    }\n",
       "  })({\"data\": {\"name\": \"data-c533d1d93bf93cfff4de237aea0b1e89\"}, \"mark\": \"line\", \"encoding\": {\"x\": {\"field\": \"date\", \"type\": \"temporal\"}, \"y\": {\"field\": \"open\", \"type\": \"quantitative\"}}, \"$schema\": \"https://vega.github.io/schema/vega-lite/v4.17.0.json\", \"datasets\": {\"data-c533d1d93bf93cfff4de237aea0b1e89\": [{\"date\": \"2018-09-04\", \"open\": 2026.5, \"high\": 2050.5, \"low\": 2013.0, \"close\": 2039.51001}, {\"date\": \"2018-09-05\", \"open\": 2038.109985, \"high\": 2040.380005, \"low\": 1989.890015, \"close\": 1994.819946}, {\"date\": \"2018-09-06\", \"open\": 2006.51001, \"high\": 2007.5, \"low\": 1935.209961, \"close\": 1958.310059}, {\"date\": \"2018-09-07\", \"open\": 1938.709961, \"high\": 1975.199951, \"low\": 1937.349976, \"close\": 1952.069946}, {\"date\": \"2018-09-10\", \"open\": 1971.0, \"high\": 1973.040039, \"low\": 1931.52002, \"close\": 1939.01001}, {\"date\": \"2018-09-11\", \"open\": 1928.27002, \"high\": 1988.880005, \"low\": 1917.0, \"close\": 1987.150024}, {\"date\": \"2018-09-12\", \"open\": 1994.0, \"high\": 2000.0, \"low\": 1962.439941, \"close\": 1990.0}, {\"date\": \"2018-09-13\", \"open\": 2000.0, \"high\": 2008.76001, \"low\": 1982.030029, \"close\": 1989.869995}, {\"date\": \"2018-09-14\", \"open\": 1992.930054, \"high\": 1993.650024, \"low\": 1959.219971, \"close\": 1970.189941}, {\"date\": \"2018-09-17\", \"open\": 1954.72998, \"high\": 1956.819946, \"low\": 1887.410034, \"close\": 1908.030029}, {\"date\": \"2018-09-18\", \"open\": 1918.650024, \"high\": 1958.199951, \"low\": 1915.439941, \"close\": 1941.050049}, {\"date\": \"2018-09-19\", \"open\": 1940.5, \"high\": 1940.829956, \"low\": 1904.900024, \"close\": 1926.420044}, {\"date\": \"2018-09-20\", \"open\": 1938.579956, \"high\": 1955.0, \"low\": 1932.25, \"close\": 1944.300049}, {\"date\": \"2018-09-21\", \"open\": 1954.219971, \"high\": 1957.310059, \"low\": 1910.5, \"close\": 1915.01001}, {\"date\": \"2018-09-24\", \"open\": 1903.790039, \"high\": 1936.880005, \"low\": 1865.0, \"close\": 1934.359985}, {\"date\": \"2018-09-25\", \"open\": 1942.900024, \"high\": 1975.910034, \"low\": 1938.849976, \"close\": 1974.550049}, {\"date\": \"2018-09-26\", \"open\": 1968.5, \"high\": 1995.25, \"low\": 1961.52002, \"close\": 1974.849976}, {\"date\": \"2018-09-27\", \"open\": 1993.23999, \"high\": 2016.160034, \"low\": 1988.579956, \"close\": 2012.97998}, {\"date\": \"2018-09-28\", \"open\": 2004.410034, \"high\": 2026.52002, \"low\": 1996.459961, \"close\": 2003.0}, {\"date\": \"2018-10-01\", \"open\": 2021.98999, \"high\": 2033.189941, \"low\": 2003.599976, \"close\": 2004.359985}, {\"date\": \"2018-10-02\", \"open\": 1999.98999, \"high\": 2013.390015, \"low\": 1965.77002, \"close\": 1971.310059}, {\"date\": \"2018-10-03\", \"open\": 1981.699951, \"high\": 1989.699951, \"low\": 1949.810059, \"close\": 1952.76001}, {\"date\": \"2018-10-04\", \"open\": 1949.0, \"high\": 1956.0, \"low\": 1896.569946, \"close\": 1909.420044}, {\"date\": \"2018-10-05\", \"open\": 1917.98999, \"high\": 1929.079956, \"low\": 1862.829956, \"close\": 1889.650024}, {\"date\": \"2018-10-08\", \"open\": 1874.0, \"high\": 1902.0, \"low\": 1830.660034, \"close\": 1864.420044}, {\"date\": \"2018-10-09\", \"open\": 1859.98999, \"high\": 1896.680054, \"low\": 1852.319946, \"close\": 1870.319946}, {\"date\": \"2018-10-10\", \"open\": 1857.890015, \"high\": 1858.560059, \"low\": 1754.410034, \"close\": 1755.25}, {\"date\": \"2018-10-11\", \"open\": 1724.0, \"high\": 1755.400024, \"low\": 1685.099976, \"close\": 1719.359985}, {\"date\": \"2018-10-12\", \"open\": 1808.0, \"high\": 1808.949951, \"low\": 1742.530029, \"close\": 1788.609985}, {\"date\": \"2018-10-15\", \"open\": 1795.0, \"high\": 1795.050049, \"low\": 1734.22998, \"close\": 1760.949951}, {\"date\": \"2018-10-16\", \"open\": 1783.5, \"high\": 1823.880005, \"low\": 1761.550049, \"close\": 1819.959961}, {\"date\": \"2018-10-17\", \"open\": 1842.790039, \"high\": 1845.0, \"low\": 1807.0, \"close\": 1831.72998}, {\"date\": \"2018-10-18\", \"open\": 1821.48999, \"high\": 1830.150024, \"low\": 1767.869995, \"close\": 1770.719971}, {\"date\": \"2018-10-19\", \"open\": 1785.160034, \"high\": 1809.099976, \"low\": 1753.0, \"close\": 1764.030029}, {\"date\": \"2018-10-22\", \"open\": 1784.0, \"high\": 1809.5, \"low\": 1756.0, \"close\": 1789.300049}, {\"date\": \"2018-10-23\", \"open\": 1742.23999, \"high\": 1776.339966, \"low\": 1714.0, \"close\": 1768.699951}, {\"date\": \"2018-10-24\", \"open\": 1773.699951, \"high\": 1777.709961, \"low\": 1656.560059, \"close\": 1664.199951}, {\"date\": \"2018-10-25\", \"open\": 1703.339966, \"high\": 1794.810059, \"low\": 1692.01001, \"close\": 1782.170044}, {\"date\": \"2018-10-26\", \"open\": 1649.589966, \"high\": 1698.459961, \"low\": 1603.0, \"close\": 1642.810059}, {\"date\": \"2018-10-29\", \"open\": 1660.0, \"high\": 1665.73999, \"low\": 1495.0, \"close\": 1538.880005}, {\"date\": \"2018-10-30\", \"open\": 1486.160034, \"high\": 1540.98999, \"low\": 1476.359985, \"close\": 1530.420044}, {\"date\": \"2018-10-31\", \"open\": 1569.98999, \"high\": 1623.910034, \"low\": 1565.089966, \"close\": 1598.01001}, {\"date\": \"2018-11-01\", \"open\": 1623.530029, \"high\": 1670.449951, \"low\": 1598.439941, \"close\": 1665.530029}, {\"date\": \"2018-11-02\", \"open\": 1678.589966, \"high\": 1697.439941, \"low\": 1651.829956, \"close\": 1665.530029}, {\"date\": \"2018-11-05\", \"open\": 1657.569946, \"high\": 1658.089966, \"low\": 1596.359985, \"close\": 1627.800049}, {\"date\": \"2018-11-06\", \"open\": 1618.349976, \"high\": 1665.0, \"low\": 1614.550049, \"close\": 1642.810059}, {\"date\": \"2018-11-07\", \"open\": 1673.0, \"high\": 1759.22998, \"low\": 1664.079956, \"close\": 1755.48999}, {\"date\": \"2018-11-08\", \"open\": 1755.0, \"high\": 1784.0, \"low\": 1725.109985, \"close\": 1754.910034}, {\"date\": \"2018-11-09\", \"open\": 1732.5, \"high\": 1743.920044, \"low\": 1701.869995, \"close\": 1712.430054}, {\"date\": \"2018-11-12\", \"open\": 1698.23999, \"high\": 1708.550049, \"low\": 1630.01001, \"close\": 1636.849976}, {\"date\": \"2018-11-13\", \"open\": 1649.290039, \"high\": 1677.060059, \"low\": 1613.75, \"close\": 1631.170044}, {\"date\": \"2018-11-14\", \"open\": 1656.319946, \"high\": 1673.0, \"low\": 1597.069946, \"close\": 1599.01001}, {\"date\": \"2018-11-15\", \"open\": 1581.01001, \"high\": 1624.819946, \"low\": 1546.51001, \"close\": 1619.439941}, {\"date\": \"2018-11-16\", \"open\": 1587.5, \"high\": 1614.47998, \"low\": 1573.119995, \"close\": 1593.410034}, {\"date\": \"2018-11-19\", \"open\": 1577.01001, \"high\": 1581.189941, \"low\": 1503.359985, \"close\": 1512.290039}, {\"date\": \"2018-11-20\", \"open\": 1437.5, \"high\": 1534.75, \"low\": 1420.0, \"close\": 1495.459961}, {\"date\": \"2018-11-21\", \"open\": 1542.98999, \"high\": 1550.0, \"low\": 1515.0, \"close\": 1516.72998}, {\"date\": \"2018-11-23\", \"open\": 1517.0, \"high\": 1536.199951, \"low\": 1501.810059, \"close\": 1502.060059}, {\"date\": \"2018-11-26\", \"open\": 1539.0, \"high\": 1584.810059, \"low\": 1524.219971, \"close\": 1581.329956}, {\"date\": \"2018-11-27\", \"open\": 1575.98999, \"high\": 1597.650024, \"low\": 1558.01001, \"close\": 1581.420044}, {\"date\": \"2018-11-28\", \"open\": 1613.920044, \"high\": 1681.449951, \"low\": 1601.219971, \"close\": 1677.75}, {\"date\": \"2018-11-29\", \"open\": 1674.98999, \"high\": 1689.98999, \"low\": 1652.329956, \"close\": 1673.569946}, {\"date\": \"2018-11-30\", \"open\": 1679.5, \"high\": 1696.0, \"low\": 1666.5, \"close\": 1690.170044}, {\"date\": \"2018-12-03\", \"open\": 1769.459961, \"high\": 1778.339966, \"low\": 1730.0, \"close\": 1772.359985}, {\"date\": \"2018-12-04\", \"open\": 1756.0, \"high\": 1770.339966, \"low\": 1665.0, \"close\": 1668.400024}, {\"date\": \"2018-12-06\", \"open\": 1614.869995, \"high\": 1701.050049, \"low\": 1609.849976, \"close\": 1699.189941}, {\"date\": \"2018-12-07\", \"open\": 1705.069946, \"high\": 1718.930054, \"low\": 1625.459961, \"close\": 1629.130005}, {\"date\": \"2018-12-10\", \"open\": 1623.839966, \"high\": 1657.98999, \"low\": 1590.869995, \"close\": 1641.030029}, {\"date\": \"2018-12-11\", \"open\": 1678.0, \"high\": 1679.469971, \"low\": 1619.599976, \"close\": 1643.23999}, {\"date\": \"2018-12-12\", \"open\": 1669.0, \"high\": 1704.98999, \"low\": 1660.27002, \"close\": 1663.540039}, {\"date\": \"2018-12-13\", \"open\": 1680.0, \"high\": 1692.119995, \"low\": 1641.5, \"close\": 1658.380005}, {\"date\": \"2018-12-14\", \"open\": 1638.0, \"high\": 1642.569946, \"low\": 1585.0, \"close\": 1591.910034}, {\"date\": \"2018-12-17\", \"open\": 1566.0, \"high\": 1576.130005, \"low\": 1505.01001, \"close\": 1520.910034}, {\"date\": \"2018-12-18\", \"open\": 1540.0, \"high\": 1567.550049, \"low\": 1523.01001, \"close\": 1551.47998}, {\"date\": \"2018-12-19\", \"open\": 1543.050049, \"high\": 1584.530029, \"low\": 1483.180054, \"close\": 1495.079956}, {\"date\": \"2018-12-20\", \"open\": 1484.0, \"high\": 1509.5, \"low\": 1432.689941, \"close\": 1460.829956}, {\"date\": \"2018-12-21\", \"open\": 1464.98999, \"high\": 1480.0, \"low\": 1363.959961, \"close\": 1377.449951}, {\"date\": \"2018-12-24\", \"open\": 1346.0, \"high\": 1396.030029, \"low\": 1307.0, \"close\": 1343.959961}, {\"date\": \"2018-12-26\", \"open\": 1368.890015, \"high\": 1473.160034, \"low\": 1363.01001, \"close\": 1470.900024}, {\"date\": \"2018-12-27\", \"open\": 1454.199951, \"high\": 1469.0, \"low\": 1390.310059, \"close\": 1461.640015}, {\"date\": \"2018-12-28\", \"open\": 1473.349976, \"high\": 1513.469971, \"low\": 1449.0, \"close\": 1478.02002}, {\"date\": \"2018-12-31\", \"open\": 1510.800049, \"high\": 1520.76001, \"low\": 1487.0, \"close\": 1501.969971}, {\"date\": \"2019-01-02\", \"open\": 1465.199951, \"high\": 1553.359985, \"low\": 1460.930054, \"close\": 1539.130005}, {\"date\": \"2019-01-03\", \"open\": 1520.01001, \"high\": 1538.0, \"low\": 1497.109985, \"close\": 1500.280029}, {\"date\": \"2019-01-04\", \"open\": 1530.0, \"high\": 1594.0, \"low\": 1518.310059, \"close\": 1575.390015}, {\"date\": \"2019-01-07\", \"open\": 1602.310059, \"high\": 1634.560059, \"low\": 1589.189941, \"close\": 1629.51001}, {\"date\": \"2019-01-08\", \"open\": 1664.689941, \"high\": 1676.609985, \"low\": 1616.609985, \"close\": 1656.579956}, {\"date\": \"2019-01-09\", \"open\": 1652.97998, \"high\": 1667.800049, \"low\": 1641.400024, \"close\": 1659.420044}, {\"date\": \"2019-01-10\", \"open\": 1641.01001, \"high\": 1663.25, \"low\": 1621.619995, \"close\": 1656.219971}, {\"date\": \"2019-01-11\", \"open\": 1640.550049, \"high\": 1660.290039, \"low\": 1636.219971, \"close\": 1640.560059}, {\"date\": \"2019-01-14\", \"open\": 1615.0, \"high\": 1648.199951, \"low\": 1595.150024, \"close\": 1617.209961}, {\"date\": \"2019-01-15\", \"open\": 1632.0, \"high\": 1675.160034, \"low\": 1626.01001, \"close\": 1674.560059}, {\"date\": \"2019-01-16\", \"open\": 1684.219971, \"high\": 1705.0, \"low\": 1675.880005, \"close\": 1683.780029}, {\"date\": \"2019-01-17\", \"open\": 1680.0, \"high\": 1700.170044, \"low\": 1677.5, \"close\": 1693.219971}, {\"date\": \"2019-01-18\", \"open\": 1712.0, \"high\": 1716.199951, \"low\": 1691.540039, \"close\": 1696.199951}, {\"date\": \"2019-01-22\", \"open\": 1681.0, \"high\": 1681.869995, \"low\": 1610.199951, \"close\": 1632.170044}, {\"date\": \"2019-01-23\", \"open\": 1656.0, \"high\": 1657.430054, \"low\": 1612.0, \"close\": 1640.02002}, {\"date\": \"2019-01-24\", \"open\": 1641.069946, \"high\": 1657.26001, \"low\": 1631.780029, \"close\": 1654.930054}, {\"date\": \"2019-01-25\", \"open\": 1670.5, \"high\": 1683.47998, \"low\": 1661.609985, \"close\": 1670.569946}, {\"date\": \"2019-01-28\", \"open\": 1643.589966, \"high\": 1645.0, \"low\": 1614.089966, \"close\": 1637.890015}, {\"date\": \"2019-01-29\", \"open\": 1631.27002, \"high\": 1632.380005, \"low\": 1590.719971, \"close\": 1593.880005}, {\"date\": \"2019-01-30\", \"open\": 1623.0, \"high\": 1676.949951, \"low\": 1619.680054, \"close\": 1670.430054}, {\"date\": \"2019-01-31\", \"open\": 1692.849976, \"high\": 1736.410034, \"low\": 1679.079956, \"close\": 1718.72998}, {\"date\": \"2019-02-01\", \"open\": 1638.880005, \"high\": 1673.060059, \"low\": 1622.01001, \"close\": 1626.22998}, {\"date\": \"2019-02-04\", \"open\": 1623.0, \"high\": 1649.630005, \"low\": 1613.5, \"close\": 1633.310059}, {\"date\": \"2019-02-05\", \"open\": 1643.339966, \"high\": 1665.26001, \"low\": 1642.5, \"close\": 1658.810059}, {\"date\": \"2019-02-06\", \"open\": 1670.75, \"high\": 1672.26001, \"low\": 1633.339966, \"close\": 1640.26001}, {\"date\": \"2019-02-07\", \"open\": 1625.0, \"high\": 1625.540039, \"low\": 1592.910034, \"close\": 1614.369995}, {\"date\": \"2019-02-08\", \"open\": 1586.0, \"high\": 1588.589966, \"low\": 1566.76001, \"close\": 1588.219971}, {\"date\": \"2019-02-11\", \"open\": 1600.97998, \"high\": 1609.290039, \"low\": 1586.0, \"close\": 1591.0}, {\"date\": \"2019-02-12\", \"open\": 1604.0, \"high\": 1639.400024, \"low\": 1598.880005, \"close\": 1638.01001}, {\"date\": \"2019-02-13\", \"open\": 1647.0, \"high\": 1656.380005, \"low\": 1637.109985, \"close\": 1640.0}, {\"date\": \"2019-02-14\", \"open\": 1624.5, \"high\": 1637.900024, \"low\": 1606.060059, \"close\": 1622.650024}, {\"date\": \"2019-02-15\", \"open\": 1627.859985, \"high\": 1628.910034, \"low\": 1604.5, \"close\": 1607.949951}, {\"date\": \"2019-02-19\", \"open\": 1601.0, \"high\": 1634.0, \"low\": 1600.560059, \"close\": 1627.579956}, {\"date\": \"2019-02-20\", \"open\": 1630.0, \"high\": 1634.930054, \"low\": 1610.119995, \"close\": 1622.099976}, {\"date\": \"2019-02-21\", \"open\": 1619.849976, \"high\": 1623.560059, \"low\": 1600.910034, \"close\": 1619.439941}, {\"date\": \"2019-02-22\", \"open\": 1623.5, \"high\": 1634.939941, \"low\": 1621.170044, \"close\": 1631.560059}, {\"date\": \"2019-02-25\", \"open\": 1641.449951, \"high\": 1654.599976, \"low\": 1630.390015, \"close\": 1633.0}, {\"date\": \"2019-02-26\", \"open\": 1625.97998, \"high\": 1639.98999, \"low\": 1616.130005, \"close\": 1636.400024}, {\"date\": \"2019-02-27\", \"open\": 1628.180054, \"high\": 1641.810059, \"low\": 1615.099976, \"close\": 1641.089966}, {\"date\": \"2019-02-28\", \"open\": 1635.25, \"high\": 1651.77002, \"low\": 1633.829956, \"close\": 1639.829956}, {\"date\": \"2019-03-01\", \"open\": 1655.130005, \"high\": 1674.26001, \"low\": 1651.0, \"close\": 1671.72998}, {\"date\": \"2019-03-04\", \"open\": 1685.0, \"high\": 1709.430054, \"low\": 1674.359985, \"close\": 1696.170044}, {\"date\": \"2019-03-05\", \"open\": 1702.949951, \"high\": 1707.800049, \"low\": 1689.01001, \"close\": 1692.430054}, {\"date\": \"2019-03-06\", \"open\": 1695.969971, \"high\": 1697.75, \"low\": 1668.280029, \"close\": 1668.949951}, {\"date\": \"2019-03-07\", \"open\": 1667.369995, \"high\": 1669.75, \"low\": 1620.51001, \"close\": 1625.949951}, {\"date\": \"2019-03-08\", \"open\": 1604.01001, \"high\": 1622.719971, \"low\": 1586.569946, \"close\": 1620.800049}, {\"date\": \"2019-03-11\", \"open\": 1626.119995, \"high\": 1672.290039, \"low\": 1626.01001, \"close\": 1670.619995}, {\"date\": \"2019-03-12\", \"open\": 1669.0, \"high\": 1684.27002, \"low\": 1660.97998, \"close\": 1673.099976}, {\"date\": \"2019-03-13\", \"open\": 1683.0, \"high\": 1700.0, \"low\": 1679.349976, \"close\": 1690.810059}, {\"date\": \"2019-03-14\", \"open\": 1691.199951, \"high\": 1702.0, \"low\": 1684.339966, \"close\": 1686.219971}, {\"date\": \"2019-03-15\", \"open\": 1703.0, \"high\": 1718.800049, \"low\": 1693.130005, \"close\": 1712.359985}, {\"date\": \"2019-03-18\", \"open\": 1712.699951, \"high\": 1750.0, \"low\": 1712.630005, \"close\": 1742.150024}, {\"date\": \"2019-03-19\", \"open\": 1753.51001, \"high\": 1784.160034, \"low\": 1753.51001, \"close\": 1761.849976}, {\"date\": \"2019-03-20\", \"open\": 1769.939941, \"high\": 1799.5, \"low\": 1767.030029, \"close\": 1797.27002}, {\"date\": \"2019-03-21\", \"open\": 1796.26001, \"high\": 1823.75, \"low\": 1787.280029, \"close\": 1819.26001}, {\"date\": \"2019-03-22\", \"open\": 1810.170044, \"high\": 1818.97998, \"low\": 1763.109985, \"close\": 1764.77002}, {\"date\": \"2019-03-25\", \"open\": 1757.790039, \"high\": 1782.680054, \"low\": 1747.5, \"close\": 1774.26001}, {\"date\": \"2019-03-26\", \"open\": 1793.0, \"high\": 1805.77002, \"low\": 1773.359985, \"close\": 1783.76001}, {\"date\": \"2019-03-27\", \"open\": 1784.130005, \"high\": 1787.5, \"low\": 1745.680054, \"close\": 1765.699951}, {\"date\": \"2019-03-28\", \"open\": 1770.0, \"high\": 1777.930054, \"low\": 1753.469971, \"close\": 1773.420044}, {\"date\": \"2019-03-29\", \"open\": 1786.579956, \"high\": 1792.859985, \"low\": 1776.630005, \"close\": 1780.75}, {\"date\": \"2019-04-01\", \"open\": 1800.109985, \"high\": 1815.670044, \"low\": 1798.72998, \"close\": 1814.189941}, {\"date\": \"2019-04-02\", \"open\": 1811.02002, \"high\": 1820.0, \"low\": 1805.119995, \"close\": 1813.97998}, {\"date\": \"2019-04-03\", \"open\": 1826.719971, \"high\": 1830.0, \"low\": 1809.619995, \"close\": 1820.699951}, {\"date\": \"2019-04-04\", \"open\": 1820.650024, \"high\": 1828.75, \"low\": 1804.199951, \"close\": 1818.859985}, {\"date\": \"2019-04-05\", \"open\": 1829.0, \"high\": 1838.579956, \"low\": 1825.189941, \"close\": 1837.280029}, {\"date\": \"2019-04-08\", \"open\": 1833.22998, \"high\": 1850.199951, \"low\": 1825.109985, \"close\": 1849.859985}, {\"date\": \"2019-04-09\", \"open\": 1845.48999, \"high\": 1853.089966, \"low\": 1831.780029, \"close\": 1835.839966}, {\"date\": \"2019-04-10\", \"open\": 1841.0, \"high\": 1848.0, \"low\": 1828.810059, \"close\": 1847.329956}, {\"date\": \"2019-04-11\", \"open\": 1848.699951, \"high\": 1849.949951, \"low\": 1840.310059, \"close\": 1844.069946}, {\"date\": \"2019-04-12\", \"open\": 1848.400024, \"high\": 1851.5, \"low\": 1841.300049, \"close\": 1843.060059}, {\"date\": \"2019-04-15\", \"open\": 1842.0, \"high\": 1846.849976, \"low\": 1818.900024, \"close\": 1844.869995}, {\"date\": \"2019-04-16\", \"open\": 1851.349976, \"high\": 1869.77002, \"low\": 1848.0, \"close\": 1863.040039}, {\"date\": \"2019-04-17\", \"open\": 1872.98999, \"high\": 1876.469971, \"low\": 1860.439941, \"close\": 1864.819946}, {\"date\": \"2019-04-18\", \"open\": 1868.790039, \"high\": 1870.819946, \"low\": 1859.47998, \"close\": 1861.689941}, {\"date\": \"2019-04-22\", \"open\": 1855.400024, \"high\": 1888.420044, \"low\": 1845.640015, \"close\": 1887.310059}, {\"date\": \"2019-04-23\", \"open\": 1891.199951, \"high\": 1929.26001, \"low\": 1889.579956, \"close\": 1923.77002}, {\"date\": \"2019-04-24\", \"open\": 1925.0, \"high\": 1929.689941, \"low\": 1898.160034, \"close\": 1901.75}, {\"date\": \"2019-04-25\", \"open\": 1917.0, \"high\": 1922.449951, \"low\": 1900.310059, \"close\": 1902.25}, {\"date\": \"2019-04-26\", \"open\": 1929.0, \"high\": 1951.0, \"low\": 1898.0, \"close\": 1950.630005}, {\"date\": \"2019-04-29\", \"open\": 1949.0, \"high\": 1956.339966, \"low\": 1934.089966, \"close\": 1938.430054}, {\"date\": \"2019-04-30\", \"open\": 1930.099976, \"high\": 1935.709961, \"low\": 1906.949951, \"close\": 1926.52002}, {\"date\": \"2019-05-01\", \"open\": 1933.089966, \"high\": 1943.640015, \"low\": 1910.550049, \"close\": 1911.52002}, {\"date\": \"2019-05-02\", \"open\": 1913.329956, \"high\": 1921.550049, \"low\": 1881.869995, \"close\": 1900.819946}, {\"date\": \"2019-05-03\", \"open\": 1949.0, \"high\": 1964.400024, \"low\": 1936.0, \"close\": 1962.459961}, {\"date\": \"2019-05-06\", \"open\": 1917.97998, \"high\": 1959.0, \"low\": 1910.5, \"close\": 1950.550049}, {\"date\": \"2019-05-07\", \"open\": 1939.98999, \"high\": 1949.099976, \"low\": 1903.380005, \"close\": 1921.0}, {\"date\": \"2019-05-08\", \"open\": 1918.869995, \"high\": 1935.369995, \"low\": 1910.0, \"close\": 1917.77002}, {\"date\": \"2019-05-09\", \"open\": 1900.0, \"high\": 1909.400024, \"low\": 1876.0, \"close\": 1899.869995}, {\"date\": \"2019-05-10\", \"open\": 1898.0, \"high\": 1903.790039, \"low\": 1856.0, \"close\": 1889.97998}, {\"date\": \"2019-05-13\", \"open\": 1836.560059, \"high\": 1846.540039, \"low\": 1818.0, \"close\": 1822.680054}, {\"date\": \"2019-05-14\", \"open\": 1839.5, \"high\": 1852.439941, \"low\": 1815.75, \"close\": 1840.119995}, {\"date\": \"2019-05-15\", \"open\": 1827.949951, \"high\": 1874.430054, \"low\": 1823.0, \"close\": 1871.150024}, {\"date\": \"2019-05-16\", \"open\": 1885.939941, \"high\": 1917.51001, \"low\": 1882.290039, \"close\": 1907.569946}, {\"date\": \"2019-05-17\", \"open\": 1893.050049, \"high\": 1910.530029, \"low\": 1867.329956, \"close\": 1869.0}, {\"date\": \"2019-05-20\", \"open\": 1852.689941, \"high\": 1867.780029, \"low\": 1835.540039, \"close\": 1858.969971}, {\"date\": \"2019-05-21\", \"open\": 1874.790039, \"high\": 1879.0, \"low\": 1846.0, \"close\": 1857.52002}, {\"date\": \"2019-05-22\", \"open\": 1851.780029, \"high\": 1871.48999, \"low\": 1851.0, \"close\": 1859.680054}, {\"date\": \"2019-05-23\", \"open\": 1836.589966, \"high\": 1844.0, \"low\": 1804.199951, \"close\": 1815.47998}, {\"date\": \"2019-05-24\", \"open\": 1835.890015, \"high\": 1841.76001, \"low\": 1817.849976, \"close\": 1823.280029}, {\"date\": \"2019-05-28\", \"open\": 1832.75, \"high\": 1849.27002, \"low\": 1827.349976, \"close\": 1836.430054}, {\"date\": \"2019-05-29\", \"open\": 1823.119995, \"high\": 1830.0, \"low\": 1807.530029, \"close\": 1819.189941}, {\"date\": \"2019-05-30\", \"open\": 1825.48999, \"high\": 1829.469971, \"low\": 1807.829956, \"close\": 1816.319946}, {\"date\": \"2019-05-31\", \"open\": 1790.01001, \"high\": 1795.589966, \"low\": 1772.699951, \"close\": 1775.069946}, {\"date\": \"2019-06-03\", \"open\": 1760.01001, \"high\": 1766.290039, \"low\": 1672.0, \"close\": 1692.689941}, {\"date\": \"2019-06-04\", \"open\": 1699.23999, \"high\": 1730.819946, \"low\": 1680.890015, \"close\": 1729.560059}, {\"date\": \"2019-06-05\", \"open\": 1749.599976, \"high\": 1752.0, \"low\": 1715.25, \"close\": 1738.5}, {\"date\": \"2019-06-06\", \"open\": 1737.709961, \"high\": 1760.0, \"low\": 1726.130005, \"close\": 1754.359985}, {\"date\": \"2019-06-07\", \"open\": 1763.699951, \"high\": 1806.25, \"low\": 1759.48999, \"close\": 1804.030029}, {\"date\": \"2019-06-10\", \"open\": 1822.0, \"high\": 1884.869995, \"low\": 1818.0, \"close\": 1860.630005}, {\"date\": \"2019-06-11\", \"open\": 1883.25, \"high\": 1893.699951, \"low\": 1858.0, \"close\": 1863.699951}, {\"date\": \"2019-06-12\", \"open\": 1853.97998, \"high\": 1865.0, \"low\": 1844.380005, \"close\": 1855.319946}, {\"date\": \"2019-06-13\", \"open\": 1866.719971, \"high\": 1883.089966, \"low\": 1862.219971, \"close\": 1870.300049}, {\"date\": \"2019-06-14\", \"open\": 1864.0, \"high\": 1876.0, \"low\": 1859.0, \"close\": 1869.670044}, {\"date\": \"2019-06-17\", \"open\": 1876.5, \"high\": 1895.689941, \"low\": 1875.449951, \"close\": 1886.030029}, {\"date\": \"2019-06-18\", \"open\": 1901.349976, \"high\": 1921.670044, \"low\": 1899.790039, \"close\": 1901.369995}, {\"date\": \"2019-06-19\", \"open\": 1907.839966, \"high\": 1919.579956, \"low\": 1892.469971, \"close\": 1908.790039}, {\"date\": \"2019-06-20\", \"open\": 1933.329956, \"high\": 1935.199951, \"low\": 1905.800049, \"close\": 1918.189941}, {\"date\": \"2019-06-21\", \"open\": 1916.099976, \"high\": 1925.949951, \"low\": 1907.579956, \"close\": 1911.300049}, {\"date\": \"2019-06-24\", \"open\": 1912.660034, \"high\": 1916.859985, \"low\": 1901.300049, \"close\": 1913.900024}, {\"date\": \"2019-06-25\", \"open\": 1911.839966, \"high\": 1916.390015, \"low\": 1872.420044, \"close\": 1878.27002}, {\"date\": \"2019-06-26\", \"open\": 1892.47998, \"high\": 1903.800049, \"low\": 1887.319946, \"close\": 1897.829956}, {\"date\": \"2019-06-27\", \"open\": 1902.0, \"high\": 1911.23999, \"low\": 1898.040039, \"close\": 1904.280029}, {\"date\": \"2019-06-28\", \"open\": 1909.099976, \"high\": 1912.939941, \"low\": 1884.0, \"close\": 1893.630005}, {\"date\": \"2019-07-01\", \"open\": 1922.97998, \"high\": 1929.819946, \"low\": 1914.660034, \"close\": 1922.189941}, {\"date\": \"2019-07-02\", \"open\": 1919.380005, \"high\": 1934.790039, \"low\": 1906.630005, \"close\": 1934.310059}, {\"date\": \"2019-07-03\", \"open\": 1935.890015, \"high\": 1941.589966, \"low\": 1930.5, \"close\": 1939.0}, {\"date\": \"2019-07-05\", \"open\": 1928.599976, \"high\": 1945.900024, \"low\": 1925.300049, \"close\": 1942.910034}, {\"date\": \"2019-07-08\", \"open\": 1934.119995, \"high\": 1956.0, \"low\": 1928.25, \"close\": 1952.319946}, {\"date\": \"2019-07-09\", \"open\": 1947.800049, \"high\": 1990.01001, \"low\": 1943.47998, \"close\": 1988.300049}, {\"date\": \"2019-07-10\", \"open\": 1996.51001, \"high\": 2024.939941, \"low\": 1995.400024, \"close\": 2017.410034}, {\"date\": \"2019-07-11\", \"open\": 2025.619995, \"high\": 2035.800049, \"low\": 1995.300049, \"close\": 2001.069946}, {\"date\": \"2019-07-12\", \"open\": 2008.27002, \"high\": 2017.0, \"low\": 2003.869995, \"close\": 2011.0}, {\"date\": \"2019-07-15\", \"open\": 2021.400024, \"high\": 2022.900024, \"low\": 2001.550049, \"close\": 2020.98999}, {\"date\": \"2019-07-16\", \"open\": 2010.579956, \"high\": 2026.319946, \"low\": 2001.219971, \"close\": 2009.900024}, {\"date\": \"2019-07-17\", \"open\": 2007.050049, \"high\": 2012.0, \"low\": 1992.030029, \"close\": 1992.030029}, {\"date\": \"2019-07-18\", \"open\": 1980.01001, \"high\": 1987.5, \"low\": 1951.550049, \"close\": 1977.900024}, {\"date\": \"2019-07-19\", \"open\": 1991.209961, \"high\": 1996.0, \"low\": 1962.22998, \"close\": 1964.52002}, {\"date\": \"2019-07-22\", \"open\": 1971.140015, \"high\": 1989.0, \"low\": 1958.26001, \"close\": 1985.630005}, {\"date\": \"2019-07-23\", \"open\": 1995.98999, \"high\": 1997.790039, \"low\": 1973.130005, \"close\": 1994.48999}, {\"date\": \"2019-07-24\", \"open\": 1969.300049, \"high\": 2001.300049, \"low\": 1965.869995, \"close\": 2000.810059}, {\"date\": \"2019-07-25\", \"open\": 2001.0, \"high\": 2001.199951, \"low\": 1972.719971, \"close\": 1973.819946}, {\"date\": \"2019-07-26\", \"open\": 1942.0, \"high\": 1950.900024, \"low\": 1924.51001, \"close\": 1943.050049}, {\"date\": \"2019-07-29\", \"open\": 1930.0, \"high\": 1932.22998, \"low\": 1890.540039, \"close\": 1912.449951}, {\"date\": \"2019-07-30\", \"open\": 1891.119995, \"high\": 1909.890015, \"low\": 1883.47998, \"close\": 1898.530029}, {\"date\": \"2019-07-31\", \"open\": 1898.109985, \"high\": 1899.550049, \"low\": 1849.439941, \"close\": 1866.780029}, {\"date\": \"2019-08-01\", \"open\": 1871.719971, \"high\": 1897.920044, \"low\": 1844.01001, \"close\": 1855.319946}, {\"date\": \"2019-08-02\", \"open\": 1845.069946, \"high\": 1846.359985, \"low\": 1808.02002, \"close\": 1823.23999}, {\"date\": \"2019-08-05\", \"open\": 1770.219971, \"high\": 1788.670044, \"low\": 1748.780029, \"close\": 1765.130005}, {\"date\": \"2019-08-06\", \"open\": 1792.22998, \"high\": 1793.77002, \"low\": 1753.400024, \"close\": 1787.829956}, {\"date\": \"2019-08-07\", \"open\": 1773.98999, \"high\": 1798.930054, \"low\": 1757.0, \"close\": 1793.400024}, {\"date\": \"2019-08-08\", \"open\": 1806.0, \"high\": 1834.26001, \"low\": 1798.109985, \"close\": 1832.890015}, {\"date\": \"2019-08-09\", \"open\": 1828.949951, \"high\": 1831.089966, \"low\": 1802.219971, \"close\": 1807.579956}]}}, {\"mode\": \"vega-lite\"});\n",
       "</script>"
      ],
      "text/plain": [
       "alt.Chart(...)"
      ]
     },
     "execution_count": 35,
     "metadata": {},
     "output_type": "execute_result"
    }
   ],
   "source": [
    "alt.Chart(amzn_df).mark_line().encode(\n",
    "    x='date:T', # specify encoding data type: T for date or time value\n",
    "    y='open:Q', # specify encoding data type: Q for continous real-valued quantity\n",
    "    # y2='close:Q',\n",
    "    # color='close:Q',\n",
    "    # shape='high',\n",
    ")"
   ]
  },
  {
   "cell_type": "markdown",
   "id": "3417c23a-883e-42dd-b7d6-344b80eda5de",
   "metadata": {},
   "source": [
    "___\n",
    "# Next\n",
    "___"
   ]
  },
  {
   "cell_type": "markdown",
   "id": "0c820cb7-0651-4c0c-96c9-ea7423a7683b",
   "metadata": {},
   "source": [
    "# Janitor\n",
    "**_`astype, dtype, count, describe, duplicated, isna, isnull, info, shape, str.replace(\"$\", \"\")`_** \\\n",
    "`Missing Data:` \n",
    "- **removing (dropping)** missing data --> **`dropna( ) run in either Series or DataFrame:` results** in dropping along with it other important data\n",
    "- **replacing (filling)** missing data --> **`fillna( ) run in either Series or DataFrame:`** replacement options: **_\"Unknown\", 0, mean-of-column_**"
   ]
  },
  {
   "cell_type": "code",
   "execution_count": 36,
   "id": "e9cd5aca-0707-4a3c-87f4-0b85e804b323",
   "metadata": {},
   "outputs": [
    {
     "name": "stdout",
     "output_type": "stream",
     "text": [
      "['Close', 'Date', 'High', 'Low', 'Open', 'T', 'Volume', '_AXIS_LEN', '_AXIS_ORDERS', '_AXIS_TO_AXIS_NUMBER', '_HANDLED_TYPES', '__abs__', '__add__', '__and__', '__annotations__', '__array__', '__array_priority__', '__array_ufunc__', '__array_wrap__', '__bool__', '__class__', '__contains__', '__copy__', '__dataframe__', '__deepcopy__', '__delattr__', '__delitem__', '__dict__', '__dir__', '__divmod__', '__doc__', '__eq__', '__finalize__', '__floordiv__', '__format__', '__ge__', '__getattr__', '__getattribute__', '__getitem__', '__getstate__', '__gt__', '__hash__', '__iadd__', '__iand__', '__ifloordiv__', '__imod__', '__imul__', '__init__', '__init_subclass__', '__invert__', '__ior__', '__ipow__', '__isub__', '__iter__', '__itruediv__', '__ixor__', '__le__', '__len__', '__lt__', '__matmul__', '__mod__', '__module__', '__mul__', '__ne__', '__neg__', '__new__', '__nonzero__', '__or__', '__pos__', '__pow__', '__radd__', '__rand__', '__rdivmod__', '__reduce__', '__reduce_ex__', '__repr__', '__rfloordiv__', '__rmatmul__', '__rmod__', '__rmul__', '__ror__', '__round__', '__rpow__', '__rsub__', '__rtruediv__', '__rxor__', '__setattr__', '__setitem__', '__setstate__', '__sizeof__', '__str__', '__sub__', '__subclasshook__', '__truediv__', '__weakref__', '__xor__', '_accessors', '_accum_func', '_add_numeric_operations', '_agg_by_level', '_agg_examples_doc', '_agg_summary_and_see_also_doc', '_align_frame', '_align_series', '_append', '_arith_method', '_as_manager', '_attrs', '_box_col_values', '_can_fast_transpose', '_check_inplace_and_allows_duplicate_labels', '_check_inplace_setting', '_check_is_chained_assignment_possible', '_check_label_or_level_ambiguity', '_check_setitem_copy', '_clear_item_cache', '_clip_with_one_bound', '_clip_with_scalar', '_cmp_method', '_combine_frame', '_consolidate', '_consolidate_inplace', '_construct_axes_dict', '_construct_axes_from_arguments', '_construct_result', '_constructor', '_constructor_sliced', '_convert', '_count_level', '_data', '_dir_additions', '_dir_deletions', '_dispatch_frame_op', '_drop_axis', '_drop_labels_or_levels', '_ensure_valid_index', '_find_valid_index', '_flags', '_from_arrays', '_get_agg_axis', '_get_axis', '_get_axis_name', '_get_axis_number', '_get_axis_resolvers', '_get_block_manager_axis', '_get_bool_data', '_get_cleaned_column_resolvers', '_get_column_array', '_get_index_resolvers', '_get_item_cache', '_get_label_or_level_values', '_get_numeric_data', '_get_value', '_getitem_bool_array', '_getitem_multilevel', '_gotitem', '_hidden_attrs', '_indexed_same', '_info_axis', '_info_axis_name', '_info_axis_number', '_info_repr', '_init_mgr', '_inplace_method', '_internal_names', '_internal_names_set', '_is_copy', '_is_homogeneous_type', '_is_label_or_level_reference', '_is_label_reference', '_is_level_reference', '_is_mixed_type', '_is_view', '_iset_item', '_iset_item_mgr', '_iset_not_inplace', '_item_cache', '_iter_column_arrays', '_ixs', '_join_compat', '_logical_func', '_logical_method', '_maybe_cache_changed', '_maybe_update_cacher', '_metadata', '_mgr', '_min_count_stat_function', '_needs_reindex_multi', '_protect_consolidate', '_reduce', '_reduce_axis1', '_reindex_axes', '_reindex_columns', '_reindex_index', '_reindex_multi', '_reindex_with_indexers', '_rename', '_replace_columnwise', '_repr_data_resource_', '_repr_fits_horizontal_', '_repr_fits_vertical_', '_repr_html_', '_repr_latex_', '_reset_cache', '_reset_cacher', '_sanitize_column', '_series', '_set_axis', '_set_axis_name', '_set_axis_nocheck', '_set_is_copy', '_set_item', '_set_item_frame_value', '_set_item_mgr', '_set_value', '_setitem_array', '_setitem_frame', '_setitem_slice', '_slice', '_stat_axis', '_stat_axis_name', '_stat_axis_number', '_stat_function', '_stat_function_ddof', '_take', '_take_with_is_copy', '_to_dict_of_blocks', '_typ', '_update_inplace', '_validate_dtype', '_values', '_where', 'abs', 'add', 'add_prefix', 'add_suffix', 'agg', 'aggregate', 'align', 'all', 'any', 'append', 'apply', 'applymap', 'asfreq', 'asof', 'assign', 'astype', 'at', 'at_time', 'attrs', 'axes', 'backfill', 'between_time', 'bfill', 'bool', 'boxplot', 'clip', 'columns', 'combine', 'combine_first', 'compare', 'convert_dtypes', 'copy', 'corr', 'corrwith', 'count', 'cov', 'cummax', 'cummin', 'cumprod', 'cumsum', 'describe', 'diff', 'div', 'divide', 'dot', 'drop', 'drop_duplicates', 'droplevel', 'dropna', 'dtypes', 'duplicated', 'empty', 'eq', 'equals', 'eval', 'ewm', 'expanding', 'explode', 'ffill', 'fillna', 'filter', 'first', 'first_valid_index', 'flags', 'floordiv', 'from_dict', 'from_records', 'ge', 'get', 'groupby', 'gt', 'head', 'hist', 'iat', 'idxmax', 'idxmin', 'iloc', 'index', 'infer_objects', 'info', 'insert', 'interpolate', 'isetitem', 'isin', 'isna', 'isnull', 'items', 'iteritems', 'iterrows', 'itertuples', 'join', 'keys', 'kurt', 'kurtosis', 'last', 'last_valid_index', 'le', 'loc', 'lookup', 'lt', 'mad', 'mask', 'max', 'mean', 'median', 'melt', 'memory_usage', 'merge', 'min', 'mod', 'mode', 'mul', 'multiply', 'ndim', 'ne', 'nlargest', 'notna', 'notnull', 'nsmallest', 'nunique', 'pad', 'pct_change', 'pipe', 'pivot', 'pivot_table', 'plot', 'pop', 'pow', 'prod', 'product', 'quantile', 'query', 'radd', 'rank', 'rdiv', 'reindex', 'reindex_like', 'rename', 'rename_axis', 'reorder_levels', 'replace', 'resample', 'reset_index', 'rfloordiv', 'rmod', 'rmul', 'rolling', 'round', 'rpow', 'rsub', 'rtruediv', 'sample', 'select_dtypes', 'sem', 'set_axis', 'set_flags', 'set_index', 'shape', 'shift', 'size', 'skew', 'slice_shift', 'sort_index', 'sort_values', 'squeeze', 'stack', 'std', 'style', 'sub', 'subtract', 'sum', 'swapaxes', 'swaplevel', 'tail', 'take', 'to_clipboard', 'to_csv', 'to_dict', 'to_excel', 'to_feather', 'to_gbq', 'to_hdf', 'to_html', 'to_json', 'to_latex', 'to_markdown', 'to_numpy', 'to_orc', 'to_parquet', 'to_period', 'to_pickle', 'to_records', 'to_sql', 'to_stata', 'to_string', 'to_timestamp', 'to_xarray', 'to_xml', 'transform', 'transpose', 'truediv', 'truncate', 'tz_convert', 'tz_localize', 'unstack', 'update', 'value_counts', 'values', 'var', 'where', 'xs']\n"
     ]
    }
   ],
   "source": [
    "print(dir(stock_data['amzn']))"
   ]
  },
  {
   "cell_type": "code",
   "execution_count": 37,
   "id": "aecd330c-b8bc-4c01-a85c-9595c9fc96dd",
   "metadata": {},
   "outputs": [
    {
     "data": {
      "text/plain": [
       "date     235\n",
       "open     235\n",
       "high     235\n",
       "low      235\n",
       "close    235\n",
       "dtype: int64"
      ]
     },
     "execution_count": 37,
     "metadata": {},
     "output_type": "execute_result"
    }
   ],
   "source": [
    "amzn_df.count()"
   ]
  },
  {
   "cell_type": "code",
   "execution_count": 38,
   "id": "d2e76be2-950c-4461-9e3e-fb3cf3689dc2",
   "metadata": {},
   "outputs": [
    {
     "data": {
      "text/plain": [
       "(235, 5)"
      ]
     },
     "execution_count": 38,
     "metadata": {},
     "output_type": "execute_result"
    }
   ],
   "source": [
    "amzn_df.shape"
   ]
  },
  {
   "cell_type": "code",
   "execution_count": 39,
   "id": "ea429ad9-a0b4-4727-8850-d6c3d89f3d55",
   "metadata": {},
   "outputs": [
    {
     "data": {
      "text/plain": [
       "Index(['date', 'open', 'high', 'low', 'close'], dtype='object')"
      ]
     },
     "execution_count": 39,
     "metadata": {},
     "output_type": "execute_result"
    }
   ],
   "source": [
    "amzn_df.columns"
   ]
  },
  {
   "cell_type": "code",
   "execution_count": 40,
   "id": "ee5f1fd1-6cac-463b-9e0f-afd5d1ac2973",
   "metadata": {},
   "outputs": [
    {
     "data": {
      "text/plain": [
       "date     0\n",
       "open     0\n",
       "high     0\n",
       "low      0\n",
       "close    0\n",
       "dtype: int64"
      ]
     },
     "execution_count": 40,
     "metadata": {},
     "output_type": "execute_result"
    }
   ],
   "source": [
    "# Find NaN, null, missing data values.\n",
    "# If there are, remove(dropna: loss other values) or replace (fillna: \"Unknown\", 0, mean)\n",
    "# Run function as Series or DataFrame.\n",
    "amzn_df[ohlc].isnull().sum()"
   ]
  },
  {
   "cell_type": "code",
   "execution_count": 41,
   "id": "8b26220a-577c-466c-bb60-84e623c2d3bd",
   "metadata": {},
   "outputs": [
    {
     "data": {
      "text/plain": [
       "0"
      ]
     },
     "execution_count": 41,
     "metadata": {},
     "output_type": "execute_result"
    }
   ],
   "source": [
    "# Find duplicates.\n",
    "# If there are any, decide which to drop or keep both.\n",
    "# Date & Time needs evaluation\n",
    "# If removing, use: drop_duplicates()\n",
    "amzn_df.duplicated().sum()"
   ]
  },
  {
   "cell_type": "code",
   "execution_count": 42,
   "id": "7a064735-305b-4c8a-ba1a-26c4efc10b85",
   "metadata": {},
   "outputs": [
    {
     "name": "stdout",
     "output_type": "stream",
     "text": [
      "date      object\n",
      "open     float64\n",
      "high     float64\n",
      "low      float64\n",
      "close    float64\n",
      "dtype: object \n",
      "\n",
      "<class 'pandas.core.frame.DataFrame'>\n",
      "RangeIndex: 235 entries, 0 to 234\n",
      "Data columns (total 5 columns):\n",
      " #   Column  Non-Null Count  Dtype  \n",
      "---  ------  --------------  -----  \n",
      " 0   date    235 non-null    object \n",
      " 1   open    235 non-null    float64\n",
      " 2   high    235 non-null    float64\n",
      " 3   low     235 non-null    float64\n",
      " 4   close   235 non-null    float64\n",
      "dtypes: float64(4), object(1)\n",
      "memory usage: 9.3+ KB\n"
     ]
    },
    {
     "data": {
      "text/plain": [
       "None"
      ]
     },
     "metadata": {},
     "output_type": "display_data"
    }
   ],
   "source": [
    "# Evaluate data types.\n",
    "# String data types (like currency symbols: $, Yen, Euro) needs to be corrected for pandas numerical calculation operations.\n",
    "# Run either functions: pd.dtypes or pd.info()\n",
    "# If string, use: str.replace(\"$\", \"\")\n",
    "print(amzn_df.dtypes, \"\\n\")\n",
    "display(amzn_df.info())"
   ]
  },
  {
   "cell_type": "code",
   "execution_count": 43,
   "id": "1729abb8-f51c-442c-a8de-cc428c182aa4",
   "metadata": {},
   "outputs": [
    {
     "data": {
      "text/plain": [
       "a     $10\n",
       "b      35\n",
       "c    55.5\n",
       "dtype: object"
      ]
     },
     "metadata": {},
     "output_type": "display_data"
    },
    {
     "data": {
      "text/plain": [
       "d    9.99\n",
       "e     $75\n",
       "f      85\n",
       "dtype: object"
      ]
     },
     "metadata": {},
     "output_type": "display_data"
    },
    {
     "name": "stdout",
     "output_type": "stream",
     "text": [
      "\n",
      " object \n",
      " object\n"
     ]
    }
   ],
   "source": [
    "# Create dataframe from scratch with currency symbol.\n",
    "# Create dict object.\n",
    "# Create pandas Series\n",
    "# Create pandas DataFrame\n",
    "\n",
    "d1 = {\"a\": '$10', 'b': 35, \"c\": 55.50}\n",
    "d2 = {'d': 9.99, 'e': '$75', 'f': 85}\n",
    "\n",
    "ser = pd.Series(data=d1, index=['a', 'b', 'c'])\n",
    "ver = pd.Series(data=d2, index=['d', 'e', 'f'])\n",
    "\n",
    "display(ser,ver)\n",
    "print('\\n', ser.dtypes, '\\n', ver.dtypes)"
   ]
  },
  {
   "cell_type": "code",
   "execution_count": 44,
   "id": "c8e93c28-def0-4d9a-bd0a-c33ed7718933",
   "metadata": {},
   "outputs": [
    {
     "data": {
      "text/html": [
       "<div>\n",
       "<style scoped>\n",
       "    .dataframe tbody tr th:only-of-type {\n",
       "        vertical-align: middle;\n",
       "    }\n",
       "\n",
       "    .dataframe tbody tr th {\n",
       "        vertical-align: top;\n",
       "    }\n",
       "\n",
       "    .dataframe thead th {\n",
       "        text-align: right;\n",
       "    }\n",
       "</style>\n",
       "<table border=\"1\" class=\"dataframe\">\n",
       "  <thead>\n",
       "    <tr style=\"text-align: right;\">\n",
       "      <th></th>\n",
       "      <th>Price</th>\n",
       "    </tr>\n",
       "  </thead>\n",
       "  <tbody>\n",
       "    <tr>\n",
       "      <th>a</th>\n",
       "      <td>$10</td>\n",
       "    </tr>\n",
       "    <tr>\n",
       "      <th>b</th>\n",
       "      <td>35</td>\n",
       "    </tr>\n",
       "    <tr>\n",
       "      <th>c</th>\n",
       "      <td>55.5</td>\n",
       "    </tr>\n",
       "    <tr>\n",
       "      <th>d</th>\n",
       "      <td>9.99</td>\n",
       "    </tr>\n",
       "    <tr>\n",
       "      <th>e</th>\n",
       "      <td>$75</td>\n",
       "    </tr>\n",
       "    <tr>\n",
       "      <th>f</th>\n",
       "      <td>85</td>\n",
       "    </tr>\n",
       "  </tbody>\n",
       "</table>\n",
       "</div>"
      ],
      "text/plain": [
       "  Price\n",
       "a   $10\n",
       "b    35\n",
       "c  55.5\n",
       "d  9.99\n",
       "e   $75\n",
       "f    85"
      ]
     },
     "metadata": {},
     "output_type": "display_data"
    },
    {
     "name": "stdout",
     "output_type": "stream",
     "text": [
      "\n",
      " Price    object\n",
      "dtype: object\n"
     ]
    }
   ],
   "source": [
    "# DataFrame.\n",
    "df_concat = pd.concat([ser,ver], axis=0, join='inner')\n",
    "price_df = pd.DataFrame(df_concat, columns=['Price'])\n",
    "display(price_df)\n",
    "print(\"\\n\", price_df.dtypes)"
   ]
  },
  {
   "cell_type": "code",
   "execution_count": 45,
   "id": "799605cf-9d30-48c5-9565-1608f9a879e0",
   "metadata": {},
   "outputs": [
    {
     "data": {
      "text/html": [
       "<div>\n",
       "<style scoped>\n",
       "    .dataframe tbody tr th:only-of-type {\n",
       "        vertical-align: middle;\n",
       "    }\n",
       "\n",
       "    .dataframe tbody tr th {\n",
       "        vertical-align: top;\n",
       "    }\n",
       "\n",
       "    .dataframe thead th {\n",
       "        text-align: right;\n",
       "    }\n",
       "</style>\n",
       "<table border=\"1\" class=\"dataframe\">\n",
       "  <thead>\n",
       "    <tr style=\"text-align: right;\">\n",
       "      <th></th>\n",
       "      <th>prices</th>\n",
       "    </tr>\n",
       "  </thead>\n",
       "  <tbody>\n",
       "    <tr>\n",
       "      <th>0</th>\n",
       "      <td>$3.45</td>\n",
       "    </tr>\n",
       "    <tr>\n",
       "      <th>1</th>\n",
       "      <td>6.34</td>\n",
       "    </tr>\n",
       "    <tr>\n",
       "      <th>2</th>\n",
       "      <td>$8.88</td>\n",
       "    </tr>\n",
       "  </tbody>\n",
       "</table>\n",
       "</div>"
      ],
      "text/plain": [
       "  prices\n",
       "0  $3.45\n",
       "1   6.34\n",
       "2  $8.88"
      ]
     },
     "metadata": {},
     "output_type": "display_data"
    },
    {
     "data": {
      "text/plain": [
       "prices    object\n",
       "dtype: object"
      ]
     },
     "metadata": {},
     "output_type": "display_data"
    },
    {
     "name": "stdout",
     "output_type": "stream",
     "text": [
      "\n",
      "   prices\n",
      "0   3.45\n",
      "1   6.34\n",
      "2   8.88\n"
     ]
    },
    {
     "name": "stderr",
     "output_type": "stream",
     "text": [
      "C:\\Users\\admin\\AppData\\Local\\Temp\\ipykernel_13648\\4115537567.py:14: FutureWarning: The default value of regex will change from True to False in a future version. In addition, single character regular expressions will *not* be treated as literal strings when regex=True.\n",
      "  prices.loc[:, 'prices'] = prices.loc[:, \"prices\"].str.replace(\"$\", \"\").copy()\n"
     ]
    },
    {
     "data": {
      "text/plain": [
       "prices    object\n",
       "dtype: object"
      ]
     },
     "metadata": {},
     "output_type": "display_data"
    },
    {
     "name": "stdout",
     "output_type": "stream",
     "text": [
      "\n",
      " prices    float64\n",
      "dtype: object\n"
     ]
    },
    {
     "name": "stderr",
     "output_type": "stream",
     "text": [
      "C:\\Users\\admin\\AppData\\Local\\Temp\\ipykernel_13648\\4115537567.py:21: DeprecationWarning: In a future version, `df.iloc[:, i] = newvals` will attempt to set the values inplace instead of always setting a new array. To retain the old behavior, use either `df[df.columns[i]] = newvals` or, if columns are non-unique, `df.isetitem(i, newvals)`\n",
      "  prices.loc[:, \"prices\"] = prices.loc[:, \"prices\"].astype(\"float\")\n"
     ]
    },
    {
     "data": {
      "text/plain": [
       "18.67"
      ]
     },
     "execution_count": 45,
     "metadata": {},
     "output_type": "execute_result"
    }
   ],
   "source": [
    "# Work with the columns by: iloc, loc\n",
    "# Fix object data type using: str.replace( )\n",
    "# Update the dataframe with the correct data type for numerical operations in Pandas.\n",
    "\n",
    "prices = pd.DataFrame({\n",
    "    \"prices\": [\"$3.45\", \"6.34\", \"$8.88\"]\n",
    "})\n",
    "\n",
    "# Review.\n",
    "display(prices)\n",
    "display(prices.dtypes)\n",
    "\n",
    "# Remove \"$\"\n",
    "prices.loc[:, 'prices'] = prices.loc[:, \"prices\"].str.replace(\"$\", \"\").copy()\n",
    "\n",
    "# Review removal.\n",
    "print(\"\\n\", prices)\n",
    "display(prices.dtypes)\n",
    "\n",
    "# Convert data type for pandas numerical operations: astype()\n",
    "prices.loc[:, \"prices\"] = prices.loc[:, \"prices\"].astype(\"float\")\n",
    "print(\"\\n\", prices.dtypes)\n",
    "prices.loc[:, \"prices\"].sum()"
   ]
  },
  {
   "cell_type": "markdown",
   "id": "10a41628-63c3-4fed-9c36-06330b122c1a",
   "metadata": {},
   "source": [
    "### Data Exploration: Collection->Preparation->Analysis (CPA)\n",
    "### Data Behavior Over Time\n",
    "**_`describe,_**"
   ]
  },
  {
   "cell_type": "markdown",
   "id": "c2fe94f8-6494-40ff-a5b0-fae3b0829404",
   "metadata": {},
   "source": [
    "#### Summary Statistics: `describe` **--> plot and create thesis**"
   ]
  },
  {
   "cell_type": "code",
   "execution_count": 46,
   "id": "40c284da-d896-4719-a7ec-264c2d04bc3d",
   "metadata": {},
   "outputs": [
    {
     "data": {
      "text/html": [
       "<div>\n",
       "<style scoped>\n",
       "    .dataframe tbody tr th:only-of-type {\n",
       "        vertical-align: middle;\n",
       "    }\n",
       "\n",
       "    .dataframe tbody tr th {\n",
       "        vertical-align: top;\n",
       "    }\n",
       "\n",
       "    .dataframe thead th {\n",
       "        text-align: right;\n",
       "    }\n",
       "</style>\n",
       "<table border=\"1\" class=\"dataframe\">\n",
       "  <thead>\n",
       "    <tr style=\"text-align: right;\">\n",
       "      <th></th>\n",
       "      <th>open</th>\n",
       "      <th>high</th>\n",
       "      <th>low</th>\n",
       "      <th>close</th>\n",
       "    </tr>\n",
       "  </thead>\n",
       "  <tbody>\n",
       "    <tr>\n",
       "      <th>count</th>\n",
       "      <td>235.000000</td>\n",
       "      <td>235.000000</td>\n",
       "      <td>235.000000</td>\n",
       "      <td>235.000000</td>\n",
       "    </tr>\n",
       "    <tr>\n",
       "      <th>mean</th>\n",
       "      <td>1775.941143</td>\n",
       "      <td>1795.026129</td>\n",
       "      <td>1752.273361</td>\n",
       "      <td>1774.110853</td>\n",
       "    </tr>\n",
       "    <tr>\n",
       "      <th>std</th>\n",
       "      <td>151.614610</td>\n",
       "      <td>145.373217</td>\n",
       "      <td>155.200253</td>\n",
       "      <td>150.302328</td>\n",
       "    </tr>\n",
       "    <tr>\n",
       "      <th>min</th>\n",
       "      <td>1346.000000</td>\n",
       "      <td>1396.030029</td>\n",
       "      <td>1307.000000</td>\n",
       "      <td>1343.959961</td>\n",
       "    </tr>\n",
       "    <tr>\n",
       "      <th>25%</th>\n",
       "      <td>1649.440002</td>\n",
       "      <td>1672.645019</td>\n",
       "      <td>1621.815002</td>\n",
       "      <td>1642.810059</td>\n",
       "    </tr>\n",
       "    <tr>\n",
       "      <th>50%</th>\n",
       "      <td>1792.229980</td>\n",
       "      <td>1808.949951</td>\n",
       "      <td>1761.550049</td>\n",
       "      <td>1787.829956</td>\n",
       "    </tr>\n",
       "    <tr>\n",
       "      <th>75%</th>\n",
       "      <td>1908.469971</td>\n",
       "      <td>1920.565002</td>\n",
       "      <td>1887.364990</td>\n",
       "      <td>1902.000000</td>\n",
       "    </tr>\n",
       "    <tr>\n",
       "      <th>max</th>\n",
       "      <td>2038.109985</td>\n",
       "      <td>2050.500000</td>\n",
       "      <td>2013.000000</td>\n",
       "      <td>2039.510010</td>\n",
       "    </tr>\n",
       "  </tbody>\n",
       "</table>\n",
       "</div>"
      ],
      "text/plain": [
       "              open         high          low        close\n",
       "count   235.000000   235.000000   235.000000   235.000000\n",
       "mean   1775.941143  1795.026129  1752.273361  1774.110853\n",
       "std     151.614610   145.373217   155.200253   150.302328\n",
       "min    1346.000000  1396.030029  1307.000000  1343.959961\n",
       "25%    1649.440002  1672.645019  1621.815002  1642.810059\n",
       "50%    1792.229980  1808.949951  1761.550049  1787.829956\n",
       "75%    1908.469971  1920.565002  1887.364990  1902.000000\n",
       "max    2038.109985  2050.500000  2013.000000  2039.510010"
      ]
     },
     "execution_count": 46,
     "metadata": {},
     "output_type": "execute_result"
    }
   ],
   "source": [
    "amzn_df.describe()"
   ]
  },
  {
   "cell_type": "code",
   "execution_count": 47,
   "id": "f7b25f29-887f-431f-88a8-3aaa4cad7933",
   "metadata": {},
   "outputs": [
    {
     "data": {
      "text/plain": [
       "<Axes: >"
      ]
     },
     "execution_count": 47,
     "metadata": {},
     "output_type": "execute_result"
    },
    {
     "data": {
      "image/png": "[encoded data removed]",
      "text/plain": [
       "<Figure size 640x480 with 1 Axes>"
      ]
     },
     "metadata": {},
     "output_type": "display_data"
    }
   ],
   "source": [
    "amzn_stat = amzn_df.describe()\n",
    "amzn_stat.plot()"
   ]
  },
  {
   "cell_type": "code",
   "execution_count": 48,
   "id": "d8dc8c5b-738d-4d7a-a98e-9d4f1b6cfcf4",
   "metadata": {},
   "outputs": [
    {
     "data": {
      "text/plain": [
       "<Axes: >"
      ]
     },
     "execution_count": 48,
     "metadata": {},
     "output_type": "execute_result"
    },
    {
     "data": {
      "image/png": "[encoded data removed]",
      "text/plain": [
       "<Figure size 640x480 with 1 Axes>"
      ]
     },
     "metadata": {},
     "output_type": "display_data"
    }
   ],
   "source": [
    "amzn_stat.plot(kind='box')"
   ]
  },
  {
   "cell_type": "markdown",
   "id": "a5a38a05-ad90-4383-903f-10814f044948",
   "metadata": {},
   "source": [
    "### Targeted Analysis: `zoom-in` the **'point-of-interest'** forming the **_--> thesis_**\n",
    "`Location Functions:` \n",
    "- **_iloc( )_ -->** integer-based\n",
    "- **_loc( )_ -->** string-based\n",
    "- `rows syntax` --> **_[start:end]_**\n",
    "- `columns syntax` --> **_iloc[rows, columns], loc[rows, columns]_**"
   ]
  },
  {
   "cell_type": "code",
   "execution_count": 49,
   "id": "c79355df-1778-49e4-a67c-46bbd4f12ad9",
   "metadata": {},
   "outputs": [
    {
     "data": {
      "text/html": [
       "<div>\n",
       "<style scoped>\n",
       "    .dataframe tbody tr th:only-of-type {\n",
       "        vertical-align: middle;\n",
       "    }\n",
       "\n",
       "    .dataframe tbody tr th {\n",
       "        vertical-align: top;\n",
       "    }\n",
       "\n",
       "    .dataframe thead th {\n",
       "        text-align: right;\n",
       "    }\n",
       "</style>\n",
       "<table border=\"1\" class=\"dataframe\">\n",
       "  <thead>\n",
       "    <tr style=\"text-align: right;\">\n",
       "      <th></th>\n",
       "      <th>date</th>\n",
       "      <th>open</th>\n",
       "      <th>high</th>\n",
       "      <th>low</th>\n",
       "      <th>close</th>\n",
       "    </tr>\n",
       "  </thead>\n",
       "  <tbody>\n",
       "    <tr>\n",
       "      <th>50</th>\n",
       "      <td>2018-11-13</td>\n",
       "      <td>1649.290039</td>\n",
       "      <td>1677.060059</td>\n",
       "      <td>1613.750000</td>\n",
       "      <td>1631.170044</td>\n",
       "    </tr>\n",
       "    <tr>\n",
       "      <th>51</th>\n",
       "      <td>2018-11-14</td>\n",
       "      <td>1656.319946</td>\n",
       "      <td>1673.000000</td>\n",
       "      <td>1597.069946</td>\n",
       "      <td>1599.010010</td>\n",
       "    </tr>\n",
       "    <tr>\n",
       "      <th>52</th>\n",
       "      <td>2018-11-15</td>\n",
       "      <td>1581.010010</td>\n",
       "      <td>1624.819946</td>\n",
       "      <td>1546.510010</td>\n",
       "      <td>1619.439941</td>\n",
       "    </tr>\n",
       "    <tr>\n",
       "      <th>53</th>\n",
       "      <td>2018-11-16</td>\n",
       "      <td>1587.500000</td>\n",
       "      <td>1614.479980</td>\n",
       "      <td>1573.119995</td>\n",
       "      <td>1593.410034</td>\n",
       "    </tr>\n",
       "    <tr>\n",
       "      <th>54</th>\n",
       "      <td>2018-11-19</td>\n",
       "      <td>1577.010010</td>\n",
       "      <td>1581.189941</td>\n",
       "      <td>1503.359985</td>\n",
       "      <td>1512.290039</td>\n",
       "    </tr>\n",
       "    <tr>\n",
       "      <th>...</th>\n",
       "      <td>...</td>\n",
       "      <td>...</td>\n",
       "      <td>...</td>\n",
       "      <td>...</td>\n",
       "      <td>...</td>\n",
       "    </tr>\n",
       "    <tr>\n",
       "      <th>145</th>\n",
       "      <td>2019-04-03</td>\n",
       "      <td>1826.719971</td>\n",
       "      <td>1830.000000</td>\n",
       "      <td>1809.619995</td>\n",
       "      <td>1820.699951</td>\n",
       "    </tr>\n",
       "    <tr>\n",
       "      <th>146</th>\n",
       "      <td>2019-04-04</td>\n",
       "      <td>1820.650024</td>\n",
       "      <td>1828.750000</td>\n",
       "      <td>1804.199951</td>\n",
       "      <td>1818.859985</td>\n",
       "    </tr>\n",
       "    <tr>\n",
       "      <th>147</th>\n",
       "      <td>2019-04-05</td>\n",
       "      <td>1829.000000</td>\n",
       "      <td>1838.579956</td>\n",
       "      <td>1825.189941</td>\n",
       "      <td>1837.280029</td>\n",
       "    </tr>\n",
       "    <tr>\n",
       "      <th>148</th>\n",
       "      <td>2019-04-08</td>\n",
       "      <td>1833.229980</td>\n",
       "      <td>1850.199951</td>\n",
       "      <td>1825.109985</td>\n",
       "      <td>1849.859985</td>\n",
       "    </tr>\n",
       "    <tr>\n",
       "      <th>149</th>\n",
       "      <td>2019-04-09</td>\n",
       "      <td>1845.489990</td>\n",
       "      <td>1853.089966</td>\n",
       "      <td>1831.780029</td>\n",
       "      <td>1835.839966</td>\n",
       "    </tr>\n",
       "  </tbody>\n",
       "</table>\n",
       "<p>100 rows × 5 columns</p>\n",
       "</div>"
      ],
      "text/plain": [
       "           date         open         high          low        close\n",
       "50   2018-11-13  1649.290039  1677.060059  1613.750000  1631.170044\n",
       "51   2018-11-14  1656.319946  1673.000000  1597.069946  1599.010010\n",
       "52   2018-11-15  1581.010010  1624.819946  1546.510010  1619.439941\n",
       "53   2018-11-16  1587.500000  1614.479980  1573.119995  1593.410034\n",
       "54   2018-11-19  1577.010010  1581.189941  1503.359985  1512.290039\n",
       "..          ...          ...          ...          ...          ...\n",
       "145  2019-04-03  1826.719971  1830.000000  1809.619995  1820.699951\n",
       "146  2019-04-04  1820.650024  1828.750000  1804.199951  1818.859985\n",
       "147  2019-04-05  1829.000000  1838.579956  1825.189941  1837.280029\n",
       "148  2019-04-08  1833.229980  1850.199951  1825.109985  1849.859985\n",
       "149  2019-04-09  1845.489990  1853.089966  1831.780029  1835.839966\n",
       "\n",
       "[100 rows x 5 columns]"
      ]
     },
     "metadata": {},
     "output_type": "display_data"
    },
    {
     "name": "stdout",
     "output_type": "stream",
     "text": [
      "\n",
      "               open         high          low        close\n",
      "count   100.000000   100.000000   100.000000   100.000000\n",
      "mean   1645.763595  1667.610206  1623.165199  1646.187600\n",
      "std      99.339622    91.132288   105.009645    98.822415\n",
      "min    1346.000000  1396.030029  1307.000000  1343.959961\n",
      "25%    1603.577515  1625.360016  1588.534942  1605.714966\n",
      "50%    1641.259949  1668.775024  1620.840027  1640.410034\n",
      "75%    1691.612457  1705.700012  1676.285004  1691.215058\n",
      "max    1845.489990  1853.089966  1831.780029  1849.859985\n"
     ]
    },
    {
     "data": {
      "text/plain": [
       "<Axes: ylabel='Frequency'>"
      ]
     },
     "execution_count": 49,
     "metadata": {},
     "output_type": "execute_result"
    },
    {
     "data": {
      "image/png": "[encoded data removed]",
      "text/plain": [
       "<Figure size 640x480 with 1 Axes>"
      ]
     },
     "metadata": {},
     "output_type": "display_data"
    }
   ],
   "source": [
    "amzn_zoom = amzn_df.iloc[50:150]\n",
    "display(amzn_zoom)\n",
    "print(\"\\n\", amzn_zoom.describe())\n",
    "\n",
    "# Plot distribution of the data\n",
    "amzn_zoom.describe().plot(kind='hist')"
   ]
  },
  {
   "cell_type": "code",
   "execution_count": 50,
   "id": "5060d600-a59e-42d6-b623-5c39ddf90bb0",
   "metadata": {},
   "outputs": [
    {
     "data": {
      "text/html": [
       "<div>\n",
       "<style scoped>\n",
       "    .dataframe tbody tr th:only-of-type {\n",
       "        vertical-align: middle;\n",
       "    }\n",
       "\n",
       "    .dataframe tbody tr th {\n",
       "        vertical-align: top;\n",
       "    }\n",
       "\n",
       "    .dataframe thead th {\n",
       "        text-align: right;\n",
       "    }\n",
       "</style>\n",
       "<table border=\"1\" class=\"dataframe\">\n",
       "  <thead>\n",
       "    <tr style=\"text-align: right;\">\n",
       "      <th></th>\n",
       "      <th>date</th>\n",
       "      <th>open</th>\n",
       "      <th>high</th>\n",
       "      <th>low</th>\n",
       "      <th>close</th>\n",
       "    </tr>\n",
       "  </thead>\n",
       "  <tbody>\n",
       "    <tr>\n",
       "      <th>0</th>\n",
       "      <td>2018-09-04</td>\n",
       "      <td>2026.50000</td>\n",
       "      <td>2050.50000</td>\n",
       "      <td>2013.00000</td>\n",
       "      <td>2039.51001</td>\n",
       "    </tr>\n",
       "    <tr>\n",
       "      <th>1</th>\n",
       "      <td>2018-09-05</td>\n",
       "      <td>2038.10998</td>\n",
       "      <td>2040.38000</td>\n",
       "      <td>1989.89002</td>\n",
       "      <td>1994.81995</td>\n",
       "    </tr>\n",
       "    <tr>\n",
       "      <th>2</th>\n",
       "      <td>2018-09-06</td>\n",
       "      <td>2006.51001</td>\n",
       "      <td>2007.50000</td>\n",
       "      <td>1935.20996</td>\n",
       "      <td>1958.31006</td>\n",
       "    </tr>\n",
       "    <tr>\n",
       "      <th>3</th>\n",
       "      <td>2018-09-07</td>\n",
       "      <td>1938.70996</td>\n",
       "      <td>1975.19995</td>\n",
       "      <td>1937.34998</td>\n",
       "      <td>1952.06995</td>\n",
       "    </tr>\n",
       "    <tr>\n",
       "      <th>4</th>\n",
       "      <td>2018-09-10</td>\n",
       "      <td>1971.00000</td>\n",
       "      <td>1973.04004</td>\n",
       "      <td>1931.52002</td>\n",
       "      <td>1939.01001</td>\n",
       "    </tr>\n",
       "    <tr>\n",
       "      <th>...</th>\n",
       "      <td>...</td>\n",
       "      <td>...</td>\n",
       "      <td>...</td>\n",
       "      <td>...</td>\n",
       "      <td>...</td>\n",
       "    </tr>\n",
       "    <tr>\n",
       "      <th>230</th>\n",
       "      <td>2019-08-05</td>\n",
       "      <td>1770.21997</td>\n",
       "      <td>1788.67004</td>\n",
       "      <td>1748.78003</td>\n",
       "      <td>1765.13000</td>\n",
       "    </tr>\n",
       "    <tr>\n",
       "      <th>231</th>\n",
       "      <td>2019-08-06</td>\n",
       "      <td>1792.22998</td>\n",
       "      <td>1793.77002</td>\n",
       "      <td>1753.40002</td>\n",
       "      <td>1787.82996</td>\n",
       "    </tr>\n",
       "    <tr>\n",
       "      <th>232</th>\n",
       "      <td>2019-08-07</td>\n",
       "      <td>1773.98999</td>\n",
       "      <td>1798.93005</td>\n",
       "      <td>1757.00000</td>\n",
       "      <td>1793.40002</td>\n",
       "    </tr>\n",
       "    <tr>\n",
       "      <th>233</th>\n",
       "      <td>2019-08-08</td>\n",
       "      <td>1806.00000</td>\n",
       "      <td>1834.26001</td>\n",
       "      <td>1798.10998</td>\n",
       "      <td>1832.89002</td>\n",
       "    </tr>\n",
       "    <tr>\n",
       "      <th>234</th>\n",
       "      <td>2019-08-09</td>\n",
       "      <td>1828.94995</td>\n",
       "      <td>1831.08997</td>\n",
       "      <td>1802.21997</td>\n",
       "      <td>1807.57996</td>\n",
       "    </tr>\n",
       "  </tbody>\n",
       "</table>\n",
       "<p>235 rows × 5 columns</p>\n",
       "</div>"
      ],
      "text/plain": [
       "           date        open        high         low       close\n",
       "0    2018-09-04  2026.50000  2050.50000  2013.00000  2039.51001\n",
       "1    2018-09-05  2038.10998  2040.38000  1989.89002  1994.81995\n",
       "2    2018-09-06  2006.51001  2007.50000  1935.20996  1958.31006\n",
       "3    2018-09-07  1938.70996  1975.19995  1937.34998  1952.06995\n",
       "4    2018-09-10  1971.00000  1973.04004  1931.52002  1939.01001\n",
       "..          ...         ...         ...         ...         ...\n",
       "230  2019-08-05  1770.21997  1788.67004  1748.78003  1765.13000\n",
       "231  2019-08-06  1792.22998  1793.77002  1753.40002  1787.82996\n",
       "232  2019-08-07  1773.98999  1798.93005  1757.00000  1793.40002\n",
       "233  2019-08-08  1806.00000  1834.26001  1798.10998  1832.89002\n",
       "234  2019-08-09  1828.94995  1831.08997  1802.21997  1807.57996\n",
       "\n",
       "[235 rows x 5 columns]"
      ]
     },
     "execution_count": 50,
     "metadata": {},
     "output_type": "execute_result"
    }
   ],
   "source": [
    "# Round the values\n",
    "amzn_df.round(5)"
   ]
  },
  {
   "cell_type": "markdown",
   "id": "d6774e65-824b-43de-a186-46160f766ca3",
   "metadata": {},
   "source": [
    "### Condition --> a `Boolean` expression\n",
    "`If True`...something happens...`If False`...something different happens) written in computer syntax.\\\n",
    "`Conditional Selection` --> **analysts** sets the criteria for data selection together with **_loc & iloc_** \\\n",
    "`Boolean filter` --> is a **Python List** or **Pandas Series** of True and False values\\\n",
    "`Important:` \n",
    "> - **Boolean filter --> False values** are not returned, and when **passed in function** the rows & columns are `dropped`\n",
    "> - **iloc & loc** functions uses the index position of the Boolean filter. `Critical` to match the number of elements in the filter with the number of rows in the dataframe, if the number of elements in the boolean filter are less then the function assumes that the Boolean value is \"False\" and drops those rows.\n",
    "> - `Massive Data:` **technique** to create Boolean filters `from conditional statements` by using the values of a DataFrame. "
   ]
  },
  {
   "cell_type": "code",
   "execution_count": 124,
   "id": "c7b9dda8-8b4a-4f35-9893-7c3c0726d008",
   "metadata": {},
   "outputs": [
    {
     "name": "stdout",
     "output_type": "stream",
     "text": [
      "[True, False, True, False]\n"
     ]
    }
   ],
   "source": [
    "# Boolean Filter: Python List\n",
    "boolean_filter_list = [True, False, True, False]\n",
    "print(boolean_filter_list)"
   ]
  },
  {
   "cell_type": "code",
   "execution_count": 125,
   "id": "15044b28-c074-466b-b306-ed5bdfe73b6c",
   "metadata": {},
   "outputs": [],
   "source": [
    "# Boolean Filter: Pandas Series.\n",
    "bool_fil_series = pd.Series(\n",
    "    {\n",
    "        \"a\": True,\n",
    "        \"b\": False,\n",
    "        \"c\": True,\n",
    "        \"d\": False\n",
    "    }\n",
    ")"
   ]
  },
  {
   "cell_type": "raw",
   "id": "1269c59d-5482-4982-b9f2-cd95a6880ccd",
   "metadata": {},
   "source": [
    "amzn_df.head().loc[:,boolean_filter_list]"
   ]
  },
  {
   "cell_type": "code",
   "execution_count": 129,
   "id": "0e5cd1a8-d35c-419f-8e2f-d477e5da877c",
   "metadata": {},
   "outputs": [
    {
     "data": {
      "text/plain": [
       "[True, False, True, False, True]"
      ]
     },
     "execution_count": 129,
     "metadata": {},
     "output_type": "execute_result"
    }
   ],
   "source": [
    "# Boolean filter: columns\n",
    "boolean_filter_col = [True, False, True, False, True]\n",
    "boolean_filter_col"
   ]
  },
  {
   "cell_type": "code",
   "execution_count": 130,
   "id": "6915220f-5a3c-402e-b8c8-2aaaa3e3278e",
   "metadata": {},
   "outputs": [
    {
     "data": {
      "text/html": [
       "<div>\n",
       "<style scoped>\n",
       "    .dataframe tbody tr th:only-of-type {\n",
       "        vertical-align: middle;\n",
       "    }\n",
       "\n",
       "    .dataframe tbody tr th {\n",
       "        vertical-align: top;\n",
       "    }\n",
       "\n",
       "    .dataframe thead th {\n",
       "        text-align: right;\n",
       "    }\n",
       "</style>\n",
       "<table border=\"1\" class=\"dataframe\">\n",
       "  <thead>\n",
       "    <tr style=\"text-align: right;\">\n",
       "      <th></th>\n",
       "      <th>date</th>\n",
       "      <th>high</th>\n",
       "      <th>close</th>\n",
       "    </tr>\n",
       "  </thead>\n",
       "  <tbody>\n",
       "    <tr>\n",
       "      <th>0</th>\n",
       "      <td>2018-09-04</td>\n",
       "      <td>2050.500000</td>\n",
       "      <td>2039.510010</td>\n",
       "    </tr>\n",
       "    <tr>\n",
       "      <th>1</th>\n",
       "      <td>2018-09-05</td>\n",
       "      <td>2040.380005</td>\n",
       "      <td>1994.819946</td>\n",
       "    </tr>\n",
       "    <tr>\n",
       "      <th>2</th>\n",
       "      <td>2018-09-06</td>\n",
       "      <td>2007.500000</td>\n",
       "      <td>1958.310059</td>\n",
       "    </tr>\n",
       "    <tr>\n",
       "      <th>3</th>\n",
       "      <td>2018-09-07</td>\n",
       "      <td>1975.199951</td>\n",
       "      <td>1952.069946</td>\n",
       "    </tr>\n",
       "    <tr>\n",
       "      <th>4</th>\n",
       "      <td>2018-09-10</td>\n",
       "      <td>1973.040039</td>\n",
       "      <td>1939.010010</td>\n",
       "    </tr>\n",
       "    <tr>\n",
       "      <th>...</th>\n",
       "      <td>...</td>\n",
       "      <td>...</td>\n",
       "      <td>...</td>\n",
       "    </tr>\n",
       "    <tr>\n",
       "      <th>230</th>\n",
       "      <td>2019-08-05</td>\n",
       "      <td>1788.670044</td>\n",
       "      <td>1765.130005</td>\n",
       "    </tr>\n",
       "    <tr>\n",
       "      <th>231</th>\n",
       "      <td>2019-08-06</td>\n",
       "      <td>1793.770020</td>\n",
       "      <td>1787.829956</td>\n",
       "    </tr>\n",
       "    <tr>\n",
       "      <th>232</th>\n",
       "      <td>2019-08-07</td>\n",
       "      <td>1798.930054</td>\n",
       "      <td>1793.400024</td>\n",
       "    </tr>\n",
       "    <tr>\n",
       "      <th>233</th>\n",
       "      <td>2019-08-08</td>\n",
       "      <td>1834.260010</td>\n",
       "      <td>1832.890015</td>\n",
       "    </tr>\n",
       "    <tr>\n",
       "      <th>234</th>\n",
       "      <td>2019-08-09</td>\n",
       "      <td>1831.089966</td>\n",
       "      <td>1807.579956</td>\n",
       "    </tr>\n",
       "  </tbody>\n",
       "</table>\n",
       "<p>235 rows × 3 columns</p>\n",
       "</div>"
      ],
      "text/plain": [
       "           date         high        close\n",
       "0    2018-09-04  2050.500000  2039.510010\n",
       "1    2018-09-05  2040.380005  1994.819946\n",
       "2    2018-09-06  2007.500000  1958.310059\n",
       "3    2018-09-07  1975.199951  1952.069946\n",
       "4    2018-09-10  1973.040039  1939.010010\n",
       "..          ...          ...          ...\n",
       "230  2019-08-05  1788.670044  1765.130005\n",
       "231  2019-08-06  1793.770020  1787.829956\n",
       "232  2019-08-07  1798.930054  1793.400024\n",
       "233  2019-08-08  1834.260010  1832.890015\n",
       "234  2019-08-09  1831.089966  1807.579956\n",
       "\n",
       "[235 rows x 3 columns]"
      ]
     },
     "execution_count": 130,
     "metadata": {},
     "output_type": "execute_result"
    }
   ],
   "source": [
    "amzn_df.iloc[:, boolean_filter_col]"
   ]
  },
  {
   "cell_type": "raw",
   "id": "2d0dc069-ae99-4f49-a92f-7af1633d0e32",
   "metadata": {},
   "source": [
    "# Boolean filter from: conditional statement\n",
    "boolean_filter_row = amzn_df[\"low\"].iloc[50:151].pct_change()\n",
    "boolean_filter_row = boolean_filter > 0\n",
    "display(boolean_filter_row.dtypes)\n",
    "\n",
    "amzn_df['close'].iloc[boolean_filter_row]"
   ]
  },
  {
   "cell_type": "raw",
   "id": "1978b026-7abe-49d8-ad9e-34eb69c413cb",
   "metadata": {},
   "source": [
    "# Boolean filter: in-between (e.g. and, or, not: &, |, ~)\n",
    "\n",
    "# Filter low.\n",
    "filter_low = df > 0\n",
    "df.loc[filter_low]\n",
    "\n",
    "# Filter high.\n",
    "filter_high = df <= 2\n",
    "df.loc[filter_high]\n",
    "\n",
    "df.loc[filter_low & filter_high]"
   ]
  },
  {
   "cell_type": "code",
   "execution_count": null,
   "id": "6a06d65c-3d0b-4d17-ab2b-de346ce67880",
   "metadata": {},
   "outputs": [],
   "source": []
  }
 ],
 "metadata": {
  "kernelspec": {
   "display_name": "Python3.10 (blockchain)",
   "language": "python",
   "name": "blockchain"
  },
  "language_info": {
   "codemirror_mode": {
    "name": "ipython",
    "version": 3
   },
   "file_extension": ".py",
   "mimetype": "text/x-python",
   "name": "python",
   "nbconvert_exporter": "python",
   "pygments_lexer": "ipython3",
   "version": "3.10.10"
  }
 },
 "nbformat": 4,
 "nbformat_minor": 5
}
