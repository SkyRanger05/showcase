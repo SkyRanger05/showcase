{
 "cells": [
  {
   "cell_type": "code",
   "execution_count": 1,
   "id": "1fe69ca8-a18a-46d6-994e-03118fc3ab26",
   "metadata": {},
   "outputs": [],
   "source": [
    "# Import libraries.\n",
    "import pandas as pd\n",
    "from pathlib import Path\n",
    "\n",
    "import importlib\n",
    "reload = importlib.reload"
   ]
  },
  {
   "cell_type": "code",
   "execution_count": 2,
   "id": "916e46c6-0e54-4dd6-aab7-9e0c050e5106",
   "metadata": {},
   "outputs": [
    {
     "data": {
      "text/plain": [
       "WindowsPath('C:/Users/admin/Desktop/2024_projects/showcase/dev_tools')"
      ]
     },
     "execution_count": 2,
     "metadata": {},
     "output_type": "execute_result"
    }
   ],
   "source": [
    "cwd = Path.cwd()\n",
    "cwd"
   ]
  },
  {
   "cell_type": "code",
   "execution_count": 3,
   "id": "89dc254f-bcd1-4133-9f20-65ac51622efb",
   "metadata": {},
   "outputs": [
    {
     "name": "stdout",
     "output_type": "stream",
     "text": [
      "True\n",
      "True\n"
     ]
    }
   ],
   "source": [
    "# CSV paths\n",
    "amzn_csv = Path(\n",
    "        \"../resources/amazon.csv\"\n",
    "        )\n",
    "sox_csv = Path(\n",
    "        \"../resources/SOX_2015_2020.csv\"\n",
    "        )\n",
    "# Create symbol dictionary.\n",
    "symbol_dict = {\n",
    "    \"amzn\": \"AMAZON\",\n",
    "    \"sox\": \"SOX\"\n",
    "}\n",
    "# Create list of paths.\n",
    "csv_dict = {\n",
    "    \"amzn\": amzn_csv,\n",
    "    \"sox\": sox_csv\n",
    "}\n",
    "\n",
    "# Review list paths.\n",
    "print(Path.is_file(csv_dict[\"amzn\"]))\n",
    "print(Path.is_file(csv_dict[\"sox\"]))"
   ]
  },
  {
   "cell_type": "code",
   "execution_count": 4,
   "id": "a812203c-9c9e-4f2d-844e-b8a9b1f6456b",
   "metadata": {},
   "outputs": [
    {
     "name": "stdout",
     "output_type": "stream",
     "text": [
      "amzn ==> AMAZON\n",
      "sox ==> SOX\n"
     ]
    }
   ],
   "source": [
    "for k, v in symbol_dict.items():\n",
    "    print(\n",
    "        f\"{k} ==> {v}\"\n",
    "    )"
   ]
  },
  {
   "cell_type": "code",
   "execution_count": 5,
   "id": "7d881bef-e3b4-44e5-95b4-d89250f59800",
   "metadata": {},
   "outputs": [
    {
     "data": {
      "text/plain": [
       "([], 34.34, 'burrito')"
      ]
     },
     "execution_count": 5,
     "metadata": {},
     "output_type": "execute_result"
    }
   ],
   "source": [
    "list = []\n",
    "tup = (list, 34.34, \"burrito\")\n",
    "tup"
   ]
  },
  {
   "cell_type": "code",
   "execution_count": 6,
   "id": "fa88bd52-530e-4a96-87f5-99bfd164c82e",
   "metadata": {},
   "outputs": [
    {
     "data": {
      "text/plain": [
       "(['amzn', 'sky'], 34.34, 'burrito')"
      ]
     },
     "execution_count": 6,
     "metadata": {},
     "output_type": "execute_result"
    }
   ],
   "source": [
    "tup[0].append(\"amzn\")\n",
    "tup[0].append(\"sky\")\n",
    "tup"
   ]
  },
  {
   "cell_type": "code",
   "execution_count": 7,
   "id": "de784797-52f3-4e55-9315-e59f9551c247",
   "metadata": {},
   "outputs": [
    {
     "data": {
      "text/plain": [
       "['amzn', 'sky']"
      ]
     },
     "execution_count": 7,
     "metadata": {},
     "output_type": "execute_result"
    }
   ],
   "source": [
    "tup[0]"
   ]
  },
  {
   "cell_type": "code",
   "execution_count": 8,
   "id": "cf3521be-c73c-4659-aeeb-b5d3d257e6b4",
   "metadata": {},
   "outputs": [
    {
     "name": "stdout",
     "output_type": "stream",
     "text": [
      "amzn\n",
      "sky\n"
     ]
    }
   ],
   "source": [
    "for i in tup[0]:\n",
    "    print(i)"
   ]
  },
  {
   "cell_type": "code",
   "execution_count": 9,
   "id": "47abdb7a-f669-4c8e-8e84-278b80e81f14",
   "metadata": {},
   "outputs": [],
   "source": [
    "# Create containers.\n",
    "list = []\n",
    "tup = (list)\n",
    "\n",
    "# For the purpose of project.\n",
    "df_tup = ()"
   ]
  },
  {
   "cell_type": "code",
   "execution_count": 10,
   "id": "64278d72-84e1-4335-9812-3057a7cf7e81",
   "metadata": {},
   "outputs": [
    {
     "name": "stdout",
     "output_type": "stream",
     "text": [
      "           Date         Open         High          Low        Close   \n",
      "0    2018-09-04  2026.500000  2050.500000  2013.000000  2039.510010  \\\n",
      "1    2018-09-05  2038.109985  2040.380005  1989.890015  1994.819946   \n",
      "2    2018-09-06  2006.510010  2007.500000  1935.209961  1958.310059   \n",
      "3    2018-09-07  1938.709961  1975.199951  1937.349976  1952.069946   \n",
      "4    2018-09-10  1971.000000  1973.040039  1931.520020  1939.010010   \n",
      "..          ...          ...          ...          ...          ...   \n",
      "230  2019-08-05  1770.219971  1788.670044  1748.780029  1765.130005   \n",
      "231  2019-08-06  1792.229980  1793.770020  1753.400024  1787.829956   \n",
      "232  2019-08-07  1773.989990  1798.930054  1757.000000  1793.400024   \n",
      "233  2019-08-08  1806.000000  1834.260010  1798.109985  1832.890015   \n",
      "234  2019-08-09  1828.949951  1831.089966  1802.219971  1807.579956   \n",
      "\n",
      "       Adj Close   Volume  \n",
      "0    2039.510010  5721100  \n",
      "1    1994.819946  8220600  \n",
      "2    1958.310059  7488700  \n",
      "3    1952.069946  4892600  \n",
      "4    1939.010010  4544800  \n",
      "..           ...      ...  \n",
      "230  1765.130005  6058200  \n",
      "231  1787.829956  5070300  \n",
      "232  1793.400024  4526900  \n",
      "233  1832.890015  3701200  \n",
      "234  1807.579956  2829600  \n",
      "\n",
      "[235 rows x 7 columns]\n",
      "                     Date    Open      High      Low    Close\n",
      "0     2015-05-26 09:30:00   719.51   720.32   714.11   714.70\n",
      "1     2015-05-26 10:00:00   714.70   715.58   712.02   713.89\n",
      "2     2015-05-26 12:00:00   713.89   714.56   711.89   711.95\n",
      "3     2015-05-26 14:00:00   711.95   715.43   711.44   714.79\n",
      "4     2015-05-27 09:30:00   716.49   723.03   716.21   721.83\n",
      "...                   ...      ...      ...      ...      ...\n",
      "4952  2020-05-12 14:00:00  1773.22  1774.03  1724.40  1724.59\n",
      "4953  2020-05-13 09:30:00  1729.62  1733.20  1708.62  1721.73\n",
      "4954  2020-05-13 10:00:00  1721.50  1741.61  1689.48  1693.28\n",
      "4955  2020-05-13 12:00:00  1693.33  1695.57  1674.23  1676.15\n",
      "4956  2020-05-13 14:00:00  1675.86  1694.44  1667.52  1691.58\n",
      "\n",
      "[4957 rows x 5 columns]\n",
      "           Date         Open         High          Low        Close   \n",
      "0    2018-09-04  2026.500000  2050.500000  2013.000000  2039.510010  \\\n",
      "1    2018-09-05  2038.109985  2040.380005  1989.890015  1994.819946   \n",
      "2    2018-09-06  2006.510010  2007.500000  1935.209961  1958.310059   \n",
      "3    2018-09-07  1938.709961  1975.199951  1937.349976  1952.069946   \n",
      "4    2018-09-10  1971.000000  1973.040039  1931.520020  1939.010010   \n",
      "..          ...          ...          ...          ...          ...   \n",
      "230  2019-08-05  1770.219971  1788.670044  1748.780029  1765.130005   \n",
      "231  2019-08-06  1792.229980  1793.770020  1753.400024  1787.829956   \n",
      "232  2019-08-07  1773.989990  1798.930054  1757.000000  1793.400024   \n",
      "233  2019-08-08  1806.000000  1834.260010  1798.109985  1832.890015   \n",
      "234  2019-08-09  1828.949951  1831.089966  1802.219971  1807.579956   \n",
      "\n",
      "       Adj Close   Volume  \n",
      "0    2039.510010  5721100  \n",
      "1    1994.819946  8220600  \n",
      "2    1958.310059  7488700  \n",
      "3    1952.069946  4892600  \n",
      "4    1939.010010  4544800  \n",
      "..           ...      ...  \n",
      "230  1765.130005  6058200  \n",
      "231  1787.829956  5070300  \n",
      "232  1793.400024  4526900  \n",
      "233  1832.890015  3701200  \n",
      "234  1807.579956  2829600  \n",
      "\n",
      "[235 rows x 7 columns]\n",
      "                     Date    Open      High      Low    Close\n",
      "0     2015-05-26 09:30:00   719.51   720.32   714.11   714.70\n",
      "1     2015-05-26 10:00:00   714.70   715.58   712.02   713.89\n",
      "2     2015-05-26 12:00:00   713.89   714.56   711.89   711.95\n",
      "3     2015-05-26 14:00:00   711.95   715.43   711.44   714.79\n",
      "4     2015-05-27 09:30:00   716.49   723.03   716.21   721.83\n",
      "...                   ...      ...      ...      ...      ...\n",
      "4952  2020-05-12 14:00:00  1773.22  1774.03  1724.40  1724.59\n",
      "4953  2020-05-13 09:30:00  1729.62  1733.20  1708.62  1721.73\n",
      "4954  2020-05-13 10:00:00  1721.50  1741.61  1689.48  1693.28\n",
      "4955  2020-05-13 12:00:00  1693.33  1695.57  1674.23  1676.15\n",
      "4956  2020-05-13 14:00:00  1675.86  1694.44  1667.52  1691.58\n",
      "\n",
      "[4957 rows x 5 columns]\n"
     ]
    }
   ],
   "source": [
    "\n",
    "for df in csv_dict:\n",
    "    for k,v in symbol_dict.items():\n",
    "        df = pd.read_csv(csv_dict[k])\n",
    "        # df = df.keys = v\n",
    "        print(df)\n",
    "        tup.append(df)"
   ]
  },
  {
   "cell_type": "code",
   "execution_count": 11,
   "id": "2a575c0a-9e9d-4f34-a2f0-a3fe75b87af1",
   "metadata": {},
   "outputs": [
    {
     "data": {
      "text/html": [
       "<div>\n",
       "<style scoped>\n",
       "    .dataframe tbody tr th:only-of-type {\n",
       "        vertical-align: middle;\n",
       "    }\n",
       "\n",
       "    .dataframe tbody tr th {\n",
       "        vertical-align: top;\n",
       "    }\n",
       "\n",
       "    .dataframe thead th {\n",
       "        text-align: right;\n",
       "    }\n",
       "</style>\n",
       "<table border=\"1\" class=\"dataframe\">\n",
       "  <thead>\n",
       "    <tr style=\"text-align: right;\">\n",
       "      <th></th>\n",
       "      <th>Date</th>\n",
       "      <th>Open</th>\n",
       "      <th>High</th>\n",
       "      <th>Low</th>\n",
       "      <th>Close</th>\n",
       "      <th>Adj Close</th>\n",
       "      <th>Volume</th>\n",
       "    </tr>\n",
       "  </thead>\n",
       "  <tbody>\n",
       "    <tr>\n",
       "      <th>0</th>\n",
       "      <td>2018-09-04</td>\n",
       "      <td>2026.500000</td>\n",
       "      <td>2050.500000</td>\n",
       "      <td>2013.000000</td>\n",
       "      <td>2039.510010</td>\n",
       "      <td>2039.510010</td>\n",
       "      <td>5721100</td>\n",
       "    </tr>\n",
       "    <tr>\n",
       "      <th>1</th>\n",
       "      <td>2018-09-05</td>\n",
       "      <td>2038.109985</td>\n",
       "      <td>2040.380005</td>\n",
       "      <td>1989.890015</td>\n",
       "      <td>1994.819946</td>\n",
       "      <td>1994.819946</td>\n",
       "      <td>8220600</td>\n",
       "    </tr>\n",
       "    <tr>\n",
       "      <th>2</th>\n",
       "      <td>2018-09-06</td>\n",
       "      <td>2006.510010</td>\n",
       "      <td>2007.500000</td>\n",
       "      <td>1935.209961</td>\n",
       "      <td>1958.310059</td>\n",
       "      <td>1958.310059</td>\n",
       "      <td>7488700</td>\n",
       "    </tr>\n",
       "    <tr>\n",
       "      <th>3</th>\n",
       "      <td>2018-09-07</td>\n",
       "      <td>1938.709961</td>\n",
       "      <td>1975.199951</td>\n",
       "      <td>1937.349976</td>\n",
       "      <td>1952.069946</td>\n",
       "      <td>1952.069946</td>\n",
       "      <td>4892600</td>\n",
       "    </tr>\n",
       "    <tr>\n",
       "      <th>4</th>\n",
       "      <td>2018-09-10</td>\n",
       "      <td>1971.000000</td>\n",
       "      <td>1973.040039</td>\n",
       "      <td>1931.520020</td>\n",
       "      <td>1939.010010</td>\n",
       "      <td>1939.010010</td>\n",
       "      <td>4544800</td>\n",
       "    </tr>\n",
       "    <tr>\n",
       "      <th>...</th>\n",
       "      <td>...</td>\n",
       "      <td>...</td>\n",
       "      <td>...</td>\n",
       "      <td>...</td>\n",
       "      <td>...</td>\n",
       "      <td>...</td>\n",
       "      <td>...</td>\n",
       "    </tr>\n",
       "    <tr>\n",
       "      <th>230</th>\n",
       "      <td>2019-08-05</td>\n",
       "      <td>1770.219971</td>\n",
       "      <td>1788.670044</td>\n",
       "      <td>1748.780029</td>\n",
       "      <td>1765.130005</td>\n",
       "      <td>1765.130005</td>\n",
       "      <td>6058200</td>\n",
       "    </tr>\n",
       "    <tr>\n",
       "      <th>231</th>\n",
       "      <td>2019-08-06</td>\n",
       "      <td>1792.229980</td>\n",
       "      <td>1793.770020</td>\n",
       "      <td>1753.400024</td>\n",
       "      <td>1787.829956</td>\n",
       "      <td>1787.829956</td>\n",
       "      <td>5070300</td>\n",
       "    </tr>\n",
       "    <tr>\n",
       "      <th>232</th>\n",
       "      <td>2019-08-07</td>\n",
       "      <td>1773.989990</td>\n",
       "      <td>1798.930054</td>\n",
       "      <td>1757.000000</td>\n",
       "      <td>1793.400024</td>\n",
       "      <td>1793.400024</td>\n",
       "      <td>4526900</td>\n",
       "    </tr>\n",
       "    <tr>\n",
       "      <th>233</th>\n",
       "      <td>2019-08-08</td>\n",
       "      <td>1806.000000</td>\n",
       "      <td>1834.260010</td>\n",
       "      <td>1798.109985</td>\n",
       "      <td>1832.890015</td>\n",
       "      <td>1832.890015</td>\n",
       "      <td>3701200</td>\n",
       "    </tr>\n",
       "    <tr>\n",
       "      <th>234</th>\n",
       "      <td>2019-08-09</td>\n",
       "      <td>1828.949951</td>\n",
       "      <td>1831.089966</td>\n",
       "      <td>1802.219971</td>\n",
       "      <td>1807.579956</td>\n",
       "      <td>1807.579956</td>\n",
       "      <td>2829600</td>\n",
       "    </tr>\n",
       "  </tbody>\n",
       "</table>\n",
       "<p>235 rows × 7 columns</p>\n",
       "</div>"
      ],
      "text/plain": [
       "           Date         Open         High          Low        Close   \n",
       "0    2018-09-04  2026.500000  2050.500000  2013.000000  2039.510010  \\\n",
       "1    2018-09-05  2038.109985  2040.380005  1989.890015  1994.819946   \n",
       "2    2018-09-06  2006.510010  2007.500000  1935.209961  1958.310059   \n",
       "3    2018-09-07  1938.709961  1975.199951  1937.349976  1952.069946   \n",
       "4    2018-09-10  1971.000000  1973.040039  1931.520020  1939.010010   \n",
       "..          ...          ...          ...          ...          ...   \n",
       "230  2019-08-05  1770.219971  1788.670044  1748.780029  1765.130005   \n",
       "231  2019-08-06  1792.229980  1793.770020  1753.400024  1787.829956   \n",
       "232  2019-08-07  1773.989990  1798.930054  1757.000000  1793.400024   \n",
       "233  2019-08-08  1806.000000  1834.260010  1798.109985  1832.890015   \n",
       "234  2019-08-09  1828.949951  1831.089966  1802.219971  1807.579956   \n",
       "\n",
       "       Adj Close   Volume  \n",
       "0    2039.510010  5721100  \n",
       "1    1994.819946  8220600  \n",
       "2    1958.310059  7488700  \n",
       "3    1952.069946  4892600  \n",
       "4    1939.010010  4544800  \n",
       "..           ...      ...  \n",
       "230  1765.130005  6058200  \n",
       "231  1787.829956  5070300  \n",
       "232  1793.400024  4526900  \n",
       "233  1832.890015  3701200  \n",
       "234  1807.579956  2829600  \n",
       "\n",
       "[235 rows x 7 columns]"
      ]
     },
     "execution_count": 11,
     "metadata": {},
     "output_type": "execute_result"
    }
   ],
   "source": [
    "tup[0]"
   ]
  },
  {
   "cell_type": "code",
   "execution_count": 12,
   "id": "ec38b23d-43dd-4de1-a98d-4f694bc14794",
   "metadata": {},
   "outputs": [
    {
     "data": {
      "text/html": [
       "<div>\n",
       "<style scoped>\n",
       "    .dataframe tbody tr th:only-of-type {\n",
       "        vertical-align: middle;\n",
       "    }\n",
       "\n",
       "    .dataframe tbody tr th {\n",
       "        vertical-align: top;\n",
       "    }\n",
       "\n",
       "    .dataframe thead th {\n",
       "        text-align: right;\n",
       "    }\n",
       "</style>\n",
       "<table border=\"1\" class=\"dataframe\">\n",
       "  <thead>\n",
       "    <tr style=\"text-align: right;\">\n",
       "      <th></th>\n",
       "      <th>Date</th>\n",
       "      <th>Open</th>\n",
       "      <th>High</th>\n",
       "      <th>Low</th>\n",
       "      <th>Close</th>\n",
       "    </tr>\n",
       "  </thead>\n",
       "  <tbody>\n",
       "    <tr>\n",
       "      <th>0</th>\n",
       "      <td>2015-05-26 09:30:00</td>\n",
       "      <td>719.51</td>\n",
       "      <td>720.32</td>\n",
       "      <td>714.11</td>\n",
       "      <td>714.70</td>\n",
       "    </tr>\n",
       "    <tr>\n",
       "      <th>1</th>\n",
       "      <td>2015-05-26 10:00:00</td>\n",
       "      <td>714.70</td>\n",
       "      <td>715.58</td>\n",
       "      <td>712.02</td>\n",
       "      <td>713.89</td>\n",
       "    </tr>\n",
       "    <tr>\n",
       "      <th>2</th>\n",
       "      <td>2015-05-26 12:00:00</td>\n",
       "      <td>713.89</td>\n",
       "      <td>714.56</td>\n",
       "      <td>711.89</td>\n",
       "      <td>711.95</td>\n",
       "    </tr>\n",
       "    <tr>\n",
       "      <th>3</th>\n",
       "      <td>2015-05-26 14:00:00</td>\n",
       "      <td>711.95</td>\n",
       "      <td>715.43</td>\n",
       "      <td>711.44</td>\n",
       "      <td>714.79</td>\n",
       "    </tr>\n",
       "    <tr>\n",
       "      <th>4</th>\n",
       "      <td>2015-05-27 09:30:00</td>\n",
       "      <td>716.49</td>\n",
       "      <td>723.03</td>\n",
       "      <td>716.21</td>\n",
       "      <td>721.83</td>\n",
       "    </tr>\n",
       "    <tr>\n",
       "      <th>...</th>\n",
       "      <td>...</td>\n",
       "      <td>...</td>\n",
       "      <td>...</td>\n",
       "      <td>...</td>\n",
       "      <td>...</td>\n",
       "    </tr>\n",
       "    <tr>\n",
       "      <th>4952</th>\n",
       "      <td>2020-05-12 14:00:00</td>\n",
       "      <td>1773.22</td>\n",
       "      <td>1774.03</td>\n",
       "      <td>1724.40</td>\n",
       "      <td>1724.59</td>\n",
       "    </tr>\n",
       "    <tr>\n",
       "      <th>4953</th>\n",
       "      <td>2020-05-13 09:30:00</td>\n",
       "      <td>1729.62</td>\n",
       "      <td>1733.20</td>\n",
       "      <td>1708.62</td>\n",
       "      <td>1721.73</td>\n",
       "    </tr>\n",
       "    <tr>\n",
       "      <th>4954</th>\n",
       "      <td>2020-05-13 10:00:00</td>\n",
       "      <td>1721.50</td>\n",
       "      <td>1741.61</td>\n",
       "      <td>1689.48</td>\n",
       "      <td>1693.28</td>\n",
       "    </tr>\n",
       "    <tr>\n",
       "      <th>4955</th>\n",
       "      <td>2020-05-13 12:00:00</td>\n",
       "      <td>1693.33</td>\n",
       "      <td>1695.57</td>\n",
       "      <td>1674.23</td>\n",
       "      <td>1676.15</td>\n",
       "    </tr>\n",
       "    <tr>\n",
       "      <th>4956</th>\n",
       "      <td>2020-05-13 14:00:00</td>\n",
       "      <td>1675.86</td>\n",
       "      <td>1694.44</td>\n",
       "      <td>1667.52</td>\n",
       "      <td>1691.58</td>\n",
       "    </tr>\n",
       "  </tbody>\n",
       "</table>\n",
       "<p>4957 rows × 5 columns</p>\n",
       "</div>"
      ],
      "text/plain": [
       "                     Date    Open      High      Low    Close\n",
       "0     2015-05-26 09:30:00   719.51   720.32   714.11   714.70\n",
       "1     2015-05-26 10:00:00   714.70   715.58   712.02   713.89\n",
       "2     2015-05-26 12:00:00   713.89   714.56   711.89   711.95\n",
       "3     2015-05-26 14:00:00   711.95   715.43   711.44   714.79\n",
       "4     2015-05-27 09:30:00   716.49   723.03   716.21   721.83\n",
       "...                   ...      ...      ...      ...      ...\n",
       "4952  2020-05-12 14:00:00  1773.22  1774.03  1724.40  1724.59\n",
       "4953  2020-05-13 09:30:00  1729.62  1733.20  1708.62  1721.73\n",
       "4954  2020-05-13 10:00:00  1721.50  1741.61  1689.48  1693.28\n",
       "4955  2020-05-13 12:00:00  1693.33  1695.57  1674.23  1676.15\n",
       "4956  2020-05-13 14:00:00  1675.86  1694.44  1667.52  1691.58\n",
       "\n",
       "[4957 rows x 5 columns]"
      ]
     },
     "execution_count": 12,
     "metadata": {},
     "output_type": "execute_result"
    }
   ],
   "source": [
    "tup[1]"
   ]
  },
  {
   "cell_type": "markdown",
   "id": "72872599-5c22-48ea-8b9b-160214fe6e45",
   "metadata": {},
   "source": [
    "___\n",
    "# App: data_sanitizer"
   ]
  },
  {
   "cell_type": "code",
   "execution_count": 13,
   "id": "5847be85-f7de-40be-b41d-b8da967cb03a",
   "metadata": {},
   "outputs": [
    {
     "data": {
      "text/plain": [
       "WindowsPath('C:/Users/admin/Desktop/2024_projects/showcase/dev_tools')"
      ]
     },
     "execution_count": 13,
     "metadata": {},
     "output_type": "execute_result"
    }
   ],
   "source": [
    "cwd"
   ]
  },
  {
   "cell_type": "code",
   "execution_count": 14,
   "id": "72707c52-6a2c-49b8-be9d-ed0b38b71c3d",
   "metadata": {},
   "outputs": [
    {
     "name": "stdout",
     "output_type": "stream",
     "text": [
      " Volume in drive C has no label.\n",
      " Volume Serial Number is 30E6-A2C1\n",
      "\n",
      " Directory of C:\\Users\\admin\\Desktop\\2024_projects\\showcase\\app_tools\n",
      "\n",
      "03/11/2024  12:27 PM    <DIR>          .\n",
      "03/13/2024  12:50 AM    <DIR>          ..\n",
      "03/11/2024  02:22 AM                86 __init__.py\n",
      "03/11/2024  09:56 PM    <DIR>          __pycache__\n",
      "03/11/2024  12:27 PM               480 data_sanitizer.py\n",
      "               2 File(s)            566 bytes\n",
      "               3 Dir(s)  359,829,778,432 bytes free\n"
     ]
    }
   ],
   "source": [
    "ls ..\\app_tools"
   ]
  },
  {
   "cell_type": "code",
   "execution_count": 15,
   "id": "41df4d65-17fb-46ef-8adf-16940e25bebe",
   "metadata": {},
   "outputs": [],
   "source": [
    "import test"
   ]
  },
  {
   "cell_type": "code",
   "execution_count": 16,
   "id": "0cb50706-4887-4208-916c-38b4afe7eb8c",
   "metadata": {},
   "outputs": [
    {
     "name": "stdout",
     "output_type": "stream",
     "text": [
      "Almost...there!!!\n"
     ]
    }
   ],
   "source": [
    "test.hello()"
   ]
  },
  {
   "cell_type": "code",
   "execution_count": 17,
   "id": "97472361-88ef-46a5-80eb-b29b931b7881",
   "metadata": {},
   "outputs": [
    {
     "name": "stdout",
     "output_type": "stream",
     "text": [
      "C:\\Users\\admin\\Desktop\\2024_projects\\showcase\n"
     ]
    }
   ],
   "source": [
    "cd ..\\"
   ]
  },
  {
   "cell_type": "code",
   "execution_count": 18,
   "id": "9ed763c1-5655-4208-aaa7-f7fe044ea0d1",
   "metadata": {},
   "outputs": [
    {
     "data": {
      "text/plain": [
       "'C:\\\\Users\\\\admin\\\\Desktop\\\\2024_projects\\\\showcase'"
      ]
     },
     "execution_count": 18,
     "metadata": {},
     "output_type": "execute_result"
    }
   ],
   "source": [
    "pwd"
   ]
  },
  {
   "cell_type": "code",
   "execution_count": 19,
   "id": "94f6a19d-0fe8-4a1a-8df5-da3663160c20",
   "metadata": {},
   "outputs": [
    {
     "name": "stdout",
     "output_type": "stream",
     "text": [
      "pct_change.py is run as import.\n"
     ]
    },
    {
     "name": "stderr",
     "output_type": "stream",
     "text": [
      "2024-03-13 02:52:39.898 \n",
      "  \u001b[33m\u001b[1mWarning:\u001b[0m to view this Streamlit app on a browser, run it with the following\n",
      "  command:\n",
      "\n",
      "    streamlit run C:\\Users\\admin\\anaconda3\\envs\\FinBlockchain\\lib\\site-packages\\ipykernel_launcher.py [ARGUMENTS]\n"
     ]
    },
    {
     "name": "stdout",
     "output_type": "stream",
     "text": [
      "Run as import\n"
     ]
    }
   ],
   "source": [
    "import app_main"
   ]
  },
  {
   "cell_type": "code",
   "execution_count": 20,
   "id": "cea72a04-0813-4f30-94df-54b4a27a6ff1",
   "metadata": {},
   "outputs": [],
   "source": [
    "list = [\"burrito\", 42, \"banana\"]"
   ]
  },
  {
   "cell_type": "code",
   "execution_count": 21,
   "id": "ad51421b-0a86-4782-b72f-4afe71478b71",
   "metadata": {},
   "outputs": [
    {
     "name": "stdout",
     "output_type": "stream",
     "text": [
      "False\n"
     ]
    }
   ],
   "source": [
    "print(app_main.tab1==list)"
   ]
  },
  {
   "cell_type": "code",
   "execution_count": 22,
   "id": "878f17cf-7f8a-481d-aa9a-ffbcae7fd34d",
   "metadata": {},
   "outputs": [
    {
     "name": "stdout",
     "output_type": "stream",
     "text": [
      "['__builtins__', '__cached__', '__doc__', '__file__', '__loader__', '__name__', '__package__', '__spec__', 'cln', 'csv_ex', 'dfs', 'k', 'st', 'symbol_dict', 'sys', 'tab1', 'tab10', 'tab11', 'tab2', 'tab3', 'tab4', 'tab5', 'tab6', 'tab7', 'tab8', 'tab9', 'v']\n"
     ]
    }
   ],
   "source": [
    "print(dir(app_main))"
   ]
  },
  {
   "cell_type": "code",
   "execution_count": 23,
   "id": "68a58dcd-a55b-442e-bc0a-cbde4e5b227f",
   "metadata": {},
   "outputs": [
    {
     "data": {
      "text/plain": [
       "{'amzn':            Date         Open         High          Low        Close   \n",
       " 0    2018-09-04  2026.500000  2050.500000  2013.000000  2039.510010  \\\n",
       " 1    2018-09-05  2038.109985  2040.380005  1989.890015  1994.819946   \n",
       " 2    2018-09-06  2006.510010  2007.500000  1935.209961  1958.310059   \n",
       " 3    2018-09-07  1938.709961  1975.199951  1937.349976  1952.069946   \n",
       " 4    2018-09-10  1971.000000  1973.040039  1931.520020  1939.010010   \n",
       " ..          ...          ...          ...          ...          ...   \n",
       " 230  2019-08-05  1770.219971  1788.670044  1748.780029  1765.130005   \n",
       " 231  2019-08-06  1792.229980  1793.770020  1753.400024  1787.829956   \n",
       " 232  2019-08-07  1773.989990  1798.930054  1757.000000  1793.400024   \n",
       " 233  2019-08-08  1806.000000  1834.260010  1798.109985  1832.890015   \n",
       " 234  2019-08-09  1828.949951  1831.089966  1802.219971  1807.579956   \n",
       " \n",
       "        Adj Close   Volume  \n",
       " 0    2039.510010  5721100  \n",
       " 1    1994.819946  8220600  \n",
       " 2    1958.310059  7488700  \n",
       " 3    1952.069946  4892600  \n",
       " 4    1939.010010  4544800  \n",
       " ..           ...      ...  \n",
       " 230  1765.130005  6058200  \n",
       " 231  1787.829956  5070300  \n",
       " 232  1793.400024  4526900  \n",
       " 233  1832.890015  3701200  \n",
       " 234  1807.579956  2829600  \n",
       " \n",
       " [235 rows x 7 columns],\n",
       " 'sox':                      Date    Open      High      Low    Close\n",
       " 0     2015-05-26 09:30:00   719.51   720.32   714.11   714.70\n",
       " 1     2015-05-26 10:00:00   714.70   715.58   712.02   713.89\n",
       " 2     2015-05-26 12:00:00   713.89   714.56   711.89   711.95\n",
       " 3     2015-05-26 14:00:00   711.95   715.43   711.44   714.79\n",
       " 4     2015-05-27 09:30:00   716.49   723.03   716.21   721.83\n",
       " ...                   ...      ...      ...      ...      ...\n",
       " 4952  2020-05-12 14:00:00  1773.22  1774.03  1724.40  1724.59\n",
       " 4953  2020-05-13 09:30:00  1729.62  1733.20  1708.62  1721.73\n",
       " 4954  2020-05-13 10:00:00  1721.50  1741.61  1689.48  1693.28\n",
       " 4955  2020-05-13 12:00:00  1693.33  1695.57  1674.23  1676.15\n",
       " 4956  2020-05-13 14:00:00  1675.86  1694.44  1667.52  1691.58\n",
       " \n",
       " [4957 rows x 5 columns]}"
      ]
     },
     "execution_count": 23,
     "metadata": {},
     "output_type": "execute_result"
    }
   ],
   "source": [
    "dfs = app_main.dfs\n",
    "dfs"
   ]
  },
  {
   "cell_type": "code",
   "execution_count": 24,
   "id": "5e8b75e1-dcdd-46d6-9247-9a4dd5834122",
   "metadata": {},
   "outputs": [
    {
     "data": {
      "text/html": [
       "<div>\n",
       "<style scoped>\n",
       "    .dataframe tbody tr th:only-of-type {\n",
       "        vertical-align: middle;\n",
       "    }\n",
       "\n",
       "    .dataframe tbody tr th {\n",
       "        vertical-align: top;\n",
       "    }\n",
       "\n",
       "    .dataframe thead th {\n",
       "        text-align: right;\n",
       "    }\n",
       "</style>\n",
       "<table border=\"1\" class=\"dataframe\">\n",
       "  <thead>\n",
       "    <tr style=\"text-align: right;\">\n",
       "      <th></th>\n",
       "      <th>Date</th>\n",
       "      <th>Open</th>\n",
       "      <th>High</th>\n",
       "      <th>Low</th>\n",
       "      <th>Close</th>\n",
       "      <th>Adj Close</th>\n",
       "      <th>Volume</th>\n",
       "    </tr>\n",
       "  </thead>\n",
       "  <tbody>\n",
       "    <tr>\n",
       "      <th>0</th>\n",
       "      <td>2018-09-04</td>\n",
       "      <td>2026.500000</td>\n",
       "      <td>2050.500000</td>\n",
       "      <td>2013.000000</td>\n",
       "      <td>2039.510010</td>\n",
       "      <td>2039.510010</td>\n",
       "      <td>5721100</td>\n",
       "    </tr>\n",
       "    <tr>\n",
       "      <th>1</th>\n",
       "      <td>2018-09-05</td>\n",
       "      <td>2038.109985</td>\n",
       "      <td>2040.380005</td>\n",
       "      <td>1989.890015</td>\n",
       "      <td>1994.819946</td>\n",
       "      <td>1994.819946</td>\n",
       "      <td>8220600</td>\n",
       "    </tr>\n",
       "    <tr>\n",
       "      <th>2</th>\n",
       "      <td>2018-09-06</td>\n",
       "      <td>2006.510010</td>\n",
       "      <td>2007.500000</td>\n",
       "      <td>1935.209961</td>\n",
       "      <td>1958.310059</td>\n",
       "      <td>1958.310059</td>\n",
       "      <td>7488700</td>\n",
       "    </tr>\n",
       "    <tr>\n",
       "      <th>3</th>\n",
       "      <td>2018-09-07</td>\n",
       "      <td>1938.709961</td>\n",
       "      <td>1975.199951</td>\n",
       "      <td>1937.349976</td>\n",
       "      <td>1952.069946</td>\n",
       "      <td>1952.069946</td>\n",
       "      <td>4892600</td>\n",
       "    </tr>\n",
       "    <tr>\n",
       "      <th>4</th>\n",
       "      <td>2018-09-10</td>\n",
       "      <td>1971.000000</td>\n",
       "      <td>1973.040039</td>\n",
       "      <td>1931.520020</td>\n",
       "      <td>1939.010010</td>\n",
       "      <td>1939.010010</td>\n",
       "      <td>4544800</td>\n",
       "    </tr>\n",
       "  </tbody>\n",
       "</table>\n",
       "</div>"
      ],
      "text/plain": [
       "         Date         Open         High          Low        Close   \n",
       "0  2018-09-04  2026.500000  2050.500000  2013.000000  2039.510010  \\\n",
       "1  2018-09-05  2038.109985  2040.380005  1989.890015  1994.819946   \n",
       "2  2018-09-06  2006.510010  2007.500000  1935.209961  1958.310059   \n",
       "3  2018-09-07  1938.709961  1975.199951  1937.349976  1952.069946   \n",
       "4  2018-09-10  1971.000000  1973.040039  1931.520020  1939.010010   \n",
       "\n",
       "     Adj Close   Volume  \n",
       "0  2039.510010  5721100  \n",
       "1  1994.819946  8220600  \n",
       "2  1958.310059  7488700  \n",
       "3  1952.069946  4892600  \n",
       "4  1939.010010  4544800  "
      ]
     },
     "execution_count": 24,
     "metadata": {},
     "output_type": "execute_result"
    }
   ],
   "source": [
    "amzn_df = app_main.dfs[\"amzn\"]\n",
    "amzn_df.head()"
   ]
  },
  {
   "cell_type": "code",
   "execution_count": 25,
   "id": "24e273ec-f464-42f4-91f2-93d3db22889f",
   "metadata": {},
   "outputs": [
    {
     "data": {
      "text/html": [
       "<div>\n",
       "<style scoped>\n",
       "    .dataframe tbody tr th:only-of-type {\n",
       "        vertical-align: middle;\n",
       "    }\n",
       "\n",
       "    .dataframe tbody tr th {\n",
       "        vertical-align: top;\n",
       "    }\n",
       "\n",
       "    .dataframe thead th {\n",
       "        text-align: right;\n",
       "    }\n",
       "</style>\n",
       "<table border=\"1\" class=\"dataframe\">\n",
       "  <thead>\n",
       "    <tr style=\"text-align: right;\">\n",
       "      <th></th>\n",
       "      <th>Date</th>\n",
       "      <th>Open</th>\n",
       "      <th>High</th>\n",
       "      <th>Low</th>\n",
       "      <th>Close</th>\n",
       "    </tr>\n",
       "  </thead>\n",
       "  <tbody>\n",
       "    <tr>\n",
       "      <th>0</th>\n",
       "      <td>2015-05-26 09:30:00</td>\n",
       "      <td>719.51</td>\n",
       "      <td>720.32</td>\n",
       "      <td>714.11</td>\n",
       "      <td>714.70</td>\n",
       "    </tr>\n",
       "    <tr>\n",
       "      <th>1</th>\n",
       "      <td>2015-05-26 10:00:00</td>\n",
       "      <td>714.70</td>\n",
       "      <td>715.58</td>\n",
       "      <td>712.02</td>\n",
       "      <td>713.89</td>\n",
       "    </tr>\n",
       "    <tr>\n",
       "      <th>2</th>\n",
       "      <td>2015-05-26 12:00:00</td>\n",
       "      <td>713.89</td>\n",
       "      <td>714.56</td>\n",
       "      <td>711.89</td>\n",
       "      <td>711.95</td>\n",
       "    </tr>\n",
       "    <tr>\n",
       "      <th>3</th>\n",
       "      <td>2015-05-26 14:00:00</td>\n",
       "      <td>711.95</td>\n",
       "      <td>715.43</td>\n",
       "      <td>711.44</td>\n",
       "      <td>714.79</td>\n",
       "    </tr>\n",
       "    <tr>\n",
       "      <th>4</th>\n",
       "      <td>2015-05-27 09:30:00</td>\n",
       "      <td>716.49</td>\n",
       "      <td>723.03</td>\n",
       "      <td>716.21</td>\n",
       "      <td>721.83</td>\n",
       "    </tr>\n",
       "  </tbody>\n",
       "</table>\n",
       "</div>"
      ],
      "text/plain": [
       "                  Date   Open     High     Low   Close\n",
       "0  2015-05-26 09:30:00  719.51  720.32  714.11  714.70\n",
       "1  2015-05-26 10:00:00  714.70  715.58  712.02  713.89\n",
       "2  2015-05-26 12:00:00  713.89  714.56  711.89  711.95\n",
       "3  2015-05-26 14:00:00  711.95  715.43  711.44  714.79\n",
       "4  2015-05-27 09:30:00  716.49  723.03  716.21  721.83"
      ]
     },
     "execution_count": 25,
     "metadata": {},
     "output_type": "execute_result"
    }
   ],
   "source": [
    "sox_df = app_main.dfs[\"sox\"]\n",
    "sox_df.head()"
   ]
  },
  {
   "cell_type": "code",
   "execution_count": 26,
   "id": "cb82848f-cb26-4c91-af5d-f85da756ecca",
   "metadata": {},
   "outputs": [
    {
     "data": {
      "text/plain": [
       "<module 'app_tools.data_sanitizer' from 'C:\\\\Users\\\\admin\\\\Desktop\\\\2024_projects\\\\showcase\\\\app_tools\\\\data_sanitizer.py'>"
      ]
     },
     "execution_count": 26,
     "metadata": {},
     "output_type": "execute_result"
    }
   ],
   "source": [
    "cln = app_main.cln\n",
    "cln"
   ]
  },
  {
   "cell_type": "code",
   "execution_count": 27,
   "id": "dc398464-b7cb-4fd4-8f81-249d0203b082",
   "metadata": {},
   "outputs": [
    {
     "name": "stdout",
     "output_type": "stream",
     "text": [
      "['Path', '__builtins__', '__cached__', '__doc__', '__file__', '__loader__', '__name__', '__package__', '__spec__', 'amzn_csv', 'csv_dict', 'data', 'pct', 'sox_csv', 'st']\n"
     ]
    },
    {
     "data": {
      "text/plain": [
       "<module 'frontend.csv_example' from 'C:\\\\Users\\\\admin\\\\Desktop\\\\2024_projects\\\\showcase\\\\frontend\\\\csv_example.py'>"
      ]
     },
     "execution_count": 27,
     "metadata": {},
     "output_type": "execute_result"
    }
   ],
   "source": [
    "csv = app_main.csv_ex\n",
    "print(dir(csv))\n",
    "csv"
   ]
  },
  {
   "cell_type": "code",
   "execution_count": 28,
   "id": "bc546b34-234b-47b8-903b-8050426bf5ac",
   "metadata": {},
   "outputs": [
    {
     "data": {
      "text/plain": [
       "<module 'streamlit' from 'C:\\\\Users\\\\admin\\\\anaconda3\\\\envs\\\\FinBlockchain\\\\lib\\\\site-packages\\\\streamlit\\\\__init__.py'>"
      ]
     },
     "execution_count": 28,
     "metadata": {},
     "output_type": "execute_result"
    }
   ],
   "source": [
    "st = app_main.st\n",
    "st"
   ]
  },
  {
   "cell_type": "code",
   "execution_count": 29,
   "id": "0a9389e4-0670-452d-af43-cee9b42028b2",
   "metadata": {},
   "outputs": [
    {
     "data": {
      "text/plain": [
       "{'amzn': 'AMAZON', 'sox': 'SOX'}"
      ]
     },
     "execution_count": 29,
     "metadata": {},
     "output_type": "execute_result"
    }
   ],
   "source": [
    "symbols = app_main.symbol_dict\n",
    "symbols"
   ]
  },
  {
   "cell_type": "code",
   "execution_count": 30,
   "id": "1b875e7c-cb77-4cda-ad99-9074fa308f34",
   "metadata": {},
   "outputs": [
    {
     "name": "stdout",
     "output_type": "stream",
     "text": [
      "['__class__', '__delattr__', '__dict__', '__dir__', '__doc__', '__enter__', '__eq__', '__exit__', '__format__', '__ge__', '__getattr__', '__getattribute__', '__gt__', '__hash__', '__init__', '__init_subclass__', '__le__', '__lt__', '__module__', '__ne__', '__new__', '__reduce__', '__reduce_ex__', '__repr__', '__setattr__', '__sizeof__', '__str__', '__subclasshook__', '__weakref__', '_active_dg', '_arrow_add_rows', '_arrow_altair_chart', '_arrow_area_chart', '_arrow_bar_chart', '_arrow_dataframe', '_arrow_line_chart', '_arrow_table', '_arrow_vega_lite_chart', '_block', '_block_type', '_button', '_camera_input', '_checkbox', '_color_picker', '_count_num_of_parent_columns', '_create_heading_proto', '_cursor', '_date_input', '_download_button', '_enqueue', '_file_uploader', '_form_data', '_form_submit_button', '_get_delta_path_str', '_html', '_iframe', '_is_top_level', '_legacy_add_rows', '_legacy_altair_chart', '_legacy_area_chart', '_legacy_bar_chart', '_legacy_dataframe', '_legacy_line_chart', '_legacy_table', '_legacy_vega_lite_chart', '_main_dg', '_multiselect', '_number_input', '_parent', '_parent_block_types', '_provided_cursor', '_radio', '_root_container', '_select_slider', '_selectbox', '_slider', '_text_area', '_text_input', '_time_input', 'add_rows', 'altair_chart', 'area_chart', 'audio', 'balloons', 'bar_chart', 'beta_columns', 'beta_container', 'beta_expander', 'bokeh_chart', 'button', 'camera_input', 'caption', 'checkbox', 'code', 'color_picker', 'columns', 'container', 'dataframe', 'date_input', 'dg', 'divider', 'download_button', 'empty', 'error', 'exception', 'expander', 'experimental_data_editor', 'file_uploader', 'form', 'form_submit_button', 'graphviz_chart', 'header', 'help', 'id', 'image', 'info', 'json', 'latex', 'line_chart', 'map', 'markdown', 'metric', 'multiselect', 'number_input', 'plotly_chart', 'progress', 'pydeck_chart', 'pyplot', 'radio', 'select_slider', 'selectbox', 'slider', 'snow', 'subheader', 'success', 'table', 'tabs', 'text', 'text_area', 'text_input', 'time_input', 'title', 'vega_lite_chart', 'video', 'warning', 'write']\n"
     ]
    }
   ],
   "source": [
    "print(dir(app_main.tab1))"
   ]
  },
  {
   "cell_type": "code",
   "execution_count": 31,
   "id": "e9e0c74f-cc60-4ad4-8532-56f428a4364f",
   "metadata": {},
   "outputs": [
    {
     "name": "stdout",
     "output_type": "stream",
     "text": [
      "['__class__', '__delattr__', '__dict__', '__dir__', '__doc__', '__enter__', '__eq__', '__exit__', '__format__', '__ge__', '__getattr__', '__getattribute__', '__gt__', '__hash__', '__init__', '__init_subclass__', '__le__', '__lt__', '__module__', '__ne__', '__new__', '__reduce__', '__reduce_ex__', '__repr__', '__setattr__', '__sizeof__', '__str__', '__subclasshook__', '__weakref__', '_active_dg', '_arrow_add_rows', '_arrow_altair_chart', '_arrow_area_chart', '_arrow_bar_chart', '_arrow_dataframe', '_arrow_line_chart', '_arrow_table', '_arrow_vega_lite_chart', '_block', '_block_type', '_button', '_camera_input', '_checkbox', '_color_picker', '_count_num_of_parent_columns', '_create_heading_proto', '_cursor', '_date_input', '_download_button', '_enqueue', '_file_uploader', '_form_data', '_form_submit_button', '_get_delta_path_str', '_html', '_iframe', '_is_top_level', '_legacy_add_rows', '_legacy_altair_chart', '_legacy_area_chart', '_legacy_bar_chart', '_legacy_dataframe', '_legacy_line_chart', '_legacy_table', '_legacy_vega_lite_chart', '_main_dg', '_multiselect', '_number_input', '_parent', '_parent_block_types', '_provided_cursor', '_radio', '_root_container', '_select_slider', '_selectbox', '_slider', '_text_area', '_text_input', '_time_input', 'add_rows', 'altair_chart', 'area_chart', 'audio', 'balloons', 'bar_chart', 'beta_columns', 'beta_container', 'beta_expander', 'bokeh_chart', 'button', 'camera_input', 'caption', 'checkbox', 'code', 'color_picker', 'columns', 'container', 'dataframe', 'date_input', 'dg', 'divider', 'download_button', 'empty', 'error', 'exception', 'expander', 'experimental_data_editor', 'file_uploader', 'form', 'form_submit_button', 'graphviz_chart', 'header', 'help', 'id', 'image', 'info', 'json', 'latex', 'line_chart', 'map', 'markdown', 'metric', 'multiselect', 'number_input', 'plotly_chart', 'progress', 'pydeck_chart', 'pyplot', 'radio', 'select_slider', 'selectbox', 'slider', 'snow', 'subheader', 'success', 'table', 'tabs', 'text', 'text_area', 'text_input', 'time_input', 'title', 'vega_lite_chart', 'video', 'warning', 'write']\n"
     ]
    }
   ],
   "source": [
    "print(dir(app_main.tab2))"
   ]
  },
  {
   "cell_type": "raw",
   "id": "ff4d0f34-a4e6-426f-bdca-0ef47a50b115",
   "metadata": {},
   "source": [
    "'cln', 'csv_ex', 'dfs', 'k', 'st', 'symbol_dict', 'sys', 'tab1', 'tab10', 'tab11', 'tab2', 'tab3', 'tab4', 'tab5', 'tab6', 'tab7', 'tab8', 'tab9', 'v'"
   ]
  },
  {
   "cell_type": "code",
   "execution_count": 32,
   "id": "b7a69136-e1e5-46ed-b1cd-e523578c6628",
   "metadata": {},
   "outputs": [
    {
     "name": "stdout",
     "output_type": "stream",
     "text": [
      "C:\\Users\\admin\\Desktop\\2024_projects\\showcase\\app_tools\n"
     ]
    }
   ],
   "source": [
    "cd app_tools/"
   ]
  },
  {
   "cell_type": "code",
   "execution_count": 33,
   "id": "7fbf6355-df8e-424b-8670-24c96eb114d1",
   "metadata": {},
   "outputs": [
    {
     "data": {
      "text/plain": [
       "'C:\\\\Users\\\\admin\\\\Desktop\\\\2024_projects\\\\showcase\\\\app_tools'"
      ]
     },
     "execution_count": 33,
     "metadata": {},
     "output_type": "execute_result"
    }
   ],
   "source": [
    "pwd"
   ]
  },
  {
   "cell_type": "code",
   "execution_count": 34,
   "id": "0485dbdb-f63f-4396-8f09-840f39ef20dd",
   "metadata": {},
   "outputs": [],
   "source": [
    "import data_sanitizer"
   ]
  },
  {
   "cell_type": "code",
   "execution_count": 35,
   "id": "a9a683f3-12f5-4625-bb3e-e0c01413aa9d",
   "metadata": {},
   "outputs": [
    {
     "name": "stdout",
     "output_type": "stream",
     "text": [
      "['__builtins__', '__cached__', '__doc__', '__file__', '__loader__', '__name__', '__package__', '__spec__', 'app_tools', 'janitor', 'st']\n"
     ]
    }
   ],
   "source": [
    "print(dir(data_sanitizer))"
   ]
  },
  {
   "cell_type": "code",
   "execution_count": 36,
   "id": "a7fd5753-1d1a-4768-aca7-d1900c3da37d",
   "metadata": {},
   "outputs": [
    {
     "data": {
      "text/plain": [
       "<module 'data_sanitizer' from 'C:\\\\Users\\\\admin\\\\Desktop\\\\2024_projects\\\\showcase\\\\app_tools\\\\data_sanitizer.py'>"
      ]
     },
     "metadata": {},
     "output_type": "display_data"
    },
    {
     "name": "stdout",
     "output_type": "stream",
     "text": [
      "['__builtins__', '__cached__', '__doc__', '__file__', '__loader__', '__name__', '__package__', '__spec__', 'app_tools', 'janitor', 'st']\n"
     ]
    }
   ],
   "source": [
    "dt_san = data_sanitizer\n",
    "display(dt_san)\n",
    "print(dir(dt_san))"
   ]
  },
  {
   "cell_type": "code",
   "execution_count": 37,
   "id": "15137678-37a9-426b-a715-f778c6648756",
   "metadata": {},
   "outputs": [
    {
     "data": {
      "text/plain": [
       "<module 'app_tools' from 'C:\\\\Users\\\\admin\\\\Desktop\\\\2024_projects\\\\showcase\\\\app_tools\\\\__init__.py'>"
      ]
     },
     "metadata": {},
     "output_type": "display_data"
    },
    {
     "name": "stdout",
     "output_type": "stream",
     "text": [
      "['__builtins__', '__cached__', '__doc__', '__file__', '__loader__', '__name__', '__package__', '__path__', '__spec__', 'cln', 'data_sanitizer', 'frontend']\n"
     ]
    }
   ],
   "source": [
    "app_tools = dt_san.app_tools\n",
    "display(app_tools)\n",
    "print(dir(app_tools))"
   ]
  },
  {
   "cell_type": "code",
   "execution_count": 38,
   "id": "ab95f18b-46e2-4a6f-8cb7-e87d002455a0",
   "metadata": {},
   "outputs": [
    {
     "data": {
      "text/plain": [
       "<module 'frontend' from 'C:\\\\Users\\\\admin\\\\Desktop\\\\2024_projects\\\\showcase\\\\frontend\\\\__init__.py'>"
      ]
     },
     "metadata": {},
     "output_type": "display_data"
    },
    {
     "name": "stdout",
     "output_type": "stream",
     "text": [
      "['Path', '__builtins__', '__cached__', '__doc__', '__file__', '__loader__', '__name__', '__package__', '__path__', '__spec__', 'csv_ex', 'csv_example', 'pct', 'pd', 'st']\n"
     ]
    }
   ],
   "source": [
    "fe = app_tools.frontend\n",
    "display(fe)\n",
    "print(dir(fe))"
   ]
  },
  {
   "cell_type": "code",
   "execution_count": 39,
   "id": "ee43fd1b-6cd4-44d5-9c83-54f7cbfc022f",
   "metadata": {},
   "outputs": [
    {
     "data": {
      "text/plain": [
       "<module 'pct_change' from 'C:\\\\Users\\\\admin\\\\Desktop\\\\2024_projects\\\\showcase\\\\pct_change.py'>"
      ]
     },
     "metadata": {},
     "output_type": "display_data"
    },
    {
     "name": "stdout",
     "output_type": "stream",
     "text": [
      "['__builtins__', '__cached__', '__doc__', '__file__', '__loader__', '__name__', '__package__', '__spec__', 'csv_path', 'main', 'pd', 'read_csv', 'sys']\n"
     ]
    }
   ],
   "source": [
    "pct = fe.pct\n",
    "display(pct)\n",
    "print(dir(pct))"
   ]
  },
  {
   "cell_type": "code",
   "execution_count": 40,
   "id": "b438309c-e543-46f6-ba1e-372da5f81762",
   "metadata": {},
   "outputs": [
    {
     "data": {
      "text/plain": [
       "'C:\\\\Users\\\\admin\\\\Desktop\\\\2024_projects\\\\showcase\\\\app_tools'"
      ]
     },
     "execution_count": 40,
     "metadata": {},
     "output_type": "execute_result"
    }
   ],
   "source": [
    "pwd"
   ]
  },
  {
   "cell_type": "code",
   "execution_count": 41,
   "id": "b29c7fe0-9d17-4926-9b47-cb0ad0c7027e",
   "metadata": {},
   "outputs": [
    {
     "data": {
      "text/plain": [
       "Date         0\n",
       "Open         0\n",
       "High         0\n",
       "Low          0\n",
       "Close        0\n",
       "Adj Close    0\n",
       "Volume       0\n",
       "dtype: int64"
      ]
     },
     "execution_count": 41,
     "metadata": {},
     "output_type": "execute_result"
    }
   ],
   "source": [
    "dt_san.janitor(amzn_df)"
   ]
  },
  {
   "cell_type": "code",
   "execution_count": 42,
   "id": "670d0798-9c3a-4a54-950c-86112d0bf952",
   "metadata": {},
   "outputs": [
    {
     "name": "stdout",
     "output_type": "stream",
     "text": [
      "['_RELOADING', '__all__', '__builtins__', '__cached__', '__doc__', '__file__', '__import__', '__loader__', '__name__', '__package__', '__path__', '__spec__', '_abc', '_adapters', '_bootstrap', '_bootstrap_external', '_common', '_imp', '_pack_uint32', '_unpack_uint32', 'abc', 'find_loader', 'import_module', 'invalidate_caches', 'machinery', 'metadata', 'readers', 'reload', 'resources', 'sys', 'util', 'warnings']\n"
     ]
    }
   ],
   "source": [
    "print(dir(importlib))"
   ]
  },
  {
   "cell_type": "code",
   "execution_count": 43,
   "id": "ce401987-f909-4673-a9ce-6670495b9369",
   "metadata": {},
   "outputs": [
    {
     "name": "stdout",
     "output_type": "stream",
     "text": [
      "['__annotations__', '__builtins__', '__call__', '__class__', '__closure__', '__code__', '__defaults__', '__delattr__', '__dict__', '__dir__', '__doc__', '__eq__', '__format__', '__ge__', '__get__', '__getattribute__', '__globals__', '__gt__', '__hash__', '__init__', '__init_subclass__', '__kwdefaults__', '__le__', '__lt__', '__module__', '__name__', '__ne__', '__new__', '__qualname__', '__reduce__', '__reduce_ex__', '__repr__', '__setattr__', '__sizeof__', '__str__', '__subclasshook__']\n"
     ]
    }
   ],
   "source": [
    "print(dir(reload))"
   ]
  },
  {
   "cell_type": "code",
   "execution_count": 44,
   "id": "42ecca4c-441b-446b-9b89-cf0435b84d49",
   "metadata": {},
   "outputs": [
    {
     "name": "stdout",
     "output_type": "stream",
     "text": [
      "<class 'tuple'>\n",
      "<class 'tuple'>\n"
     ]
    }
   ],
   "source": [
    "for df in dfs.items():\n",
    "    print(type(df))"
   ]
  },
  {
   "cell_type": "code",
   "execution_count": 45,
   "id": "71d42ec6-9425-4219-8462-99c1893f1cfb",
   "metadata": {},
   "outputs": [
    {
     "name": "stdout",
     "output_type": "stream",
     "text": [
      "['__class__', '__class_getitem__', '__contains__', '__delattr__', '__delitem__', '__dir__', '__doc__', '__eq__', '__format__', '__ge__', '__getattribute__', '__getitem__', '__gt__', '__hash__', '__init__', '__init_subclass__', '__ior__', '__iter__', '__le__', '__len__', '__lt__', '__ne__', '__new__', '__or__', '__reduce__', '__reduce_ex__', '__repr__', '__reversed__', '__ror__', '__setattr__', '__setitem__', '__sizeof__', '__str__', '__subclasshook__', 'clear', 'copy', 'fromkeys', 'get', 'items', 'keys', 'pop', 'popitem', 'setdefault', 'update', 'values']\n"
     ]
    }
   ],
   "source": [
    "print(dir(dfs))"
   ]
  },
  {
   "cell_type": "code",
   "execution_count": 46,
   "id": "88a195fe-39e0-403a-a320-816f8c076ea2",
   "metadata": {},
   "outputs": [
    {
     "name": "stdout",
     "output_type": "stream",
     "text": [
      "['Close', 'Date', 'High', 'Low', 'Open', 'T', 'Volume', '_AXIS_LEN', '_AXIS_ORDERS', '_AXIS_TO_AXIS_NUMBER', '_HANDLED_TYPES', '__abs__', '__add__', '__and__', '__annotations__', '__array__', '__array_priority__', '__array_ufunc__', '__bool__', '__class__', '__contains__', '__copy__', '__dataframe__', '__deepcopy__', '__delattr__', '__delitem__', '__dict__', '__dir__', '__divmod__', '__doc__', '__eq__', '__finalize__', '__floordiv__', '__format__', '__ge__', '__getattr__', '__getattribute__', '__getitem__', '__getstate__', '__gt__', '__hash__', '__iadd__', '__iand__', '__ifloordiv__', '__imod__', '__imul__', '__init__', '__init_subclass__', '__invert__', '__ior__', '__ipow__', '__isub__', '__iter__', '__itruediv__', '__ixor__', '__le__', '__len__', '__lt__', '__matmul__', '__mod__', '__module__', '__mul__', '__ne__', '__neg__', '__new__', '__nonzero__', '__or__', '__pos__', '__pow__', '__radd__', '__rand__', '__rdivmod__', '__reduce__', '__reduce_ex__', '__repr__', '__rfloordiv__', '__rmatmul__', '__rmod__', '__rmul__', '__ror__', '__round__', '__rpow__', '__rsub__', '__rtruediv__', '__rxor__', '__setattr__', '__setitem__', '__setstate__', '__sizeof__', '__str__', '__sub__', '__subclasshook__', '__truediv__', '__weakref__', '__xor__', '_accessors', '_accum_func', '_add_numeric_operations', '_agg_examples_doc', '_agg_summary_and_see_also_doc', '_align_frame', '_align_series', '_append', '_arith_method', '_as_manager', '_attrs', '_box_col_values', '_can_fast_transpose', '_check_inplace_and_allows_duplicate_labels', '_check_inplace_setting', '_check_is_chained_assignment_possible', '_check_label_or_level_ambiguity', '_check_setitem_copy', '_clear_item_cache', '_clip_with_one_bound', '_clip_with_scalar', '_cmp_method', '_combine_frame', '_consolidate', '_consolidate_inplace', '_construct_axes_dict', '_construct_result', '_constructor', '_constructor_sliced', '_create_data_for_split_and_tight_to_dict', '_data', '_dir_additions', '_dir_deletions', '_dispatch_frame_op', '_drop_axis', '_drop_labels_or_levels', '_ensure_valid_index', '_find_valid_index', '_flags', '_from_arrays', '_get_agg_axis', '_get_axis', '_get_axis_name', '_get_axis_number', '_get_axis_resolvers', '_get_block_manager_axis', '_get_bool_data', '_get_cleaned_column_resolvers', '_get_column_array', '_get_index_resolvers', '_get_item_cache', '_get_label_or_level_values', '_get_numeric_data', '_get_value', '_getitem_bool_array', '_getitem_multilevel', '_getitem_nocopy', '_gotitem', '_hidden_attrs', '_indexed_same', '_info_axis', '_info_axis_name', '_info_axis_number', '_info_repr', '_init_mgr', '_inplace_method', '_internal_names', '_internal_names_set', '_is_copy', '_is_homogeneous_type', '_is_label_or_level_reference', '_is_label_reference', '_is_level_reference', '_is_mixed_type', '_is_view', '_iset_item', '_iset_item_mgr', '_iset_not_inplace', '_item_cache', '_iter_column_arrays', '_ixs', '_join_compat', '_logical_func', '_logical_method', '_maybe_cache_changed', '_maybe_update_cacher', '_metadata', '_mgr', '_min_count_stat_function', '_needs_reindex_multi', '_protect_consolidate', '_reduce', '_reduce_axis1', '_reindex_axes', '_reindex_columns', '_reindex_index', '_reindex_multi', '_reindex_with_indexers', '_rename', '_replace_columnwise', '_repr_data_resource_', '_repr_fits_horizontal_', '_repr_fits_vertical_', '_repr_html_', '_repr_latex_', '_reset_cache', '_reset_cacher', '_sanitize_column', '_series', '_set_axis', '_set_axis_name', '_set_axis_nocheck', '_set_is_copy', '_set_item', '_set_item_frame_value', '_set_item_mgr', '_set_value', '_setitem_array', '_setitem_frame', '_setitem_slice', '_slice', '_stat_axis', '_stat_axis_name', '_stat_axis_number', '_stat_function', '_stat_function_ddof', '_take', '_take_with_is_copy', '_to_dict_of_blocks', '_to_latex_via_styler', '_typ', '_update_inplace', '_validate_dtype', '_values', '_where', 'abs', 'add', 'add_prefix', 'add_suffix', 'agg', 'aggregate', 'align', 'all', 'any', 'apply', 'applymap', 'asfreq', 'asof', 'assign', 'astype', 'at', 'at_time', 'attrs', 'axes', 'backfill', 'between_time', 'bfill', 'bool', 'boxplot', 'clip', 'columns', 'combine', 'combine_first', 'compare', 'convert_dtypes', 'copy', 'corr', 'corrwith', 'count', 'cov', 'cummax', 'cummin', 'cumprod', 'cumsum', 'describe', 'diff', 'div', 'divide', 'dot', 'drop', 'drop_duplicates', 'droplevel', 'dropna', 'dtypes', 'duplicated', 'empty', 'eq', 'equals', 'eval', 'ewm', 'expanding', 'explode', 'ffill', 'fillna', 'filter', 'first', 'first_valid_index', 'flags', 'floordiv', 'from_dict', 'from_records', 'ge', 'get', 'groupby', 'gt', 'head', 'hist', 'iat', 'idxmax', 'idxmin', 'iloc', 'index', 'infer_objects', 'info', 'insert', 'interpolate', 'isetitem', 'isin', 'isna', 'isnull', 'items', 'iterrows', 'itertuples', 'join', 'keys', 'kurt', 'kurtosis', 'last', 'last_valid_index', 'le', 'loc', 'lt', 'mask', 'max', 'mean', 'median', 'melt', 'memory_usage', 'merge', 'min', 'mod', 'mode', 'mul', 'multiply', 'ndim', 'ne', 'nlargest', 'notna', 'notnull', 'nsmallest', 'nunique', 'pad', 'pct_change', 'pipe', 'pivot', 'pivot_table', 'plot', 'pop', 'pow', 'prod', 'product', 'quantile', 'query', 'radd', 'rank', 'rdiv', 'reindex', 'reindex_like', 'rename', 'rename_axis', 'reorder_levels', 'replace', 'resample', 'reset_index', 'rfloordiv', 'rmod', 'rmul', 'rolling', 'round', 'rpow', 'rsub', 'rtruediv', 'sample', 'select_dtypes', 'sem', 'set_axis', 'set_flags', 'set_index', 'shape', 'shift', 'size', 'skew', 'sort_index', 'sort_values', 'squeeze', 'stack', 'std', 'style', 'sub', 'subtract', 'sum', 'swapaxes', 'swaplevel', 'tail', 'take', 'to_clipboard', 'to_csv', 'to_dict', 'to_excel', 'to_feather', 'to_gbq', 'to_hdf', 'to_html', 'to_json', 'to_latex', 'to_markdown', 'to_numpy', 'to_orc', 'to_parquet', 'to_period', 'to_pickle', 'to_records', 'to_sql', 'to_stata', 'to_string', 'to_timestamp', 'to_xarray', 'to_xml', 'transform', 'transpose', 'truediv', 'truncate', 'tz_convert', 'tz_localize', 'unstack', 'update', 'value_counts', 'values', 'var', 'where', 'xs']\n",
      "==================================================\n",
      "{'_is_copy': None, '_mgr': BlockManager\n",
      "Items: Index(['Date', 'Open', 'High', 'Low', 'Close', 'Adj Close', 'Volume'], dtype='object')\n",
      "Axis 1: RangeIndex(start=0, stop=235, step=1)\n",
      "ObjectBlock: slice(0, 1, 1), 1 x 235, dtype: object\n",
      "NumericBlock: slice(1, 6, 1), 5 x 235, dtype: float64\n",
      "NumericBlock: slice(6, 7, 1), 1 x 235, dtype: int64, '_item_cache': {'Date': 0      2018-09-04\n",
      "1      2018-09-05\n",
      "2      2018-09-06\n",
      "3      2018-09-07\n",
      "4      2018-09-10\n",
      "          ...    \n",
      "230    2019-08-05\n",
      "231    2019-08-06\n",
      "232    2019-08-07\n",
      "233    2019-08-08\n",
      "234    2019-08-09\n",
      "Name: Date, Length: 235, dtype: object, 'Open': 0      2026.500000\n",
      "1      2038.109985\n",
      "2      2006.510010\n",
      "3      1938.709961\n",
      "4      1971.000000\n",
      "          ...     \n",
      "230    1770.219971\n",
      "231    1792.229980\n",
      "232    1773.989990\n",
      "233    1806.000000\n",
      "234    1828.949951\n",
      "Name: Open, Length: 235, dtype: float64, 'High': 0      2050.500000\n",
      "1      2040.380005\n",
      "2      2007.500000\n",
      "3      1975.199951\n",
      "4      1973.040039\n",
      "          ...     \n",
      "230    1788.670044\n",
      "231    1793.770020\n",
      "232    1798.930054\n",
      "233    1834.260010\n",
      "234    1831.089966\n",
      "Name: High, Length: 235, dtype: float64, 'Low': 0      2013.000000\n",
      "1      1989.890015\n",
      "2      1935.209961\n",
      "3      1937.349976\n",
      "4      1931.520020\n",
      "          ...     \n",
      "230    1748.780029\n",
      "231    1753.400024\n",
      "232    1757.000000\n",
      "233    1798.109985\n",
      "234    1802.219971\n",
      "Name: Low, Length: 235, dtype: float64, 'Close': 0      2039.510010\n",
      "1      1994.819946\n",
      "2      1958.310059\n",
      "3      1952.069946\n",
      "4      1939.010010\n",
      "          ...     \n",
      "230    1765.130005\n",
      "231    1787.829956\n",
      "232    1793.400024\n",
      "233    1832.890015\n",
      "234    1807.579956\n",
      "Name: Close, Length: 235, dtype: float64, 'Adj Close': 0      2039.510010\n",
      "1      1994.819946\n",
      "2      1958.310059\n",
      "3      1952.069946\n",
      "4      1939.010010\n",
      "          ...     \n",
      "230    1765.130005\n",
      "231    1787.829956\n",
      "232    1793.400024\n",
      "233    1832.890015\n",
      "234    1807.579956\n",
      "Name: Adj Close, Length: 235, dtype: float64, 'Volume': 0      5721100\n",
      "1      8220600\n",
      "2      7488700\n",
      "3      4892600\n",
      "4      4544800\n",
      "        ...   \n",
      "230    6058200\n",
      "231    5070300\n",
      "232    4526900\n",
      "233    3701200\n",
      "234    2829600\n",
      "Name: Volume, Length: 235, dtype: int64}, '_attrs': {}, '_flags': <Flags(allows_duplicate_labels=True)>}\n"
     ]
    }
   ],
   "source": [
    "print(dir(amzn_df))\n",
    "print(\"=\"*50)\n",
    "print(amzn_df.__dict__)"
   ]
  },
  {
   "cell_type": "code",
   "execution_count": 47,
   "id": "9ab6991f-93b8-43cb-acb8-9fb8d1ab8d16",
   "metadata": {},
   "outputs": [
    {
     "data": {
      "text/plain": [
       "dict_items"
      ]
     },
     "execution_count": 47,
     "metadata": {},
     "output_type": "execute_result"
    }
   ],
   "source": [
    "type(dfs.items())"
   ]
  },
  {
   "cell_type": "code",
   "execution_count": 48,
   "id": "5933ca79-b821-417b-afc0-afb4eaecf2bb",
   "metadata": {},
   "outputs": [],
   "source": [
    "col_df = []\n",
    "for col in amzn_df.keys():\n",
    "    label = col.lower()\n",
    "    col_df.append(label)"
   ]
  },
  {
   "cell_type": "code",
   "execution_count": 49,
   "id": "ab69bdd5-bec2-4ace-b2ad-ae113ed97aef",
   "metadata": {},
   "outputs": [],
   "source": [
    "amzn_df.columns=col_df"
   ]
  },
  {
   "cell_type": "code",
   "execution_count": 50,
   "id": "7997569d-5f24-462b-8529-bb69d5c2b46c",
   "metadata": {},
   "outputs": [
    {
     "data": {
      "text/html": [
       "<div>\n",
       "<style scoped>\n",
       "    .dataframe tbody tr th:only-of-type {\n",
       "        vertical-align: middle;\n",
       "    }\n",
       "\n",
       "    .dataframe tbody tr th {\n",
       "        vertical-align: top;\n",
       "    }\n",
       "\n",
       "    .dataframe thead th {\n",
       "        text-align: right;\n",
       "    }\n",
       "</style>\n",
       "<table border=\"1\" class=\"dataframe\">\n",
       "  <thead>\n",
       "    <tr style=\"text-align: right;\">\n",
       "      <th></th>\n",
       "      <th>date</th>\n",
       "      <th>open</th>\n",
       "      <th>high</th>\n",
       "      <th>low</th>\n",
       "      <th>close</th>\n",
       "      <th>adj close</th>\n",
       "      <th>volume</th>\n",
       "    </tr>\n",
       "  </thead>\n",
       "  <tbody>\n",
       "    <tr>\n",
       "      <th>0</th>\n",
       "      <td>2018-09-04</td>\n",
       "      <td>2026.500000</td>\n",
       "      <td>2050.500000</td>\n",
       "      <td>2013.000000</td>\n",
       "      <td>2039.510010</td>\n",
       "      <td>2039.510010</td>\n",
       "      <td>5721100</td>\n",
       "    </tr>\n",
       "    <tr>\n",
       "      <th>1</th>\n",
       "      <td>2018-09-05</td>\n",
       "      <td>2038.109985</td>\n",
       "      <td>2040.380005</td>\n",
       "      <td>1989.890015</td>\n",
       "      <td>1994.819946</td>\n",
       "      <td>1994.819946</td>\n",
       "      <td>8220600</td>\n",
       "    </tr>\n",
       "    <tr>\n",
       "      <th>2</th>\n",
       "      <td>2018-09-06</td>\n",
       "      <td>2006.510010</td>\n",
       "      <td>2007.500000</td>\n",
       "      <td>1935.209961</td>\n",
       "      <td>1958.310059</td>\n",
       "      <td>1958.310059</td>\n",
       "      <td>7488700</td>\n",
       "    </tr>\n",
       "    <tr>\n",
       "      <th>3</th>\n",
       "      <td>2018-09-07</td>\n",
       "      <td>1938.709961</td>\n",
       "      <td>1975.199951</td>\n",
       "      <td>1937.349976</td>\n",
       "      <td>1952.069946</td>\n",
       "      <td>1952.069946</td>\n",
       "      <td>4892600</td>\n",
       "    </tr>\n",
       "    <tr>\n",
       "      <th>4</th>\n",
       "      <td>2018-09-10</td>\n",
       "      <td>1971.000000</td>\n",
       "      <td>1973.040039</td>\n",
       "      <td>1931.520020</td>\n",
       "      <td>1939.010010</td>\n",
       "      <td>1939.010010</td>\n",
       "      <td>4544800</td>\n",
       "    </tr>\n",
       "    <tr>\n",
       "      <th>...</th>\n",
       "      <td>...</td>\n",
       "      <td>...</td>\n",
       "      <td>...</td>\n",
       "      <td>...</td>\n",
       "      <td>...</td>\n",
       "      <td>...</td>\n",
       "      <td>...</td>\n",
       "    </tr>\n",
       "    <tr>\n",
       "      <th>230</th>\n",
       "      <td>2019-08-05</td>\n",
       "      <td>1770.219971</td>\n",
       "      <td>1788.670044</td>\n",
       "      <td>1748.780029</td>\n",
       "      <td>1765.130005</td>\n",
       "      <td>1765.130005</td>\n",
       "      <td>6058200</td>\n",
       "    </tr>\n",
       "    <tr>\n",
       "      <th>231</th>\n",
       "      <td>2019-08-06</td>\n",
       "      <td>1792.229980</td>\n",
       "      <td>1793.770020</td>\n",
       "      <td>1753.400024</td>\n",
       "      <td>1787.829956</td>\n",
       "      <td>1787.829956</td>\n",
       "      <td>5070300</td>\n",
       "    </tr>\n",
       "    <tr>\n",
       "      <th>232</th>\n",
       "      <td>2019-08-07</td>\n",
       "      <td>1773.989990</td>\n",
       "      <td>1798.930054</td>\n",
       "      <td>1757.000000</td>\n",
       "      <td>1793.400024</td>\n",
       "      <td>1793.400024</td>\n",
       "      <td>4526900</td>\n",
       "    </tr>\n",
       "    <tr>\n",
       "      <th>233</th>\n",
       "      <td>2019-08-08</td>\n",
       "      <td>1806.000000</td>\n",
       "      <td>1834.260010</td>\n",
       "      <td>1798.109985</td>\n",
       "      <td>1832.890015</td>\n",
       "      <td>1832.890015</td>\n",
       "      <td>3701200</td>\n",
       "    </tr>\n",
       "    <tr>\n",
       "      <th>234</th>\n",
       "      <td>2019-08-09</td>\n",
       "      <td>1828.949951</td>\n",
       "      <td>1831.089966</td>\n",
       "      <td>1802.219971</td>\n",
       "      <td>1807.579956</td>\n",
       "      <td>1807.579956</td>\n",
       "      <td>2829600</td>\n",
       "    </tr>\n",
       "  </tbody>\n",
       "</table>\n",
       "<p>235 rows × 7 columns</p>\n",
       "</div>"
      ],
      "text/plain": [
       "           date         open         high          low        close   \n",
       "0    2018-09-04  2026.500000  2050.500000  2013.000000  2039.510010  \\\n",
       "1    2018-09-05  2038.109985  2040.380005  1989.890015  1994.819946   \n",
       "2    2018-09-06  2006.510010  2007.500000  1935.209961  1958.310059   \n",
       "3    2018-09-07  1938.709961  1975.199951  1937.349976  1952.069946   \n",
       "4    2018-09-10  1971.000000  1973.040039  1931.520020  1939.010010   \n",
       "..          ...          ...          ...          ...          ...   \n",
       "230  2019-08-05  1770.219971  1788.670044  1748.780029  1765.130005   \n",
       "231  2019-08-06  1792.229980  1793.770020  1753.400024  1787.829956   \n",
       "232  2019-08-07  1773.989990  1798.930054  1757.000000  1793.400024   \n",
       "233  2019-08-08  1806.000000  1834.260010  1798.109985  1832.890015   \n",
       "234  2019-08-09  1828.949951  1831.089966  1802.219971  1807.579956   \n",
       "\n",
       "       adj close   volume  \n",
       "0    2039.510010  5721100  \n",
       "1    1994.819946  8220600  \n",
       "2    1958.310059  7488700  \n",
       "3    1952.069946  4892600  \n",
       "4    1939.010010  4544800  \n",
       "..           ...      ...  \n",
       "230  1765.130005  6058200  \n",
       "231  1787.829956  5070300  \n",
       "232  1793.400024  4526900  \n",
       "233  1832.890015  3701200  \n",
       "234  1807.579956  2829600  \n",
       "\n",
       "[235 rows x 7 columns]"
      ]
     },
     "execution_count": 50,
     "metadata": {},
     "output_type": "execute_result"
    }
   ],
   "source": [
    "amzn_df"
   ]
  },
  {
   "cell_type": "code",
   "execution_count": 51,
   "id": "d86e9bd6-27a0-4aa4-a3c8-0067054796cc",
   "metadata": {},
   "outputs": [
    {
     "name": "stdout",
     "output_type": "stream",
     "text": [
      "{'amzn': 'AMAZON', 'sox': 'SOX'}\n",
      "{'amzn': 'AMAZON', 'sox': 'SOX'}\n"
     ]
    }
   ],
   "source": [
    "print(symbols)\n",
    "print(symbol_dict)"
   ]
  },
  {
   "cell_type": "code",
   "execution_count": 52,
   "id": "5bc7a52b-66d9-4f55-b4a9-726b9f32411c",
   "metadata": {},
   "outputs": [],
   "source": [
    "\n",
    "\n",
    "def df_low():\n",
    "    for df in dfs:\n",
    "        return df\n",
    "        # for k, v in symbols.items():\n",
    "        # stock_df = dfs[df]\n",
    "        # cols = stock_df.keys()\n",
    "        \n",
    "        # col_label1 = []\n",
    "\n",
    "        # stock_df.rename_axis=col_label1\n",
    "        \n",
    "        \n",
    "        # for col in cols:\n",
    "        #     label = col.lower()\n",
    "        #     col_label1.append(label)\n",
    "        #     # stock_df.columns = col_label\n",
    "        #     # print(stock_df)\n",
    "        #     return stock_df\n",
    "            \n"
   ]
  },
  {
   "cell_type": "code",
   "execution_count": 53,
   "id": "35ce4974-94f2-49bd-908e-6ab179aacc27",
   "metadata": {},
   "outputs": [
    {
     "data": {
      "text/plain": [
       "'amzn'"
      ]
     },
     "execution_count": 53,
     "metadata": {},
     "output_type": "execute_result"
    }
   ],
   "source": [
    "df_low()"
   ]
  },
  {
   "cell_type": "code",
   "execution_count": 55,
   "id": "d91b3172-c18d-408a-8eaa-dd7b76f3a1c9",
   "metadata": {},
   "outputs": [
    {
     "data": {
      "text/html": [
       "<div>\n",
       "<style scoped>\n",
       "    .dataframe tbody tr th:only-of-type {\n",
       "        vertical-align: middle;\n",
       "    }\n",
       "\n",
       "    .dataframe tbody tr th {\n",
       "        vertical-align: top;\n",
       "    }\n",
       "\n",
       "    .dataframe thead th {\n",
       "        text-align: right;\n",
       "    }\n",
       "</style>\n",
       "<table border=\"1\" class=\"dataframe\">\n",
       "  <thead>\n",
       "    <tr style=\"text-align: right;\">\n",
       "      <th></th>\n",
       "      <th>Date</th>\n",
       "      <th>Open</th>\n",
       "      <th>High</th>\n",
       "      <th>Low</th>\n",
       "      <th>Close</th>\n",
       "    </tr>\n",
       "  </thead>\n",
       "  <tbody>\n",
       "    <tr>\n",
       "      <th>0</th>\n",
       "      <td>2015-05-26 09:30:00</td>\n",
       "      <td>719.51</td>\n",
       "      <td>720.32</td>\n",
       "      <td>714.11</td>\n",
       "      <td>714.70</td>\n",
       "    </tr>\n",
       "    <tr>\n",
       "      <th>1</th>\n",
       "      <td>2015-05-26 10:00:00</td>\n",
       "      <td>714.70</td>\n",
       "      <td>715.58</td>\n",
       "      <td>712.02</td>\n",
       "      <td>713.89</td>\n",
       "    </tr>\n",
       "    <tr>\n",
       "      <th>2</th>\n",
       "      <td>2015-05-26 12:00:00</td>\n",
       "      <td>713.89</td>\n",
       "      <td>714.56</td>\n",
       "      <td>711.89</td>\n",
       "      <td>711.95</td>\n",
       "    </tr>\n",
       "    <tr>\n",
       "      <th>3</th>\n",
       "      <td>2015-05-26 14:00:00</td>\n",
       "      <td>711.95</td>\n",
       "      <td>715.43</td>\n",
       "      <td>711.44</td>\n",
       "      <td>714.79</td>\n",
       "    </tr>\n",
       "    <tr>\n",
       "      <th>4</th>\n",
       "      <td>2015-05-27 09:30:00</td>\n",
       "      <td>716.49</td>\n",
       "      <td>723.03</td>\n",
       "      <td>716.21</td>\n",
       "      <td>721.83</td>\n",
       "    </tr>\n",
       "    <tr>\n",
       "      <th>...</th>\n",
       "      <td>...</td>\n",
       "      <td>...</td>\n",
       "      <td>...</td>\n",
       "      <td>...</td>\n",
       "      <td>...</td>\n",
       "    </tr>\n",
       "    <tr>\n",
       "      <th>4952</th>\n",
       "      <td>2020-05-12 14:00:00</td>\n",
       "      <td>1773.22</td>\n",
       "      <td>1774.03</td>\n",
       "      <td>1724.40</td>\n",
       "      <td>1724.59</td>\n",
       "    </tr>\n",
       "    <tr>\n",
       "      <th>4953</th>\n",
       "      <td>2020-05-13 09:30:00</td>\n",
       "      <td>1729.62</td>\n",
       "      <td>1733.20</td>\n",
       "      <td>1708.62</td>\n",
       "      <td>1721.73</td>\n",
       "    </tr>\n",
       "    <tr>\n",
       "      <th>4954</th>\n",
       "      <td>2020-05-13 10:00:00</td>\n",
       "      <td>1721.50</td>\n",
       "      <td>1741.61</td>\n",
       "      <td>1689.48</td>\n",
       "      <td>1693.28</td>\n",
       "    </tr>\n",
       "    <tr>\n",
       "      <th>4955</th>\n",
       "      <td>2020-05-13 12:00:00</td>\n",
       "      <td>1693.33</td>\n",
       "      <td>1695.57</td>\n",
       "      <td>1674.23</td>\n",
       "      <td>1676.15</td>\n",
       "    </tr>\n",
       "    <tr>\n",
       "      <th>4956</th>\n",
       "      <td>2020-05-13 14:00:00</td>\n",
       "      <td>1675.86</td>\n",
       "      <td>1694.44</td>\n",
       "      <td>1667.52</td>\n",
       "      <td>1691.58</td>\n",
       "    </tr>\n",
       "  </tbody>\n",
       "</table>\n",
       "<p>4957 rows × 5 columns</p>\n",
       "</div>"
      ],
      "text/plain": [
       "                     Date    Open      High      Low    Close\n",
       "0     2015-05-26 09:30:00   719.51   720.32   714.11   714.70\n",
       "1     2015-05-26 10:00:00   714.70   715.58   712.02   713.89\n",
       "2     2015-05-26 12:00:00   713.89   714.56   711.89   711.95\n",
       "3     2015-05-26 14:00:00   711.95   715.43   711.44   714.79\n",
       "4     2015-05-27 09:30:00   716.49   723.03   716.21   721.83\n",
       "...                   ...      ...      ...      ...      ...\n",
       "4952  2020-05-12 14:00:00  1773.22  1774.03  1724.40  1724.59\n",
       "4953  2020-05-13 09:30:00  1729.62  1733.20  1708.62  1721.73\n",
       "4954  2020-05-13 10:00:00  1721.50  1741.61  1689.48  1693.28\n",
       "4955  2020-05-13 12:00:00  1693.33  1695.57  1674.23  1676.15\n",
       "4956  2020-05-13 14:00:00  1675.86  1694.44  1667.52  1691.58\n",
       "\n",
       "[4957 rows x 5 columns]"
      ]
     },
     "execution_count": 55,
     "metadata": {},
     "output_type": "execute_result"
    }
   ],
   "source": [
    "dfs[\"sox\"]"
   ]
  },
  {
   "cell_type": "markdown",
   "id": "84db3b05-0f0c-4316-b61e-bf57c387fbcc",
   "metadata": {},
   "source": [
    "# API: Alpaca"
   ]
  }
 ],
 "metadata": {
  "kernelspec": {
   "display_name": "Python (FinBlockchain)",
   "language": "python",
   "name": "finblockchain"
  },
  "language_info": {
   "codemirror_mode": {
    "name": "ipython",
    "version": 3
   },
   "file_extension": ".py",
   "mimetype": "text/x-python",
   "name": "python",
   "nbconvert_exporter": "python",
   "pygments_lexer": "ipython3",
   "version": "3.10.0"
  }
 },
 "nbformat": 4,
 "nbformat_minor": 5
}
