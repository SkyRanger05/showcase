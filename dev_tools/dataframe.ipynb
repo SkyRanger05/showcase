{
 "cells": [
  {
   "cell_type": "code",
   "execution_count": 1,
   "id": "ea591ae7-5b98-4e61-aac5-f03a7eb0ab3c",
   "metadata": {},
   "outputs": [
    {
     "data": {
      "text/plain": [
       "'C:\\\\Users\\\\admin\\\\Desktop\\\\2024_projects\\\\showcase\\\\dev_tools'"
      ]
     },
     "execution_count": 1,
     "metadata": {},
     "output_type": "execute_result"
    }
   ],
   "source": [
    "pwd"
   ]
  },
  {
   "cell_type": "code",
   "execution_count": 3,
   "id": "272f50c1-ce7d-4210-8146-f54ded63d387",
   "metadata": {},
   "outputs": [
    {
     "name": "stdout",
     "output_type": "stream",
     "text": [
      "C:\\Users\\admin\\Desktop\\2024_projects\\showcase\n"
     ]
    }
   ],
   "source": [
    "cd ..\\"
   ]
  },
  {
   "cell_type": "code",
   "execution_count": 4,
   "id": "d3c5689d-d8ed-4b78-83cb-ece5df02bd0c",
   "metadata": {},
   "outputs": [
    {
     "name": "stdout",
     "output_type": "stream",
     "text": [
      "pct_change.py is run as import.\n"
     ]
    },
    {
     "name": "stderr",
     "output_type": "stream",
     "text": [
      "2024-03-13 03:04:40.346 \n",
      "  \u001b[33m\u001b[1mWarning:\u001b[0m to view this Streamlit app on a browser, run it with the following\n",
      "  command:\n",
      "\n",
      "    streamlit run C:\\Users\\admin\\anaconda3\\envs\\FinBlockchain\\lib\\site-packages\\ipykernel_launcher.py [ARGUMENTS]\n"
     ]
    },
    {
     "name": "stdout",
     "output_type": "stream",
     "text": [
      "Run as import\n"
     ]
    }
   ],
   "source": [
    "import app_main"
   ]
  },
  {
   "cell_type": "code",
   "execution_count": 5,
   "id": "3869d357-91a8-4dfd-aaf4-ebcb7c021592",
   "metadata": {},
   "outputs": [],
   "source": [
    "from frontend import csv_example"
   ]
  },
  {
   "cell_type": "code",
   "execution_count": 6,
   "id": "890cbd13-b2cb-4911-8b11-4029e28ccf72",
   "metadata": {},
   "outputs": [
    {
     "name": "stdout",
     "output_type": "stream",
     "text": [
      "['Path', '__builtins__', '__cached__', '__doc__', '__file__', '__loader__', '__name__', '__package__', '__spec__', 'amzn_csv', 'csv_dict', 'data', 'pct', 'sox_csv', 'st']\n"
     ]
    }
   ],
   "source": [
    "print(dir(csv_example))"
   ]
  },
  {
   "cell_type": "code",
   "execution_count": 7,
   "id": "ac885e19-259e-4613-9749-81926abeff5d",
   "metadata": {},
   "outputs": [
    {
     "data": {
      "text/plain": [
       "{'amzn':            Date         Open         High          Low        Close   \n",
       " 0    2018-09-04  2026.500000  2050.500000  2013.000000  2039.510010  \\\n",
       " 1    2018-09-05  2038.109985  2040.380005  1989.890015  1994.819946   \n",
       " 2    2018-09-06  2006.510010  2007.500000  1935.209961  1958.310059   \n",
       " 3    2018-09-07  1938.709961  1975.199951  1937.349976  1952.069946   \n",
       " 4    2018-09-10  1971.000000  1973.040039  1931.520020  1939.010010   \n",
       " ..          ...          ...          ...          ...          ...   \n",
       " 230  2019-08-05  1770.219971  1788.670044  1748.780029  1765.130005   \n",
       " 231  2019-08-06  1792.229980  1793.770020  1753.400024  1787.829956   \n",
       " 232  2019-08-07  1773.989990  1798.930054  1757.000000  1793.400024   \n",
       " 233  2019-08-08  1806.000000  1834.260010  1798.109985  1832.890015   \n",
       " 234  2019-08-09  1828.949951  1831.089966  1802.219971  1807.579956   \n",
       " \n",
       "        Adj Close   Volume  \n",
       " 0    2039.510010  5721100  \n",
       " 1    1994.819946  8220600  \n",
       " 2    1958.310059  7488700  \n",
       " 3    1952.069946  4892600  \n",
       " 4    1939.010010  4544800  \n",
       " ..           ...      ...  \n",
       " 230  1765.130005  6058200  \n",
       " 231  1787.829956  5070300  \n",
       " 232  1793.400024  4526900  \n",
       " 233  1832.890015  3701200  \n",
       " 234  1807.579956  2829600  \n",
       " \n",
       " [235 rows x 7 columns],\n",
       " 'sox':                      Date    Open      High      Low    Close\n",
       " 0     2015-05-26 09:30:00   719.51   720.32   714.11   714.70\n",
       " 1     2015-05-26 10:00:00   714.70   715.58   712.02   713.89\n",
       " 2     2015-05-26 12:00:00   713.89   714.56   711.89   711.95\n",
       " 3     2015-05-26 14:00:00   711.95   715.43   711.44   714.79\n",
       " 4     2015-05-27 09:30:00   716.49   723.03   716.21   721.83\n",
       " ...                   ...      ...      ...      ...      ...\n",
       " 4952  2020-05-12 14:00:00  1773.22  1774.03  1724.40  1724.59\n",
       " 4953  2020-05-13 09:30:00  1729.62  1733.20  1708.62  1721.73\n",
       " 4954  2020-05-13 10:00:00  1721.50  1741.61  1689.48  1693.28\n",
       " 4955  2020-05-13 12:00:00  1693.33  1695.57  1674.23  1676.15\n",
       " 4956  2020-05-13 14:00:00  1675.86  1694.44  1667.52  1691.58\n",
       " \n",
       " [4957 rows x 5 columns]}"
      ]
     },
     "execution_count": 7,
     "metadata": {},
     "output_type": "execute_result"
    }
   ],
   "source": [
    "csv_example.data()"
   ]
  },
  {
   "cell_type": "code",
   "execution_count": null,
   "id": "298641f8-22b9-4f41-b7fa-8ebd43fa9d65",
   "metadata": {},
   "outputs": [],
   "source": []
  }
 ],
 "metadata": {
  "kernelspec": {
   "display_name": "Python (FinBlockchain)",
   "language": "python",
   "name": "finblockchain"
  },
  "language_info": {
   "codemirror_mode": {
    "name": "ipython",
    "version": 3
   },
   "file_extension": ".py",
   "mimetype": "text/x-python",
   "name": "python",
   "nbconvert_exporter": "python",
   "pygments_lexer": "ipython3",
   "version": "3.10.0"
  }
 },
 "nbformat": 4,
 "nbformat_minor": 5
}
