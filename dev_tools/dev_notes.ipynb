{
 "cells": [
  {
   "cell_type": "markdown",
   "id": "73214588-517b-468a-bc4c-f45b3a528485",
   "metadata": {},
   "source": [
    "# App DevOpps Notes\n",
    "___"
   ]
  },
  {
   "cell_type": "code",
   "execution_count": 1,
   "id": "e541b3a2-cf16-4788-a281-028e7099a923",
   "metadata": {},
   "outputs": [],
   "source": [
    "# Import libraries.\n",
    "import sys\n",
    "from pprint import PrettyPrinter"
   ]
  },
  {
   "cell_type": "code",
   "execution_count": 2,
   "id": "93e8e0b1-10de-4d4d-b4f7-a707f0ffafbc",
   "metadata": {},
   "outputs": [],
   "source": [
    "pp = PrettyPrinter()"
   ]
  },
  {
   "cell_type": "code",
   "execution_count": 3,
   "id": "f52988a6-8254-4d45-baaa-f26ab5b9b0db",
   "metadata": {},
   "outputs": [
    {
     "name": "stdout",
     "output_type": "stream",
     "text": [
      "['C:\\\\Users\\\\admin\\\\Desktop\\\\2024_projects\\\\showcase\\\\dev_tools',\n",
      " 'C:\\\\Users\\\\admin\\\\anaconda3\\\\envs\\\\FinBlockchain\\\\python310.zip',\n",
      " 'C:\\\\Users\\\\admin\\\\anaconda3\\\\envs\\\\FinBlockchain\\\\DLLs',\n",
      " 'C:\\\\Users\\\\admin\\\\anaconda3\\\\envs\\\\FinBlockchain\\\\lib',\n",
      " 'C:\\\\Users\\\\admin\\\\anaconda3\\\\envs\\\\FinBlockchain',\n",
      " '',\n",
      " 'C:\\\\Users\\\\admin\\\\anaconda3\\\\envs\\\\FinBlockchain\\\\lib\\\\site-packages',\n",
      " 'C:\\\\Users\\\\admin\\\\anaconda3\\\\envs\\\\FinBlockchain\\\\lib\\\\site-packages\\\\win32',\n",
      " 'C:\\\\Users\\\\admin\\\\anaconda3\\\\envs\\\\FinBlockchain\\\\lib\\\\site-packages\\\\win32\\\\lib',\n",
      " 'C:\\\\Users\\\\admin\\\\anaconda3\\\\envs\\\\FinBlockchain\\\\lib\\\\site-packages\\\\Pythonwin']\n"
     ]
    }
   ],
   "source": [
    "# Python will look and search the following paths listed below every time it is ask to import packages\n",
    "pp.pprint(sys.path)"
   ]
  }
 ],
 "metadata": {
  "kernelspec": {
   "display_name": "Python (FinBlockchain)",
   "language": "python",
   "name": "finblockchain"
  },
  "language_info": {
   "codemirror_mode": {
    "name": "ipython",
    "version": 3
   },
   "file_extension": ".py",
   "mimetype": "text/x-python",
   "name": "python",
   "nbconvert_exporter": "python",
   "pygments_lexer": "ipython3",
   "version": "3.10.0"
  }
 },
 "nbformat": 4,
 "nbformat_minor": 5
}
